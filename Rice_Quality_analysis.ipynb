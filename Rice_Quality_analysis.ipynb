{
 "cells": [
  {
   "cell_type": "code",
   "execution_count": 193,
   "id": "5690c1e4",
   "metadata": {},
   "outputs": [],
   "source": [
    "#RICE_QUALITY_DETECTION_USING_IMAGE_PROCESSING AND DATA VIZUALIZATION\n",
    " #IMPORTING DATASETS\n",
    "import dash\n",
    "import dash_core_components as dcc\n",
    "import dash_html_components as html\n",
    "import plotly.graph_objects as go\n",
    "from plotly import subplots\n",
    "import pandas as pd\n",
    "import plotly.express as px\n",
    "import numpy as np\n",
    "from dash.dependencies import Input, Output, State\n",
    "import cv2\n",
    "import PIL.Image as image\n",
    "from io import BytesIO\n",
    "import base64\n",
    "from matplotlib import pyplot as plt\n",
    "app = dash.Dash(__name__)"
   ]
  },
  {
   "cell_type": "code",
   "execution_count": 194,
   "id": "91d9c97c",
   "metadata": {},
   "outputs": [],
   "source": [
    "#classification of rice particals\n",
    "def get_classification(ratio):\n",
    "    ratio =round(ratio,1)\n",
    "    toret=\"\"\n",
    "    if(ratio>=3 and ratio<3.5):\n",
    "        toret=\"Slender\"\n",
    "    elif(ratio>=2.1 and ratio<3):\n",
    "        toret=\"Medium\"\n",
    "    elif(ratio>=1.1 and ratio<2.1):\n",
    "        toret=\"Bold\"\n",
    "    elif(ratio>0.9 and ratio<=1):\n",
    "        toret=\"Round\"\n",
    "    else:\n",
    "        toret=\"Dust\"\n",
    "    return toret"
   ]
  },
  {
   "cell_type": "code",
   "execution_count": 195,
   "id": "ee4a2f32",
   "metadata": {},
   "outputs": [],
   "source": [
    "#initialisig the values\n",
    "classification = {\"Slender\":0, \"Medium\":0, \"Bold\":0, \"Round\":0, \"Dust\":0}\n",
    "avg = {\"Slender\":0, \"Medium\":0, \"Bold\":0, \"Round\":0, \"Dust\":0}"
   ]
  },
  {
   "cell_type": "code",
   "execution_count": 196,
   "id": "885a2268",
   "metadata": {},
   "outputs": [
    {
     "data": {
      "image/jpeg": "[encoded data removed]",
      "text/plain": [
       "<IPython.core.display.Image object>"
      ]
     },
     "metadata": {},
     "output_type": "display_data"
    }
   ],
   "source": [
    "#load in greyscale mode\n",
    "from IPython.display import display, Image\n",
    "img = cv2.imread(\"C:/Users/Garima/OneDrive/Research Methodology/Git Folder to be committed/G2_3.jpg\",0)\n",
    "display(Image(filename='C:/Users/Garima/OneDrive/Research Methodology/Git Folder to be committed/G2_3.jpg'))"
   ]
  },
  {
   "cell_type": "code",
   "execution_count": 197,
   "id": "c2b7c798",
   "metadata": {},
   "outputs": [
    {
     "data": {
      "text/plain": [
       "<matplotlib.legend.Legend at 0x1b43ccb1550>"
      ]
     },
     "execution_count": 197,
     "metadata": {},
     "output_type": "execute_result"
    },
    {
     "data": {
      "image/png": "[encoded data removed]",
      "text/plain": [
       "<Figure size 432x288 with 1 Axes>"
      ]
     },
     "metadata": {
      "needs_background": "light"
     },
     "output_type": "display_data"
    }
   ],
   "source": [
    "#histogram part of the image\n",
    "import cv2\n",
    "import numpy as np\n",
    "from matplotlib import pyplot as plt\n",
    "\n",
    "img = cv2.imread('C:/Users/Garima/OneDrive/Research Methodology/Git Folder to be committed/G2_3.jpg',0)\n",
    "\n",
    "hist,bins = np.histogram(img.flatten(),256,[0,256])\n",
    "\n",
    "cdf = hist.cumsum()\n",
    "cdf_normalized = cdf * hist.max()/ cdf.max()\n",
    "\n",
    "plt.plot(cdf_normalized, color = 'b')\n",
    "plt.hist(img.flatten(),256,[0,256], color = 'r')\n",
    "plt.xlim([0,256])\n",
    "plt.legend(('cdf','histogram'), loc = 'upper left')\n",
    "#plt.show()"
   ]
  },
  {
   "cell_type": "code",
   "execution_count": 198,
   "id": "a4ff90e1",
   "metadata": {},
   "outputs": [],
   "source": [
    "#convert into binary\n",
    "# 160 - threshold, 255 - value to assign, THRESH_BINARY_INV - Inverse binary\n",
    "ret,binary = cv2.threshold(img,160,255,cv2.THRESH_BINARY)"
   ]
  },
  {
   "cell_type": "code",
   "execution_count": 199,
   "id": "b5bc440a",
   "metadata": {},
   "outputs": [],
   "source": [
    "#averaging filter\n",
    "kernel = np.ones((5,5),np.float32)/9\n",
    "dst = cv2.filter2D(binary,-1,kernel)\n",
    "# -1 : depth of the destination image\n",
    "kernel2 = cv2.getStructuringElement(cv2.MORPH_ELLIPSE,(3,3))"
   ]
  },
  {
   "cell_type": "code",
   "execution_count": 200,
   "id": "88e803cc",
   "metadata": {},
   "outputs": [],
   "source": [
    "#erosion\n",
    "erosion = cv2.erode(dst,kernel2,iterations = 1)"
   ]
  },
  {
   "cell_type": "code",
   "execution_count": 201,
   "id": "569b6136",
   "metadata": {},
   "outputs": [],
   "source": [
    "#dilation\n",
    "dilation = cv2.dilate(erosion,kernel2,iterations = 1)"
   ]
  },
  {
   "cell_type": "code",
   "execution_count": 202,
   "id": "6a47a6ae",
   "metadata": {},
   "outputs": [],
   "source": [
    "#edge detection\n",
    "edges = cv2.Canny(dilation,100,200)"
   ]
  },
  {
   "cell_type": "code",
   "execution_count": 203,
   "id": "c46bd57e",
   "metadata": {},
   "outputs": [
    {
     "name": "stdout",
     "output_type": "stream",
     "text": [
      "No. of rice grains= 30\n"
     ]
    }
   ],
   "source": [
    "#size detection\n",
    "contours, hierarchy = cv2.findContours(erosion, cv2.RETR_EXTERNAL, cv2.CHAIN_APPROX_SIMPLE)\n",
    "print(\"No. of rice grains=\",len(contours))\n",
    "total_ar=0"
   ]
  },
  {
   "cell_type": "code",
   "execution_count": 204,
   "id": "2cfd6b4b",
   "metadata": {},
   "outputs": [],
   "source": [
    "#counting impurities\n",
    "for cnt in contours:\n",
    "    x,y,w,h = cv2.boundingRect(cnt)\n",
    "    aspect_ratio = float(w)/h\n",
    "    if(aspect_ratio<1):\n",
    "        aspect_ratio=1/aspect_ratio\n",
    "    #print(round(aspect_ratio,2),get_classification(aspect_ratio))\n",
    "    classification[get_classification(aspect_ratio)] += 1\n",
    "    if get_classification(aspect_ratio) != \"Dust\":\n",
    "        total_ar+=aspect_ratio\n",
    "    if get_classification(aspect_ratio) != \"Dust\":\n",
    "        avg[get_classification(aspect_ratio)] += aspect_ratio"
   ]
  },
  {
   "cell_type": "code",
   "execution_count": 205,
   "id": "7eb68634",
   "metadata": {},
   "outputs": [],
   "source": [
    "#getting the average value\n",
    "avg_ar=total_ar/len(contours)"
   ]
  },
  {
   "cell_type": "code",
   "execution_count": 206,
   "id": "aa38f326",
   "metadata": {},
   "outputs": [],
   "source": [
    "#setting the values for classification of rice\n",
    "if classification['Slender']!=0:\n",
    "    avg['Slender'] = avg['Slender']/classification['Slender']\n",
    "if classification['Medium']!=0:\n",
    "    avg['Medium'] = avg['Medium']/classification['Medium']\n",
    "if classification['Bold']!=0:\n",
    "    avg['Bold'] = avg['Bold']/classification['Bold']\n",
    "if classification['Round']!=0:\n",
    "    avg['Round'] = avg['Round']/classification['Round']"
   ]
  },
  {
   "cell_type": "code",
   "execution_count": 207,
   "id": "db516629",
   "metadata": {},
   "outputs": [
    {
     "data": {
      "text/plain": [
       "True"
      ]
     },
     "execution_count": 207,
     "metadata": {},
     "output_type": "execute_result"
    }
   ],
   "source": [
    "#saving different types of images\n",
    "cv2.imwrite(\"C:/Users/Garima/OneDrive/Research Methodology/Quality-Analysis-and-Classification-of-Rice-Grains-master/exp/img.jpg\", img)\n",
    "cv2.imwrite(\"C:/Users/Garima/OneDrive/Research Methodology/Quality-Analysis-and-Classification-of-Rice-Grains-master/exp/binary.jpg\", binary)\n",
    "cv2.imwrite(\"C:/Users/Garima/OneDrive/Research Methodology/Quality-Analysis-and-Classification-of-Rice-Grains-master/exp/dst.jpg\", dst)\n",
    "cv2.imwrite(\"C:/Users/Garima/OneDrive/Research Methodology/Quality-Analysis-and-Classification-of-Rice-Grains-master/exp/erosion.jpg\", erosion)\n",
    "cv2.imwrite(\"C:/Users/Garima/OneDrive/Research Methodology/Quality-Analysis-and-Classification-of-Rice-Grains-master/exp/dilation.jpg\", dilation)\n",
    "cv2.imwrite(\"C:/Users/Garima/OneDrive/Research Methodology/Quality-Analysis-and-Classification-of-Rice-Grains-master/exp/edges.jpg\", edges)"
   ]
  },
  {
   "cell_type": "code",
   "execution_count": 208,
   "id": "ed49ffeb",
   "metadata": {},
   "outputs": [
    {
     "data": {
      "image/png": "[encoded data removed]",
      "text/plain": [
       "<Figure size 432x288 with 1 Axes>"
      ]
     },
     "metadata": {
      "needs_background": "light"
     },
     "output_type": "display_data"
    }
   ],
   "source": [
    "#histogram part for the edge part of the image\n",
    "import cv2\n",
    "import numpy as np\n",
    "from matplotlib import pyplot as plt\n",
    "\n",
    "img = cv2.imread('C:/Users/Garima/OneDrive/Research Methodology/Quality-Analysis-and-Classification-of-Rice-Grains-master/exp/edges.jpg',0)\n",
    "\n",
    "hist,bins = np.histogram(img.flatten(),256,[0,256])\n",
    "\n",
    "cdf = hist.cumsum()\n",
    "cdf_normalized = cdf * hist.max()/ cdf.max()\n",
    "\n",
    "plt.plot(cdf_normalized, color = 'b')\n",
    "plt.hist(img.flatten(),256,[0,256], color = 'r')\n",
    "plt.xlim([0,256])\n",
    "plt.legend(('cdf','histogram'), loc = 'upper left')\n",
    "plt.show()"
   ]
  },
  {
   "cell_type": "code",
   "execution_count": 209,
   "id": "6579192e",
   "metadata": {},
   "outputs": [],
   "source": [
    "#converting rgb to bgr\n",
    "def readb64(base64_string):\n",
    "    sbuf = BytesIO()\n",
    "    sbuf.write(base64.b64decode(base64_string))\n",
    "    pimg = image.open(sbuf)\n",
    "    return cv2.cvtColor(np.array(pimg), cv2.COLOR_RGB2BGR)"
   ]
  },
  {
   "cell_type": "code",
   "execution_count": 210,
   "id": "472c6a2c",
   "metadata": {},
   "outputs": [],
   "source": [
    "#updating the image\n",
    "def update_image(pic):\n",
    "    img = readb64(pic)\n",
    "    img = cv2.cvtColor(img, cv2.COLOR_BGR2GRAY)\n",
    "    classification1 = {\"Slender\":0, \"Medium\":0, \"Bold\":0, \"Round\":0, \"Dust\":0}\n",
    "    avg1 = {\"Slender\":0, \"Medium\":0, \"Bold\":0, \"Round\":0, \"Dust\":0}\n",
    "    #convert into binary\n",
    "    ret,binary = cv2.threshold(img,160,255,cv2.THRESH_BINARY)# 160 - threshold, 255 - value to assign, THRESH_BINARY_INV - Inverse binary\n",
    "    #averaging filter\n",
    "    kernel = np.ones((5,5),np.float32)/9\n",
    "    dst = cv2.filter2D(binary,-1,kernel)# -1 : depth of the destination image\n",
    "\n",
    "    kernel2 = cv2.getStructuringElement(cv2.MORPH_ELLIPSE,(3,3))\n",
    "\n",
    "    #erosion\n",
    "    erosion = cv2.erode(dst,kernel2,iterations = 1)\n",
    "\n",
    "    #dilation\n",
    "    dilation = cv2.dilate(erosion,kernel2,iterations = 1)\n",
    "\n",
    "    #edge detection\n",
    "    edges = cv2.Canny(dilation,100,200)\n",
    "   \n",
    "    \n",
    "    contours, hierarchy = cv2.findContours(erosion, cv2.RETR_EXTERNAL, cv2.CHAIN_APPROX_SIMPLE)\n",
    "    #print(\"No. of rice grains=\",len(contours))\n",
    "    total_ar1=0\n",
    "    for cnt in contours:\n",
    "        x,y,w,h = cv2.boundingRect(cnt)\n",
    "        aspect_ratio = float(w)/h\n",
    "        if(aspect_ratio<1):\n",
    "            aspect_ratio=1/aspect_ratio\n",
    "        print(round(aspect_ratio,2),get_classification(aspect_ratio))\n",
    "        classification1[get_classification(aspect_ratio)] += 1\n",
    "        if get_classification(aspect_ratio) != \"Dust\":\n",
    "            total_ar1+=aspect_ratio\n",
    "        if get_classification(aspect_ratio) != \"Dust\":\n",
    "            avg1[get_classification(aspect_ratio)] += aspect_ratio\n",
    "    avg_ar1=total_ar1/len(contours)\n",
    "    if classification1['Slender']!=0:\n",
    "        avg1['Slender'] = avg1['Slender']/classification1['Slender']\n",
    "    if classification1['Medium']!=0:\n",
    "        avg1['Medium'] = avg1['Medium']/classification1['Medium']\n",
    "    if classification1['Bold']!=0:\n",
    "        avg1['Bold'] = avg1['Bold']/classification1['Bold']\n",
    "    if classification1['Round']!=0:\n",
    "        avg1['Round'] = avg1['Round']/classification1['Round']\n",
    "    cv2.imwrite(\"C:/Users/Garima/OneDrive/Research Methodology/Quality-Analysis-and-Classification-of-Rice-Grains-master/exp/img1.jpg\", img)\n",
    "    cv2.imwrite(\"C:/Users/Garima/OneDrive/Research Methodology/Quality-Analysis-and-Classification-of-Rice-Grains-master/exp/binary1.jpg\", binary)\n",
    "    cv2.imwrite(\"C:/Users/Garima/OneDrive/Research Methodology/Quality-Analysis-and-Classification-of-Rice-Grains-master/exp/dst1.jpg\", dst)\n",
    "    cv2.imwrite(\"C:/Users/Garima/OneDrive/Research Methodology/Quality-Analysis-and-Classification-of-Rice-Grains-master/exp/erosion1.jpg\", erosion)\n",
    "    cv2.imwrite(\"C:/Users/Garima/OneDrive/Research Methodology/Quality-Analysis-and-Classification-of-Rice-Grains-master/exp/dilation1.jpg\", dilation)\n",
    "    cv2.imwrite(\"C:/Users/Garima/OneDrive/Research Methodology/Quality-Analysis-and-Classification-of-Rice-Grains-master/exp/edges1.jpg\", edges)\n",
    "    return classification1,avg1,avg_ar1"
   ]
  },
  {
   "cell_type": "code",
   "execution_count": 211,
   "id": "32bbf8a8",
   "metadata": {},
   "outputs": [
    {
     "name": "stdout",
     "output_type": "stream",
     "text": [
      "Total No of garins is=\n",
      "30\n",
      "3.17 Slender\n",
      "1.73 Bold\n",
      "2.38 Medium\n",
      "1.07 Bold\n",
      "1.14 Bold\n",
      "2.11 Medium\n",
      "4.0 Dust\n",
      "1.45 Bold\n",
      "2.11 Medium\n",
      "3.5 Dust\n",
      "2.22 Medium\n",
      "2.75 Medium\n",
      "1.14 Bold\n",
      "2.57 Medium\n",
      "2.2 Medium\n",
      "1.91 Bold\n",
      "2.86 Medium\n",
      "1.06 Bold\n",
      "3.17 Slender\n",
      "3.0 Slender\n",
      "2.38 Medium\n",
      "1.15 Bold\n",
      "2.33 Medium\n",
      "3.0 Slender\n",
      "2.38 Medium\n",
      "1.82 Bold\n",
      "1.73 Bold\n",
      "2.62 Medium\n",
      "2.86 Medium\n",
      "3.14 Slender\n",
      "Average Aspect Ratio= 2.3 Medium\n"
     ]
    }
   ],
   "source": [
    "\n",
    "\n",
    "### Size detection\n",
    "contours,hierarchy = cv2.findContours(erosion, cv2.RETR_EXTERNAL, cv2.CHAIN_APPROX_SIMPLE)\n",
    "print(\"Total No of garins is=\")\n",
    "print (len(contours))\n",
    "total_ar=0\n",
    "for cnt in contours:\n",
    "\tx,y,w,h = cv2.boundingRect(cnt)\n",
    "\taspect_ratio = float(w)/h\n",
    "\tif(aspect_ratio<1):\n",
    "\t\taspect_ratio=1/aspect_ratio\n",
    "\tprint (round(aspect_ratio,2),get_classification(aspect_ratio))\n",
    "\ttotal_ar+=aspect_ratio\n",
    "avg_ar=total_ar/len(contours)\n",
    "print (\"Average Aspect Ratio=\",round(avg_ar,2),get_classification(avg_ar))\n"
   ]
  },
  {
   "cell_type": "code",
   "execution_count": 212,
   "id": "dfb2a15b",
   "metadata": {},
   "outputs": [],
   "source": [
    "def get_image(path):\n",
    "    img=image.open(path)\n",
    "    # Constants\n",
    "    img_width = 710\n",
    "    img_height = 550\n",
    "    scale_factor = 0.5\n",
    "    fig = go.Figure()\n",
    "    fig.add_trace(\n",
    "        go.Scatter(\n",
    "            x=[0, img_width * scale_factor],\n",
    "            y=[0, img_height * scale_factor],\n",
    "            mode=\"markers\",\n",
    "            marker_opacity=0\n",
    "        )\n",
    "    )\n",
    "    fig.update_xaxes(\n",
    "        visible=False,\n",
    "        range=[0, img_width * scale_factor]\n",
    "    )\n",
    "    fig.update_yaxes(\n",
    "        visible=False,\n",
    "        range=[0, img_height * scale_factor],\n",
    "        scaleanchor=\"x\"\n",
    "    )\n",
    "    fig.add_layout_image(\n",
    "        dict(\n",
    "            x=0,\n",
    "            sizex=img_width * scale_factor,\n",
    "            y=img_height * scale_factor,\n",
    "            sizey=img_height * scale_factor,\n",
    "            xref=\"x\",\n",
    "            yref=\"y\",\n",
    "            opacity=1.0,\n",
    "            layer=\"below\",\n",
    "            sizing=\"stretch\",\n",
    "            source=img)\n",
    "    )\n",
    "    fig.update_layout(\n",
    "        width=img_width * scale_factor,\n",
    "        height=img_height * scale_factor,\n",
    "        margin={\"l\": 0, \"r\": 0, \"t\": 0, \"b\": 0},\n",
    "    )\n",
    "    fig.show(config={'doubleClick': 'reset'})\n",
    "    return fig\n"
   ]
  },
  {
   "cell_type": "code",
   "execution_count": 213,
   "id": "92ccd6af",
   "metadata": {},
   "outputs": [],
   "source": [
    "#average aspect vs classification plot\n",
    "def get_plot1(classification = classification, avg = avg, avg_ar = avg_ar):\n",
    "    fig = subplots.make_subplots(rows=1,cols=1,specs=[[{\"type\":\"bar\"}]], shared_xaxes=True)\n",
    "    print(list(classification.keys()))\n",
    "    print(list(classification.values()))\n",
    "    plot1 = go.Bar(x=list(classification.keys()), y=list(classification.values()), name=\"Particles\")\n",
    "    plot2 = go.Bar(x=list(avg.keys()), y=list(avg.values()), name=\"Avg. Aspect Ratio\")\n",
    "    fig.add_trace(plot1,1,1)\n",
    "    fig.add_trace(plot2,1,1)\n",
    "    fig.add_shape(\n",
    "        type=\"line\",\n",
    "        x0=0,\n",
    "        y0=round(avg_ar,2),\n",
    "        x1=5,\n",
    "        y1=round(avg_ar,2),\n",
    "        line=dict(\n",
    "            color=\"LightSeaGreen\",\n",
    "            width=4,\n",
    "            dash=\"dashdot\",\n",
    "        ),\n",
    "    )\n",
    "    fig.update_layout(\n",
    "        width = 600,\n",
    "        height = 350,\n",
    "        margin = {\"l\": 5, \"r\": 5, \"t\": 30, \"b\": 5},\n",
    "        title = \"Average Aspect Ratio Vs Classification\",\n",
    "        template = \"plotly_dark\"\n",
    "    )\n",
    "    return fig"
   ]
  },
  {
   "cell_type": "code",
   "execution_count": 214,
   "id": "d041669e",
   "metadata": {},
   "outputs": [],
   "source": [
    "#quality annalysis\n",
    "def get_plot2(classification = classification):\n",
    "    fig = subplots.make_subplots(rows=1,cols=1,specs=[[{\"type\":\"pie\"}]])\n",
    "    rice = sum(list(classification.values())) - classification['Dust']\n",
    "    dust = classification['Dust']\n",
    "    values = [rice, dust]\n",
    "    labels = [\"Rice\", \"Dust\"]\n",
    "    plot1 = go.Pie(labels=labels, values=values, hole=.3)\n",
    "    fig.add_trace(plot1,1,1)\n",
    "    fig.update_layout(\n",
    "        width = 600,\n",
    "        height = 350,\n",
    "        margin = {\"l\": 65, \"r\": 5, \"t\": 60, \"b\": 50},\n",
    "        title = \"Quality Analysis\",\n",
    "        template = \"plotly_dark\"\n",
    "    )\n",
    "    \n",
    "    return fig\n",
    "\n"
   ]
  },
  {
   "cell_type": "code",
   "execution_count": 215,
   "id": "f9463d1b",
   "metadata": {},
   "outputs": [
    {
     "name": "stdout",
     "output_type": "stream",
     "text": [
      "['Slender', 'Medium', 'Bold', 'Round', 'Dust']\n",
      "[5, 13, 10, 0, 2]\n"
     ]
    },
    {
     "data": {
      "application/vnd.plotly.v1+json": {
       "config": {
        "doubleClick": "reset",
        "plotlyServerURL": "https://plot.ly"
       },
       "data": [
        {
         "marker": {
          "opacity": 0
         },
         "mode": "markers",
         "type": "scatter",
         "x": [
          0,
          355
         ],
         "y": [
          0,
          275
         ]
        }
       ],
       "layout": {
        "height": 275,
        "images": [
         {
          "layer": "below",
          "opacity": 1,
          "sizex": 355,
          "sizey": 275,
          "sizing": "stretch",
          "source": "data:image/png;base64,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",
          "x": 0,
          "xref": "x",
          "y": 275,
          "yref": "y"
         }
        ],
        "margin": {
         "b": 0,
         "l": 0,
         "r": 0,
         "t": 0
        },
        "template": {
         "data": {
          "bar": [
           {
            "error_x": {
             "color": "#2a3f5f"
            },
            "error_y": {
             "color": "#2a3f5f"
            },
            "marker": {
             "line": {
              "color": "#E5ECF6",
              "width": 0.5
             },
             "pattern": {
              "fillmode": "overlay",
              "size": 10,
              "solidity": 0.2
             }
            },
            "type": "bar"
           }
          ],
          "barpolar": [
           {
            "marker": {
             "line": {
              "color": "#E5ECF6",
              "width": 0.5
             },
             "pattern": {
              "fillmode": "overlay",
              "size": 10,
              "solidity": 0.2
             }
            },
            "type": "barpolar"
           }
          ],
          "carpet": [
           {
            "aaxis": {
             "endlinecolor": "#2a3f5f",
             "gridcolor": "white",
             "linecolor": "white",
             "minorgridcolor": "white",
             "startlinecolor": "#2a3f5f"
            },
            "baxis": {
             "endlinecolor": "#2a3f5f",
             "gridcolor": "white",
             "linecolor": "white",
             "minorgridcolor": "white",
             "startlinecolor": "#2a3f5f"
            },
            "type": "carpet"
           }
          ],
          "choropleth": [
           {
            "colorbar": {
             "outlinewidth": 0,
             "ticks": ""
            },
            "type": "choropleth"
           }
          ],
          "contour": [
           {
            "colorbar": {
             "outlinewidth": 0,
             "ticks": ""
            },
            "colorscale": [
             [
              0,
              "#0d0887"
             ],
             [
              0.1111111111111111,
              "#46039f"
             ],
             [
              0.2222222222222222,
              "#7201a8"
             ],
             [
              0.3333333333333333,
              "#9c179e"
             ],
             [
              0.4444444444444444,
              "#bd3786"
             ],
             [
              0.5555555555555556,
              "#d8576b"
             ],
             [
              0.6666666666666666,
              "#ed7953"
             ],
             [
              0.7777777777777778,
              "#fb9f3a"
             ],
             [
              0.8888888888888888,
              "#fdca26"
             ],
             [
              1,
              "#f0f921"
             ]
            ],
            "type": "contour"
           }
          ],
          "contourcarpet": [
           {
            "colorbar": {
             "outlinewidth": 0,
             "ticks": ""
            },
            "type": "contourcarpet"
           }
          ],
          "heatmap": [
           {
            "colorbar": {
             "outlinewidth": 0,
             "ticks": ""
            },
            "colorscale": [
             [
              0,
              "#0d0887"
             ],
             [
              0.1111111111111111,
              "#46039f"
             ],
             [
              0.2222222222222222,
              "#7201a8"
             ],
             [
              0.3333333333333333,
              "#9c179e"
             ],
             [
              0.4444444444444444,
              "#bd3786"
             ],
             [
              0.5555555555555556,
              "#d8576b"
             ],
             [
              0.6666666666666666,
              "#ed7953"
             ],
             [
              0.7777777777777778,
              "#fb9f3a"
             ],
             [
              0.8888888888888888,
              "#fdca26"
             ],
             [
              1,
              "#f0f921"
             ]
            ],
            "type": "heatmap"
           }
          ],
          "heatmapgl": [
           {
            "colorbar": {
             "outlinewidth": 0,
             "ticks": ""
            },
            "colorscale": [
             [
              0,
              "#0d0887"
             ],
             [
              0.1111111111111111,
              "#46039f"
             ],
             [
              0.2222222222222222,
              "#7201a8"
             ],
             [
              0.3333333333333333,
              "#9c179e"
             ],
             [
              0.4444444444444444,
              "#bd3786"
             ],
             [
              0.5555555555555556,
              "#d8576b"
             ],
             [
              0.6666666666666666,
              "#ed7953"
             ],
             [
              0.7777777777777778,
              "#fb9f3a"
             ],
             [
              0.8888888888888888,
              "#fdca26"
             ],
             [
              1,
              "#f0f921"
             ]
            ],
            "type": "heatmapgl"
           }
          ],
          "histogram": [
           {
            "marker": {
             "pattern": {
              "fillmode": "overlay",
              "size": 10,
              "solidity": 0.2
             }
            },
            "type": "histogram"
           }
          ],
          "histogram2d": [
           {
            "colorbar": {
             "outlinewidth": 0,
             "ticks": ""
            },
            "colorscale": [
             [
              0,
              "#0d0887"
             ],
             [
              0.1111111111111111,
              "#46039f"
             ],
             [
              0.2222222222222222,
              "#7201a8"
             ],
             [
              0.3333333333333333,
              "#9c179e"
             ],
             [
              0.4444444444444444,
              "#bd3786"
             ],
             [
              0.5555555555555556,
              "#d8576b"
             ],
             [
              0.6666666666666666,
              "#ed7953"
             ],
             [
              0.7777777777777778,
              "#fb9f3a"
             ],
             [
              0.8888888888888888,
              "#fdca26"
             ],
             [
              1,
              "#f0f921"
             ]
            ],
            "type": "histogram2d"
           }
          ],
          "histogram2dcontour": [
           {
            "colorbar": {
             "outlinewidth": 0,
             "ticks": ""
            },
            "colorscale": [
             [
              0,
              "#0d0887"
             ],
             [
              0.1111111111111111,
              "#46039f"
             ],
             [
              0.2222222222222222,
              "#7201a8"
             ],
             [
              0.3333333333333333,
              "#9c179e"
             ],
             [
              0.4444444444444444,
              "#bd3786"
             ],
             [
              0.5555555555555556,
              "#d8576b"
             ],
             [
              0.6666666666666666,
              "#ed7953"
             ],
             [
              0.7777777777777778,
              "#fb9f3a"
             ],
             [
              0.8888888888888888,
              "#fdca26"
             ],
             [
              1,
              "#f0f921"
             ]
            ],
            "type": "histogram2dcontour"
           }
          ],
          "mesh3d": [
           {
            "colorbar": {
             "outlinewidth": 0,
             "ticks": ""
            },
            "type": "mesh3d"
           }
          ],
          "parcoords": [
           {
            "line": {
             "colorbar": {
              "outlinewidth": 0,
              "ticks": ""
             }
            },
            "type": "parcoords"
           }
          ],
          "pie": [
           {
            "automargin": true,
            "type": "pie"
           }
          ],
          "scatter": [
           {
            "marker": {
             "colorbar": {
              "outlinewidth": 0,
              "ticks": ""
             }
            },
            "type": "scatter"
           }
          ],
          "scatter3d": [
           {
            "line": {
             "colorbar": {
              "outlinewidth": 0,
              "ticks": ""
             }
            },
            "marker": {
             "colorbar": {
              "outlinewidth": 0,
              "ticks": ""
             }
            },
            "type": "scatter3d"
           }
          ],
          "scattercarpet": [
           {
            "marker": {
             "colorbar": {
              "outlinewidth": 0,
              "ticks": ""
             }
            },
            "type": "scattercarpet"
           }
          ],
          "scattergeo": [
           {
            "marker": {
             "colorbar": {
              "outlinewidth": 0,
              "ticks": ""
             }
            },
            "type": "scattergeo"
           }
          ],
          "scattergl": [
           {
            "marker": {
             "colorbar": {
              "outlinewidth": 0,
              "ticks": ""
             }
            },
            "type": "scattergl"
           }
          ],
          "scattermapbox": [
           {
            "marker": {
             "colorbar": {
              "outlinewidth": 0,
              "ticks": ""
             }
            },
            "type": "scattermapbox"
           }
          ],
          "scatterpolar": [
           {
            "marker": {
             "colorbar": {
              "outlinewidth": 0,
              "ticks": ""
             }
            },
            "type": "scatterpolar"
           }
          ],
          "scatterpolargl": [
           {
            "marker": {
             "colorbar": {
              "outlinewidth": 0,
              "ticks": ""
             }
            },
            "type": "scatterpolargl"
           }
          ],
          "scatterternary": [
           {
            "marker": {
             "colorbar": {
              "outlinewidth": 0,
              "ticks": ""
             }
            },
            "type": "scatterternary"
           }
          ],
          "surface": [
           {
            "colorbar": {
             "outlinewidth": 0,
             "ticks": ""
            },
            "colorscale": [
             [
              0,
              "#0d0887"
             ],
             [
              0.1111111111111111,
              "#46039f"
             ],
             [
              0.2222222222222222,
              "#7201a8"
             ],
             [
              0.3333333333333333,
              "#9c179e"
             ],
             [
              0.4444444444444444,
              "#bd3786"
             ],
             [
              0.5555555555555556,
              "#d8576b"
             ],
             [
              0.6666666666666666,
              "#ed7953"
             ],
             [
              0.7777777777777778,
              "#fb9f3a"
             ],
             [
              0.8888888888888888,
              "#fdca26"
             ],
             [
              1,
              "#f0f921"
             ]
            ],
            "type": "surface"
           }
          ],
          "table": [
           {
            "cells": {
             "fill": {
              "color": "#EBF0F8"
             },
             "line": {
              "color": "white"
             }
            },
            "header": {
             "fill": {
              "color": "#C8D4E3"
             },
             "line": {
              "color": "white"
             }
            },
            "type": "table"
           }
          ]
         },
         "layout": {
          "annotationdefaults": {
           "arrowcolor": "#2a3f5f",
           "arrowhead": 0,
           "arrowwidth": 1
          },
          "autotypenumbers": "strict",
          "coloraxis": {
           "colorbar": {
            "outlinewidth": 0,
            "ticks": ""
           }
          },
          "colorscale": {
           "diverging": [
            [
             0,
             "#8e0152"
            ],
            [
             0.1,
             "#c51b7d"
            ],
            [
             0.2,
             "#de77ae"
            ],
            [
             0.3,
             "#f1b6da"
            ],
            [
             0.4,
             "#fde0ef"
            ],
            [
             0.5,
             "#f7f7f7"
            ],
            [
             0.6,
             "#e6f5d0"
            ],
            [
             0.7,
             "#b8e186"
            ],
            [
             0.8,
             "#7fbc41"
            ],
            [
             0.9,
             "#4d9221"
            ],
            [
             1,
             "#276419"
            ]
           ],
           "sequential": [
            [
             0,
             "#0d0887"
            ],
            [
             0.1111111111111111,
             "#46039f"
            ],
            [
             0.2222222222222222,
             "#7201a8"
            ],
            [
             0.3333333333333333,
             "#9c179e"
            ],
            [
             0.4444444444444444,
             "#bd3786"
            ],
            [
             0.5555555555555556,
             "#d8576b"
            ],
            [
             0.6666666666666666,
             "#ed7953"
            ],
            [
             0.7777777777777778,
             "#fb9f3a"
            ],
            [
             0.8888888888888888,
             "#fdca26"
            ],
            [
             1,
             "#f0f921"
            ]
           ],
           "sequentialminus": [
            [
             0,
             "#0d0887"
            ],
            [
             0.1111111111111111,
             "#46039f"
            ],
            [
             0.2222222222222222,
             "#7201a8"
            ],
            [
             0.3333333333333333,
             "#9c179e"
            ],
            [
             0.4444444444444444,
             "#bd3786"
            ],
            [
             0.5555555555555556,
             "#d8576b"
            ],
            [
             0.6666666666666666,
             "#ed7953"
            ],
            [
             0.7777777777777778,
             "#fb9f3a"
            ],
            [
             0.8888888888888888,
             "#fdca26"
            ],
            [
             1,
             "#f0f921"
            ]
           ]
          },
          "colorway": [
           "#636efa",
           "#EF553B",
           "#00cc96",
           "#ab63fa",
           "#FFA15A",
           "#19d3f3",
           "#FF6692",
           "#B6E880",
           "#FF97FF",
           "#FECB52"
          ],
          "font": {
           "color": "#2a3f5f"
          },
          "geo": {
           "bgcolor": "white",
           "lakecolor": "white",
           "landcolor": "#E5ECF6",
           "showlakes": true,
           "showland": true,
           "subunitcolor": "white"
          },
          "hoverlabel": {
           "align": "left"
          },
          "hovermode": "closest",
          "mapbox": {
           "style": "light"
          },
          "paper_bgcolor": "white",
          "plot_bgcolor": "#E5ECF6",
          "polar": {
           "angularaxis": {
            "gridcolor": "white",
            "linecolor": "white",
            "ticks": ""
           },
           "bgcolor": "#E5ECF6",
           "radialaxis": {
            "gridcolor": "white",
            "linecolor": "white",
            "ticks": ""
           }
          },
          "scene": {
           "xaxis": {
            "backgroundcolor": "#E5ECF6",
            "gridcolor": "white",
            "gridwidth": 2,
            "linecolor": "white",
            "showbackground": true,
            "ticks": "",
            "zerolinecolor": "white"
           },
           "yaxis": {
            "backgroundcolor": "#E5ECF6",
            "gridcolor": "white",
            "gridwidth": 2,
            "linecolor": "white",
            "showbackground": true,
            "ticks": "",
            "zerolinecolor": "white"
           },
           "zaxis": {
            "backgroundcolor": "#E5ECF6",
            "gridcolor": "white",
            "gridwidth": 2,
            "linecolor": "white",
            "showbackground": true,
            "ticks": "",
            "zerolinecolor": "white"
           }
          },
          "shapedefaults": {
           "line": {
            "color": "#2a3f5f"
           }
          },
          "ternary": {
           "aaxis": {
            "gridcolor": "white",
            "linecolor": "white",
            "ticks": ""
           },
           "baxis": {
            "gridcolor": "white",
            "linecolor": "white",
            "ticks": ""
           },
           "bgcolor": "#E5ECF6",
           "caxis": {
            "gridcolor": "white",
            "linecolor": "white",
            "ticks": ""
           }
          },
          "title": {
           "x": 0.05
          },
          "xaxis": {
           "automargin": true,
           "gridcolor": "white",
           "linecolor": "white",
           "ticks": "",
           "title": {
            "standoff": 15
           },
           "zerolinecolor": "white",
           "zerolinewidth": 2
          },
          "yaxis": {
           "automargin": true,
           "gridcolor": "white",
           "linecolor": "white",
           "ticks": "",
           "title": {
            "standoff": 15
           },
           "zerolinecolor": "white",
           "zerolinewidth": 2
          }
         }
        },
        "width": 355,
        "xaxis": {
         "range": [
          0,
          355
         ],
         "visible": false
        },
        "yaxis": {
         "range": [
          0,
          275
         ],
         "scaleanchor": "x",
         "visible": false
        }
       }
      },
      "text/html": [
       "<div>                            <div id=\"0f24cfca-80b4-42f4-9051-285736e80101\" class=\"plotly-graph-div\" style=\"height:275.0px; width:355.0px;\"></div>            <script type=\"text/javascript\">                require([\"plotly\"], function(Plotly) {                    window.PLOTLYENV=window.PLOTLYENV || {};                                    if (document.getElementById(\"0f24cfca-80b4-42f4-9051-285736e80101\")) {                    Plotly.newPlot(                        \"0f24cfca-80b4-42f4-9051-285736e80101\",                        [{\"marker\":{\"opacity\":0},\"mode\":\"markers\",\"type\":\"scatter\",\"x\":[0,355.0],\"y\":[0,275.0]}],                        {\"height\":275.0,\"images\":[{\"layer\":\"below\",\"opacity\":1.0,\"sizex\":355.0,\"sizey\":275.0,\"sizing\":\"stretch\",\"source\":\"data:image/png;base64,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\",\"x\":0,\"xref\":\"x\",\"y\":275.0,\"yref\":\"y\"}],\"margin\":{\"b\":0,\"l\":0,\"r\":0,\"t\":0},\"template\":{\"data\":{\"bar\":[{\"error_x\":{\"color\":\"#2a3f5f\"},\"error_y\":{\"color\":\"#2a3f5f\"},\"marker\":{\"line\":{\"color\":\"#E5ECF6\",\"width\":0.5},\"pattern\":{\"fillmode\":\"overlay\",\"size\":10,\"solidity\":0.2}},\"type\":\"bar\"}],\"barpolar\":[{\"marker\":{\"line\":{\"color\":\"#E5ECF6\",\"width\":0.5},\"pattern\":{\"fillmode\":\"overlay\",\"size\":10,\"solidity\":0.2}},\"type\":\"barpolar\"}],\"carpet\":[{\"aaxis\":{\"endlinecolor\":\"#2a3f5f\",\"gridcolor\":\"white\",\"linecolor\":\"white\",\"minorgridcolor\":\"white\",\"startlinecolor\":\"#2a3f5f\"},\"baxis\":{\"endlinecolor\":\"#2a3f5f\",\"gridcolor\":\"white\",\"linecolor\":\"white\",\"minorgridcolor\":\"white\",\"startlinecolor\":\"#2a3f5f\"},\"type\":\"carpet\"}],\"choropleth\":[{\"colorbar\":{\"outlinewidth\":0,\"ticks\":\"\"},\"type\":\"choropleth\"}],\"contour\":[{\"colorbar\":{\"outlinewidth\":0,\"ticks\":\"\"},\"colorscale\":[[0.0,\"#0d0887\"],[0.1111111111111111,\"#46039f\"],[0.2222222222222222,\"#7201a8\"],[0.3333333333333333,\"#9c179e\"],[0.4444444444444444,\"#bd3786\"],[0.5555555555555556,\"#d8576b\"],[0.6666666666666666,\"#ed7953\"],[0.7777777777777778,\"#fb9f3a\"],[0.8888888888888888,\"#fdca26\"],[1.0,\"#f0f921\"]],\"type\":\"contour\"}],\"contourcarpet\":[{\"colorbar\":{\"outlinewidth\":0,\"ticks\":\"\"},\"type\":\"contourcarpet\"}],\"heatmap\":[{\"colorbar\":{\"outlinewidth\":0,\"ticks\":\"\"},\"colorscale\":[[0.0,\"#0d0887\"],[0.1111111111111111,\"#46039f\"],[0.2222222222222222,\"#7201a8\"],[0.3333333333333333,\"#9c179e\"],[0.4444444444444444,\"#bd3786\"],[0.5555555555555556,\"#d8576b\"],[0.6666666666666666,\"#ed7953\"],[0.7777777777777778,\"#fb9f3a\"],[0.8888888888888888,\"#fdca26\"],[1.0,\"#f0f921\"]],\"type\":\"heatmap\"}],\"heatmapgl\":[{\"colorbar\":{\"outlinewidth\":0,\"ticks\":\"\"},\"colorscale\":[[0.0,\"#0d0887\"],[0.1111111111111111,\"#46039f\"],[0.2222222222222222,\"#7201a8\"],[0.3333333333333333,\"#9c179e\"],[0.4444444444444444,\"#bd3786\"],[0.5555555555555556,\"#d8576b\"],[0.6666666666666666,\"#ed7953\"],[0.7777777777777778,\"#fb9f3a\"],[0.8888888888888888,\"#fdca26\"],[1.0,\"#f0f921\"]],\"type\":\"heatmapgl\"}],\"histogram\":[{\"marker\":{\"pattern\":{\"fillmode\":\"overlay\",\"size\":10,\"solidity\":0.2}},\"type\":\"histogram\"}],\"histogram2d\":[{\"colorbar\":{\"outlinewidth\":0,\"ticks\":\"\"},\"colorscale\":[[0.0,\"#0d0887\"],[0.1111111111111111,\"#46039f\"],[0.2222222222222222,\"#7201a8\"],[0.3333333333333333,\"#9c179e\"],[0.4444444444444444,\"#bd3786\"],[0.5555555555555556,\"#d8576b\"],[0.6666666666666666,\"#ed7953\"],[0.7777777777777778,\"#fb9f3a\"],[0.8888888888888888,\"#fdca26\"],[1.0,\"#f0f921\"]],\"type\":\"histogram2d\"}],\"histogram2dcontour\":[{\"colorbar\":{\"outlinewidth\":0,\"ticks\":\"\"},\"colorscale\":[[0.0,\"#0d0887\"],[0.1111111111111111,\"#46039f\"],[0.2222222222222222,\"#7201a8\"],[0.3333333333333333,\"#9c179e\"],[0.4444444444444444,\"#bd3786\"],[0.5555555555555556,\"#d8576b\"],[0.6666666666666666,\"#ed7953\"],[0.7777777777777778,\"#fb9f3a\"],[0.8888888888888888,\"#fdca26\"],[1.0,\"#f0f921\"]],\"type\":\"histogram2dcontour\"}],\"mesh3d\":[{\"colorbar\":{\"outlinewidth\":0,\"ticks\":\"\"},\"type\":\"mesh3d\"}],\"parcoords\":[{\"line\":{\"colorbar\":{\"outlinewidth\":0,\"ticks\":\"\"}},\"type\":\"parcoords\"}],\"pie\":[{\"automargin\":true,\"type\":\"pie\"}],\"scatter\":[{\"marker\":{\"colorbar\":{\"outlinewidth\":0,\"ticks\":\"\"}},\"type\":\"scatter\"}],\"scatter3d\":[{\"line\":{\"colorbar\":{\"outlinewidth\":0,\"ticks\":\"\"}},\"marker\":{\"colorbar\":{\"outlinewidth\":0,\"ticks\":\"\"}},\"type\":\"scatter3d\"}],\"scattercarpet\":[{\"marker\":{\"colorbar\":{\"outlinewidth\":0,\"ticks\":\"\"}},\"type\":\"scattercarpet\"}],\"scattergeo\":[{\"marker\":{\"colorbar\":{\"outlinewidth\":0,\"ticks\":\"\"}},\"type\":\"scattergeo\"}],\"scattergl\":[{\"marker\":{\"colorbar\":{\"outlinewidth\":0,\"ticks\":\"\"}},\"type\":\"scattergl\"}],\"scattermapbox\":[{\"marker\":{\"colorbar\":{\"outlinewidth\":0,\"ticks\":\"\"}},\"type\":\"scattermapbox\"}],\"scatterpolar\":[{\"marker\":{\"colorbar\":{\"outlinewidth\":0,\"ticks\":\"\"}},\"type\":\"scatterpolar\"}],\"scatterpolargl\":[{\"marker\":{\"colorbar\":{\"outlinewidth\":0,\"ticks\":\"\"}},\"type\":\"scatterpolargl\"}],\"scatterternary\":[{\"marker\":{\"colorbar\":{\"outlinewidth\":0,\"ticks\":\"\"}},\"type\":\"scatterternary\"}],\"surface\":[{\"colorbar\":{\"outlinewidth\":0,\"ticks\":\"\"},\"colorscale\":[[0.0,\"#0d0887\"],[0.1111111111111111,\"#46039f\"],[0.2222222222222222,\"#7201a8\"],[0.3333333333333333,\"#9c179e\"],[0.4444444444444444,\"#bd3786\"],[0.5555555555555556,\"#d8576b\"],[0.6666666666666666,\"#ed7953\"],[0.7777777777777778,\"#fb9f3a\"],[0.8888888888888888,\"#fdca26\"],[1.0,\"#f0f921\"]],\"type\":\"surface\"}],\"table\":[{\"cells\":{\"fill\":{\"color\":\"#EBF0F8\"},\"line\":{\"color\":\"white\"}},\"header\":{\"fill\":{\"color\":\"#C8D4E3\"},\"line\":{\"color\":\"white\"}},\"type\":\"table\"}]},\"layout\":{\"annotationdefaults\":{\"arrowcolor\":\"#2a3f5f\",\"arrowhead\":0,\"arrowwidth\":1},\"autotypenumbers\":\"strict\",\"coloraxis\":{\"colorbar\":{\"outlinewidth\":0,\"ticks\":\"\"}},\"colorscale\":{\"diverging\":[[0,\"#8e0152\"],[0.1,\"#c51b7d\"],[0.2,\"#de77ae\"],[0.3,\"#f1b6da\"],[0.4,\"#fde0ef\"],[0.5,\"#f7f7f7\"],[0.6,\"#e6f5d0\"],[0.7,\"#b8e186\"],[0.8,\"#7fbc41\"],[0.9,\"#4d9221\"],[1,\"#276419\"]],\"sequential\":[[0.0,\"#0d0887\"],[0.1111111111111111,\"#46039f\"],[0.2222222222222222,\"#7201a8\"],[0.3333333333333333,\"#9c179e\"],[0.4444444444444444,\"#bd3786\"],[0.5555555555555556,\"#d8576b\"],[0.6666666666666666,\"#ed7953\"],[0.7777777777777778,\"#fb9f3a\"],[0.8888888888888888,\"#fdca26\"],[1.0,\"#f0f921\"]],\"sequentialminus\":[[0.0,\"#0d0887\"],[0.1111111111111111,\"#46039f\"],[0.2222222222222222,\"#7201a8\"],[0.3333333333333333,\"#9c179e\"],[0.4444444444444444,\"#bd3786\"],[0.5555555555555556,\"#d8576b\"],[0.6666666666666666,\"#ed7953\"],[0.7777777777777778,\"#fb9f3a\"],[0.8888888888888888,\"#fdca26\"],[1.0,\"#f0f921\"]]},\"colorway\":[\"#636efa\",\"#EF553B\",\"#00cc96\",\"#ab63fa\",\"#FFA15A\",\"#19d3f3\",\"#FF6692\",\"#B6E880\",\"#FF97FF\",\"#FECB52\"],\"font\":{\"color\":\"#2a3f5f\"},\"geo\":{\"bgcolor\":\"white\",\"lakecolor\":\"white\",\"landcolor\":\"#E5ECF6\",\"showlakes\":true,\"showland\":true,\"subunitcolor\":\"white\"},\"hoverlabel\":{\"align\":\"left\"},\"hovermode\":\"closest\",\"mapbox\":{\"style\":\"light\"},\"paper_bgcolor\":\"white\",\"plot_bgcolor\":\"#E5ECF6\",\"polar\":{\"angularaxis\":{\"gridcolor\":\"white\",\"linecolor\":\"white\",\"ticks\":\"\"},\"bgcolor\":\"#E5ECF6\",\"radialaxis\":{\"gridcolor\":\"white\",\"linecolor\":\"white\",\"ticks\":\"\"}},\"scene\":{\"xaxis\":{\"backgroundcolor\":\"#E5ECF6\",\"gridcolor\":\"white\",\"gridwidth\":2,\"linecolor\":\"white\",\"showbackground\":true,\"ticks\":\"\",\"zerolinecolor\":\"white\"},\"yaxis\":{\"backgroundcolor\":\"#E5ECF6\",\"gridcolor\":\"white\",\"gridwidth\":2,\"linecolor\":\"white\",\"showbackground\":true,\"ticks\":\"\",\"zerolinecolor\":\"white\"},\"zaxis\":{\"backgroundcolor\":\"#E5ECF6\",\"gridcolor\":\"white\",\"gridwidth\":2,\"linecolor\":\"white\",\"showbackground\":true,\"ticks\":\"\",\"zerolinecolor\":\"white\"}},\"shapedefaults\":{\"line\":{\"color\":\"#2a3f5f\"}},\"ternary\":{\"aaxis\":{\"gridcolor\":\"white\",\"linecolor\":\"white\",\"ticks\":\"\"},\"baxis\":{\"gridcolor\":\"white\",\"linecolor\":\"white\",\"ticks\":\"\"},\"bgcolor\":\"#E5ECF6\",\"caxis\":{\"gridcolor\":\"white\",\"linecolor\":\"white\",\"ticks\":\"\"}},\"title\":{\"x\":0.05},\"xaxis\":{\"automargin\":true,\"gridcolor\":\"white\",\"linecolor\":\"white\",\"ticks\":\"\",\"title\":{\"standoff\":15},\"zerolinecolor\":\"white\",\"zerolinewidth\":2},\"yaxis\":{\"automargin\":true,\"gridcolor\":\"white\",\"linecolor\":\"white\",\"ticks\":\"\",\"title\":{\"standoff\":15},\"zerolinecolor\":\"white\",\"zerolinewidth\":2}}},\"width\":355.0,\"xaxis\":{\"range\":[0,355.0],\"visible\":false},\"yaxis\":{\"range\":[0,275.0],\"scaleanchor\":\"x\",\"visible\":false}},                        {\"doubleClick\": \"reset\", \"responsive\": true}                    ).then(function(){\n",
       "                            \n",
       "var gd = document.getElementById('0f24cfca-80b4-42f4-9051-285736e80101');\n",
       "var x = new MutationObserver(function (mutations, observer) {{\n",
       "        var display = window.getComputedStyle(gd).display;\n",
       "        if (!display || display === 'none') {{\n",
       "            console.log([gd, 'removed!']);\n",
       "            Plotly.purge(gd);\n",
       "            observer.disconnect();\n",
       "        }}\n",
       "}});\n",
       "\n",
       "// Listen for the removal of the full notebook cells\n",
       "var notebookContainer = gd.closest('#notebook-container');\n",
       "if (notebookContainer) {{\n",
       "    x.observe(notebookContainer, {childList: true});\n",
       "}}\n",
       "\n",
       "// Listen for the clearing of the current output cell\n",
       "var outputEl = gd.closest('.output');\n",
       "if (outputEl) {{\n",
       "    x.observe(outputEl, {childList: true});\n",
       "}}\n",
       "\n",
       "                        })                };                });            </script>        </div>"
      ]
     },
     "metadata": {},
     "output_type": "display_data"
    },
    {
     "data": {
      "application/vnd.plotly.v1+json": {
       "config": {
        "doubleClick": "reset",
        "plotlyServerURL": "https://plot.ly"
       },
       "data": [
        {
         "marker": {
          "opacity": 0
         },
         "mode": "markers",
         "type": "scatter",
         "x": [
          0,
          355
         ],
         "y": [
          0,
          275
         ]
        }
       ],
       "layout": {
        "height": 275,
        "images": [
         {
          "layer": "below",
          "opacity": 1,
          "sizex": 355,
          "sizey": 275,
          "sizing": "stretch",
          "source": "data:image/png;base64,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",
          "x": 0,
          "xref": "x",
          "y": 275,
          "yref": "y"
         }
        ],
        "margin": {
         "b": 0,
         "l": 0,
         "r": 0,
         "t": 0
        },
        "template": {
         "data": {
          "bar": [
           {
            "error_x": {
             "color": "#2a3f5f"
            },
            "error_y": {
             "color": "#2a3f5f"
            },
            "marker": {
             "line": {
              "color": "#E5ECF6",
              "width": 0.5
             },
             "pattern": {
              "fillmode": "overlay",
              "size": 10,
              "solidity": 0.2
             }
            },
            "type": "bar"
           }
          ],
          "barpolar": [
           {
            "marker": {
             "line": {
              "color": "#E5ECF6",
              "width": 0.5
             },
             "pattern": {
              "fillmode": "overlay",
              "size": 10,
              "solidity": 0.2
             }
            },
            "type": "barpolar"
           }
          ],
          "carpet": [
           {
            "aaxis": {
             "endlinecolor": "#2a3f5f",
             "gridcolor": "white",
             "linecolor": "white",
             "minorgridcolor": "white",
             "startlinecolor": "#2a3f5f"
            },
            "baxis": {
             "endlinecolor": "#2a3f5f",
             "gridcolor": "white",
             "linecolor": "white",
             "minorgridcolor": "white",
             "startlinecolor": "#2a3f5f"
            },
            "type": "carpet"
           }
          ],
          "choropleth": [
           {
            "colorbar": {
             "outlinewidth": 0,
             "ticks": ""
            },
            "type": "choropleth"
           }
          ],
          "contour": [
           {
            "colorbar": {
             "outlinewidth": 0,
             "ticks": ""
            },
            "colorscale": [
             [
              0,
              "#0d0887"
             ],
             [
              0.1111111111111111,
              "#46039f"
             ],
             [
              0.2222222222222222,
              "#7201a8"
             ],
             [
              0.3333333333333333,
              "#9c179e"
             ],
             [
              0.4444444444444444,
              "#bd3786"
             ],
             [
              0.5555555555555556,
              "#d8576b"
             ],
             [
              0.6666666666666666,
              "#ed7953"
             ],
             [
              0.7777777777777778,
              "#fb9f3a"
             ],
             [
              0.8888888888888888,
              "#fdca26"
             ],
             [
              1,
              "#f0f921"
             ]
            ],
            "type": "contour"
           }
          ],
          "contourcarpet": [
           {
            "colorbar": {
             "outlinewidth": 0,
             "ticks": ""
            },
            "type": "contourcarpet"
           }
          ],
          "heatmap": [
           {
            "colorbar": {
             "outlinewidth": 0,
             "ticks": ""
            },
            "colorscale": [
             [
              0,
              "#0d0887"
             ],
             [
              0.1111111111111111,
              "#46039f"
             ],
             [
              0.2222222222222222,
              "#7201a8"
             ],
             [
              0.3333333333333333,
              "#9c179e"
             ],
             [
              0.4444444444444444,
              "#bd3786"
             ],
             [
              0.5555555555555556,
              "#d8576b"
             ],
             [
              0.6666666666666666,
              "#ed7953"
             ],
             [
              0.7777777777777778,
              "#fb9f3a"
             ],
             [
              0.8888888888888888,
              "#fdca26"
             ],
             [
              1,
              "#f0f921"
             ]
            ],
            "type": "heatmap"
           }
          ],
          "heatmapgl": [
           {
            "colorbar": {
             "outlinewidth": 0,
             "ticks": ""
            },
            "colorscale": [
             [
              0,
              "#0d0887"
             ],
             [
              0.1111111111111111,
              "#46039f"
             ],
             [
              0.2222222222222222,
              "#7201a8"
             ],
             [
              0.3333333333333333,
              "#9c179e"
             ],
             [
              0.4444444444444444,
              "#bd3786"
             ],
             [
              0.5555555555555556,
              "#d8576b"
             ],
             [
              0.6666666666666666,
              "#ed7953"
             ],
             [
              0.7777777777777778,
              "#fb9f3a"
             ],
             [
              0.8888888888888888,
              "#fdca26"
             ],
             [
              1,
              "#f0f921"
             ]
            ],
            "type": "heatmapgl"
           }
          ],
          "histogram": [
           {
            "marker": {
             "pattern": {
              "fillmode": "overlay",
              "size": 10,
              "solidity": 0.2
             }
            },
            "type": "histogram"
           }
          ],
          "histogram2d": [
           {
            "colorbar": {
             "outlinewidth": 0,
             "ticks": ""
            },
            "colorscale": [
             [
              0,
              "#0d0887"
             ],
             [
              0.1111111111111111,
              "#46039f"
             ],
             [
              0.2222222222222222,
              "#7201a8"
             ],
             [
              0.3333333333333333,
              "#9c179e"
             ],
             [
              0.4444444444444444,
              "#bd3786"
             ],
             [
              0.5555555555555556,
              "#d8576b"
             ],
             [
              0.6666666666666666,
              "#ed7953"
             ],
             [
              0.7777777777777778,
              "#fb9f3a"
             ],
             [
              0.8888888888888888,
              "#fdca26"
             ],
             [
              1,
              "#f0f921"
             ]
            ],
            "type": "histogram2d"
           }
          ],
          "histogram2dcontour": [
           {
            "colorbar": {
             "outlinewidth": 0,
             "ticks": ""
            },
            "colorscale": [
             [
              0,
              "#0d0887"
             ],
             [
              0.1111111111111111,
              "#46039f"
             ],
             [
              0.2222222222222222,
              "#7201a8"
             ],
             [
              0.3333333333333333,
              "#9c179e"
             ],
             [
              0.4444444444444444,
              "#bd3786"
             ],
             [
              0.5555555555555556,
              "#d8576b"
             ],
             [
              0.6666666666666666,
              "#ed7953"
             ],
             [
              0.7777777777777778,
              "#fb9f3a"
             ],
             [
              0.8888888888888888,
              "#fdca26"
             ],
             [
              1,
              "#f0f921"
             ]
            ],
            "type": "histogram2dcontour"
           }
          ],
          "mesh3d": [
           {
            "colorbar": {
             "outlinewidth": 0,
             "ticks": ""
            },
            "type": "mesh3d"
           }
          ],
          "parcoords": [
           {
            "line": {
             "colorbar": {
              "outlinewidth": 0,
              "ticks": ""
             }
            },
            "type": "parcoords"
           }
          ],
          "pie": [
           {
            "automargin": true,
            "type": "pie"
           }
          ],
          "scatter": [
           {
            "marker": {
             "colorbar": {
              "outlinewidth": 0,
              "ticks": ""
             }
            },
            "type": "scatter"
           }
          ],
          "scatter3d": [
           {
            "line": {
             "colorbar": {
              "outlinewidth": 0,
              "ticks": ""
             }
            },
            "marker": {
             "colorbar": {
              "outlinewidth": 0,
              "ticks": ""
             }
            },
            "type": "scatter3d"
           }
          ],
          "scattercarpet": [
           {
            "marker": {
             "colorbar": {
              "outlinewidth": 0,
              "ticks": ""
             }
            },
            "type": "scattercarpet"
           }
          ],
          "scattergeo": [
           {
            "marker": {
             "colorbar": {
              "outlinewidth": 0,
              "ticks": ""
             }
            },
            "type": "scattergeo"
           }
          ],
          "scattergl": [
           {
            "marker": {
             "colorbar": {
              "outlinewidth": 0,
              "ticks": ""
             }
            },
            "type": "scattergl"
           }
          ],
          "scattermapbox": [
           {
            "marker": {
             "colorbar": {
              "outlinewidth": 0,
              "ticks": ""
             }
            },
            "type": "scattermapbox"
           }
          ],
          "scatterpolar": [
           {
            "marker": {
             "colorbar": {
              "outlinewidth": 0,
              "ticks": ""
             }
            },
            "type": "scatterpolar"
           }
          ],
          "scatterpolargl": [
           {
            "marker": {
             "colorbar": {
              "outlinewidth": 0,
              "ticks": ""
             }
            },
            "type": "scatterpolargl"
           }
          ],
          "scatterternary": [
           {
            "marker": {
             "colorbar": {
              "outlinewidth": 0,
              "ticks": ""
             }
            },
            "type": "scatterternary"
           }
          ],
          "surface": [
           {
            "colorbar": {
             "outlinewidth": 0,
             "ticks": ""
            },
            "colorscale": [
             [
              0,
              "#0d0887"
             ],
             [
              0.1111111111111111,
              "#46039f"
             ],
             [
              0.2222222222222222,
              "#7201a8"
             ],
             [
              0.3333333333333333,
              "#9c179e"
             ],
             [
              0.4444444444444444,
              "#bd3786"
             ],
             [
              0.5555555555555556,
              "#d8576b"
             ],
             [
              0.6666666666666666,
              "#ed7953"
             ],
             [
              0.7777777777777778,
              "#fb9f3a"
             ],
             [
              0.8888888888888888,
              "#fdca26"
             ],
             [
              1,
              "#f0f921"
             ]
            ],
            "type": "surface"
           }
          ],
          "table": [
           {
            "cells": {
             "fill": {
              "color": "#EBF0F8"
             },
             "line": {
              "color": "white"
             }
            },
            "header": {
             "fill": {
              "color": "#C8D4E3"
             },
             "line": {
              "color": "white"
             }
            },
            "type": "table"
           }
          ]
         },
         "layout": {
          "annotationdefaults": {
           "arrowcolor": "#2a3f5f",
           "arrowhead": 0,
           "arrowwidth": 1
          },
          "autotypenumbers": "strict",
          "coloraxis": {
           "colorbar": {
            "outlinewidth": 0,
            "ticks": ""
           }
          },
          "colorscale": {
           "diverging": [
            [
             0,
             "#8e0152"
            ],
            [
             0.1,
             "#c51b7d"
            ],
            [
             0.2,
             "#de77ae"
            ],
            [
             0.3,
             "#f1b6da"
            ],
            [
             0.4,
             "#fde0ef"
            ],
            [
             0.5,
             "#f7f7f7"
            ],
            [
             0.6,
             "#e6f5d0"
            ],
            [
             0.7,
             "#b8e186"
            ],
            [
             0.8,
             "#7fbc41"
            ],
            [
             0.9,
             "#4d9221"
            ],
            [
             1,
             "#276419"
            ]
           ],
           "sequential": [
            [
             0,
             "#0d0887"
            ],
            [
             0.1111111111111111,
             "#46039f"
            ],
            [
             0.2222222222222222,
             "#7201a8"
            ],
            [
             0.3333333333333333,
             "#9c179e"
            ],
            [
             0.4444444444444444,
             "#bd3786"
            ],
            [
             0.5555555555555556,
             "#d8576b"
            ],
            [
             0.6666666666666666,
             "#ed7953"
            ],
            [
             0.7777777777777778,
             "#fb9f3a"
            ],
            [
             0.8888888888888888,
             "#fdca26"
            ],
            [
             1,
             "#f0f921"
            ]
           ],
           "sequentialminus": [
            [
             0,
             "#0d0887"
            ],
            [
             0.1111111111111111,
             "#46039f"
            ],
            [
             0.2222222222222222,
             "#7201a8"
            ],
            [
             0.3333333333333333,
             "#9c179e"
            ],
            [
             0.4444444444444444,
             "#bd3786"
            ],
            [
             0.5555555555555556,
             "#d8576b"
            ],
            [
             0.6666666666666666,
             "#ed7953"
            ],
            [
             0.7777777777777778,
             "#fb9f3a"
            ],
            [
             0.8888888888888888,
             "#fdca26"
            ],
            [
             1,
             "#f0f921"
            ]
           ]
          },
          "colorway": [
           "#636efa",
           "#EF553B",
           "#00cc96",
           "#ab63fa",
           "#FFA15A",
           "#19d3f3",
           "#FF6692",
           "#B6E880",
           "#FF97FF",
           "#FECB52"
          ],
          "font": {
           "color": "#2a3f5f"
          },
          "geo": {
           "bgcolor": "white",
           "lakecolor": "white",
           "landcolor": "#E5ECF6",
           "showlakes": true,
           "showland": true,
           "subunitcolor": "white"
          },
          "hoverlabel": {
           "align": "left"
          },
          "hovermode": "closest",
          "mapbox": {
           "style": "light"
          },
          "paper_bgcolor": "white",
          "plot_bgcolor": "#E5ECF6",
          "polar": {
           "angularaxis": {
            "gridcolor": "white",
            "linecolor": "white",
            "ticks": ""
           },
           "bgcolor": "#E5ECF6",
           "radialaxis": {
            "gridcolor": "white",
            "linecolor": "white",
            "ticks": ""
           }
          },
          "scene": {
           "xaxis": {
            "backgroundcolor": "#E5ECF6",
            "gridcolor": "white",
            "gridwidth": 2,
            "linecolor": "white",
            "showbackground": true,
            "ticks": "",
            "zerolinecolor": "white"
           },
           "yaxis": {
            "backgroundcolor": "#E5ECF6",
            "gridcolor": "white",
            "gridwidth": 2,
            "linecolor": "white",
            "showbackground": true,
            "ticks": "",
            "zerolinecolor": "white"
           },
           "zaxis": {
            "backgroundcolor": "#E5ECF6",
            "gridcolor": "white",
            "gridwidth": 2,
            "linecolor": "white",
            "showbackground": true,
            "ticks": "",
            "zerolinecolor": "white"
           }
          },
          "shapedefaults": {
           "line": {
            "color": "#2a3f5f"
           }
          },
          "ternary": {
           "aaxis": {
            "gridcolor": "white",
            "linecolor": "white",
            "ticks": ""
           },
           "baxis": {
            "gridcolor": "white",
            "linecolor": "white",
            "ticks": ""
           },
           "bgcolor": "#E5ECF6",
           "caxis": {
            "gridcolor": "white",
            "linecolor": "white",
            "ticks": ""
           }
          },
          "title": {
           "x": 0.05
          },
          "xaxis": {
           "automargin": true,
           "gridcolor": "white",
           "linecolor": "white",
           "ticks": "",
           "title": {
            "standoff": 15
           },
           "zerolinecolor": "white",
           "zerolinewidth": 2
          },
          "yaxis": {
           "automargin": true,
           "gridcolor": "white",
           "linecolor": "white",
           "ticks": "",
           "title": {
            "standoff": 15
           },
           "zerolinecolor": "white",
           "zerolinewidth": 2
          }
         }
        },
        "width": 355,
        "xaxis": {
         "range": [
          0,
          355
         ],
         "visible": false
        },
        "yaxis": {
         "range": [
          0,
          275
         ],
         "scaleanchor": "x",
         "visible": false
        }
       }
      },
      "text/html": [
       "<div>                            <div id=\"9f94dd5b-c923-4cf0-ac67-d245fe330915\" class=\"plotly-graph-div\" style=\"height:275.0px; width:355.0px;\"></div>            <script type=\"text/javascript\">                require([\"plotly\"], function(Plotly) {                    window.PLOTLYENV=window.PLOTLYENV || {};                                    if (document.getElementById(\"9f94dd5b-c923-4cf0-ac67-d245fe330915\")) {                    Plotly.newPlot(                        \"9f94dd5b-c923-4cf0-ac67-d245fe330915\",                        [{\"marker\":{\"opacity\":0},\"mode\":\"markers\",\"type\":\"scatter\",\"x\":[0,355.0],\"y\":[0,275.0]}],                        {\"height\":275.0,\"images\":[{\"layer\":\"below\",\"opacity\":1.0,\"sizex\":355.0,\"sizey\":275.0,\"sizing\":\"stretch\",\"source\":\"data:image/png;base64,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\",\"x\":0,\"xref\":\"x\",\"y\":275.0,\"yref\":\"y\"}],\"margin\":{\"b\":0,\"l\":0,\"r\":0,\"t\":0},\"template\":{\"data\":{\"bar\":[{\"error_x\":{\"color\":\"#2a3f5f\"},\"error_y\":{\"color\":\"#2a3f5f\"},\"marker\":{\"line\":{\"color\":\"#E5ECF6\",\"width\":0.5},\"pattern\":{\"fillmode\":\"overlay\",\"size\":10,\"solidity\":0.2}},\"type\":\"bar\"}],\"barpolar\":[{\"marker\":{\"line\":{\"color\":\"#E5ECF6\",\"width\":0.5},\"pattern\":{\"fillmode\":\"overlay\",\"size\":10,\"solidity\":0.2}},\"type\":\"barpolar\"}],\"carpet\":[{\"aaxis\":{\"endlinecolor\":\"#2a3f5f\",\"gridcolor\":\"white\",\"linecolor\":\"white\",\"minorgridcolor\":\"white\",\"startlinecolor\":\"#2a3f5f\"},\"baxis\":{\"endlinecolor\":\"#2a3f5f\",\"gridcolor\":\"white\",\"linecolor\":\"white\",\"minorgridcolor\":\"white\",\"startlinecolor\":\"#2a3f5f\"},\"type\":\"carpet\"}],\"choropleth\":[{\"colorbar\":{\"outlinewidth\":0,\"ticks\":\"\"},\"type\":\"choropleth\"}],\"contour\":[{\"colorbar\":{\"outlinewidth\":0,\"ticks\":\"\"},\"colorscale\":[[0.0,\"#0d0887\"],[0.1111111111111111,\"#46039f\"],[0.2222222222222222,\"#7201a8\"],[0.3333333333333333,\"#9c179e\"],[0.4444444444444444,\"#bd3786\"],[0.5555555555555556,\"#d8576b\"],[0.6666666666666666,\"#ed7953\"],[0.7777777777777778,\"#fb9f3a\"],[0.8888888888888888,\"#fdca26\"],[1.0,\"#f0f921\"]],\"type\":\"contour\"}],\"contourcarpet\":[{\"colorbar\":{\"outlinewidth\":0,\"ticks\":\"\"},\"type\":\"contourcarpet\"}],\"heatmap\":[{\"colorbar\":{\"outlinewidth\":0,\"ticks\":\"\"},\"colorscale\":[[0.0,\"#0d0887\"],[0.1111111111111111,\"#46039f\"],[0.2222222222222222,\"#7201a8\"],[0.3333333333333333,\"#9c179e\"],[0.4444444444444444,\"#bd3786\"],[0.5555555555555556,\"#d8576b\"],[0.6666666666666666,\"#ed7953\"],[0.7777777777777778,\"#fb9f3a\"],[0.8888888888888888,\"#fdca26\"],[1.0,\"#f0f921\"]],\"type\":\"heatmap\"}],\"heatmapgl\":[{\"colorbar\":{\"outlinewidth\":0,\"ticks\":\"\"},\"colorscale\":[[0.0,\"#0d0887\"],[0.1111111111111111,\"#46039f\"],[0.2222222222222222,\"#7201a8\"],[0.3333333333333333,\"#9c179e\"],[0.4444444444444444,\"#bd3786\"],[0.5555555555555556,\"#d8576b\"],[0.6666666666666666,\"#ed7953\"],[0.7777777777777778,\"#fb9f3a\"],[0.8888888888888888,\"#fdca26\"],[1.0,\"#f0f921\"]],\"type\":\"heatmapgl\"}],\"histogram\":[{\"marker\":{\"pattern\":{\"fillmode\":\"overlay\",\"size\":10,\"solidity\":0.2}},\"type\":\"histogram\"}],\"histogram2d\":[{\"colorbar\":{\"outlinewidth\":0,\"ticks\":\"\"},\"colorscale\":[[0.0,\"#0d0887\"],[0.1111111111111111,\"#46039f\"],[0.2222222222222222,\"#7201a8\"],[0.3333333333333333,\"#9c179e\"],[0.4444444444444444,\"#bd3786\"],[0.5555555555555556,\"#d8576b\"],[0.6666666666666666,\"#ed7953\"],[0.7777777777777778,\"#fb9f3a\"],[0.8888888888888888,\"#fdca26\"],[1.0,\"#f0f921\"]],\"type\":\"histogram2d\"}],\"histogram2dcontour\":[{\"colorbar\":{\"outlinewidth\":0,\"ticks\":\"\"},\"colorscale\":[[0.0,\"#0d0887\"],[0.1111111111111111,\"#46039f\"],[0.2222222222222222,\"#7201a8\"],[0.3333333333333333,\"#9c179e\"],[0.4444444444444444,\"#bd3786\"],[0.5555555555555556,\"#d8576b\"],[0.6666666666666666,\"#ed7953\"],[0.7777777777777778,\"#fb9f3a\"],[0.8888888888888888,\"#fdca26\"],[1.0,\"#f0f921\"]],\"type\":\"histogram2dcontour\"}],\"mesh3d\":[{\"colorbar\":{\"outlinewidth\":0,\"ticks\":\"\"},\"type\":\"mesh3d\"}],\"parcoords\":[{\"line\":{\"colorbar\":{\"outlinewidth\":0,\"ticks\":\"\"}},\"type\":\"parcoords\"}],\"pie\":[{\"automargin\":true,\"type\":\"pie\"}],\"scatter\":[{\"marker\":{\"colorbar\":{\"outlinewidth\":0,\"ticks\":\"\"}},\"type\":\"scatter\"}],\"scatter3d\":[{\"line\":{\"colorbar\":{\"outlinewidth\":0,\"ticks\":\"\"}},\"marker\":{\"colorbar\":{\"outlinewidth\":0,\"ticks\":\"\"}},\"type\":\"scatter3d\"}],\"scattercarpet\":[{\"marker\":{\"colorbar\":{\"outlinewidth\":0,\"ticks\":\"\"}},\"type\":\"scattercarpet\"}],\"scattergeo\":[{\"marker\":{\"colorbar\":{\"outlinewidth\":0,\"ticks\":\"\"}},\"type\":\"scattergeo\"}],\"scattergl\":[{\"marker\":{\"colorbar\":{\"outlinewidth\":0,\"ticks\":\"\"}},\"type\":\"scattergl\"}],\"scattermapbox\":[{\"marker\":{\"colorbar\":{\"outlinewidth\":0,\"ticks\":\"\"}},\"type\":\"scattermapbox\"}],\"scatterpolar\":[{\"marker\":{\"colorbar\":{\"outlinewidth\":0,\"ticks\":\"\"}},\"type\":\"scatterpolar\"}],\"scatterpolargl\":[{\"marker\":{\"colorbar\":{\"outlinewidth\":0,\"ticks\":\"\"}},\"type\":\"scatterpolargl\"}],\"scatterternary\":[{\"marker\":{\"colorbar\":{\"outlinewidth\":0,\"ticks\":\"\"}},\"type\":\"scatterternary\"}],\"surface\":[{\"colorbar\":{\"outlinewidth\":0,\"ticks\":\"\"},\"colorscale\":[[0.0,\"#0d0887\"],[0.1111111111111111,\"#46039f\"],[0.2222222222222222,\"#7201a8\"],[0.3333333333333333,\"#9c179e\"],[0.4444444444444444,\"#bd3786\"],[0.5555555555555556,\"#d8576b\"],[0.6666666666666666,\"#ed7953\"],[0.7777777777777778,\"#fb9f3a\"],[0.8888888888888888,\"#fdca26\"],[1.0,\"#f0f921\"]],\"type\":\"surface\"}],\"table\":[{\"cells\":{\"fill\":{\"color\":\"#EBF0F8\"},\"line\":{\"color\":\"white\"}},\"header\":{\"fill\":{\"color\":\"#C8D4E3\"},\"line\":{\"color\":\"white\"}},\"type\":\"table\"}]},\"layout\":{\"annotationdefaults\":{\"arrowcolor\":\"#2a3f5f\",\"arrowhead\":0,\"arrowwidth\":1},\"autotypenumbers\":\"strict\",\"coloraxis\":{\"colorbar\":{\"outlinewidth\":0,\"ticks\":\"\"}},\"colorscale\":{\"diverging\":[[0,\"#8e0152\"],[0.1,\"#c51b7d\"],[0.2,\"#de77ae\"],[0.3,\"#f1b6da\"],[0.4,\"#fde0ef\"],[0.5,\"#f7f7f7\"],[0.6,\"#e6f5d0\"],[0.7,\"#b8e186\"],[0.8,\"#7fbc41\"],[0.9,\"#4d9221\"],[1,\"#276419\"]],\"sequential\":[[0.0,\"#0d0887\"],[0.1111111111111111,\"#46039f\"],[0.2222222222222222,\"#7201a8\"],[0.3333333333333333,\"#9c179e\"],[0.4444444444444444,\"#bd3786\"],[0.5555555555555556,\"#d8576b\"],[0.6666666666666666,\"#ed7953\"],[0.7777777777777778,\"#fb9f3a\"],[0.8888888888888888,\"#fdca26\"],[1.0,\"#f0f921\"]],\"sequentialminus\":[[0.0,\"#0d0887\"],[0.1111111111111111,\"#46039f\"],[0.2222222222222222,\"#7201a8\"],[0.3333333333333333,\"#9c179e\"],[0.4444444444444444,\"#bd3786\"],[0.5555555555555556,\"#d8576b\"],[0.6666666666666666,\"#ed7953\"],[0.7777777777777778,\"#fb9f3a\"],[0.8888888888888888,\"#fdca26\"],[1.0,\"#f0f921\"]]},\"colorway\":[\"#636efa\",\"#EF553B\",\"#00cc96\",\"#ab63fa\",\"#FFA15A\",\"#19d3f3\",\"#FF6692\",\"#B6E880\",\"#FF97FF\",\"#FECB52\"],\"font\":{\"color\":\"#2a3f5f\"},\"geo\":{\"bgcolor\":\"white\",\"lakecolor\":\"white\",\"landcolor\":\"#E5ECF6\",\"showlakes\":true,\"showland\":true,\"subunitcolor\":\"white\"},\"hoverlabel\":{\"align\":\"left\"},\"hovermode\":\"closest\",\"mapbox\":{\"style\":\"light\"},\"paper_bgcolor\":\"white\",\"plot_bgcolor\":\"#E5ECF6\",\"polar\":{\"angularaxis\":{\"gridcolor\":\"white\",\"linecolor\":\"white\",\"ticks\":\"\"},\"bgcolor\":\"#E5ECF6\",\"radialaxis\":{\"gridcolor\":\"white\",\"linecolor\":\"white\",\"ticks\":\"\"}},\"scene\":{\"xaxis\":{\"backgroundcolor\":\"#E5ECF6\",\"gridcolor\":\"white\",\"gridwidth\":2,\"linecolor\":\"white\",\"showbackground\":true,\"ticks\":\"\",\"zerolinecolor\":\"white\"},\"yaxis\":{\"backgroundcolor\":\"#E5ECF6\",\"gridcolor\":\"white\",\"gridwidth\":2,\"linecolor\":\"white\",\"showbackground\":true,\"ticks\":\"\",\"zerolinecolor\":\"white\"},\"zaxis\":{\"backgroundcolor\":\"#E5ECF6\",\"gridcolor\":\"white\",\"gridwidth\":2,\"linecolor\":\"white\",\"showbackground\":true,\"ticks\":\"\",\"zerolinecolor\":\"white\"}},\"shapedefaults\":{\"line\":{\"color\":\"#2a3f5f\"}},\"ternary\":{\"aaxis\":{\"gridcolor\":\"white\",\"linecolor\":\"white\",\"ticks\":\"\"},\"baxis\":{\"gridcolor\":\"white\",\"linecolor\":\"white\",\"ticks\":\"\"},\"bgcolor\":\"#E5ECF6\",\"caxis\":{\"gridcolor\":\"white\",\"linecolor\":\"white\",\"ticks\":\"\"}},\"title\":{\"x\":0.05},\"xaxis\":{\"automargin\":true,\"gridcolor\":\"white\",\"linecolor\":\"white\",\"ticks\":\"\",\"title\":{\"standoff\":15},\"zerolinecolor\":\"white\",\"zerolinewidth\":2},\"yaxis\":{\"automargin\":true,\"gridcolor\":\"white\",\"linecolor\":\"white\",\"ticks\":\"\",\"title\":{\"standoff\":15},\"zerolinecolor\":\"white\",\"zerolinewidth\":2}}},\"width\":355.0,\"xaxis\":{\"range\":[0,355.0],\"visible\":false},\"yaxis\":{\"range\":[0,275.0],\"scaleanchor\":\"x\",\"visible\":false}},                        {\"doubleClick\": \"reset\", \"responsive\": true}                    ).then(function(){\n",
       "                            \n",
       "var gd = document.getElementById('9f94dd5b-c923-4cf0-ac67-d245fe330915');\n",
       "var x = new MutationObserver(function (mutations, observer) {{\n",
       "        var display = window.getComputedStyle(gd).display;\n",
       "        if (!display || display === 'none') {{\n",
       "            console.log([gd, 'removed!']);\n",
       "            Plotly.purge(gd);\n",
       "            observer.disconnect();\n",
       "        }}\n",
       "}});\n",
       "\n",
       "// Listen for the removal of the full notebook cells\n",
       "var notebookContainer = gd.closest('#notebook-container');\n",
       "if (notebookContainer) {{\n",
       "    x.observe(notebookContainer, {childList: true});\n",
       "}}\n",
       "\n",
       "// Listen for the clearing of the current output cell\n",
       "var outputEl = gd.closest('.output');\n",
       "if (outputEl) {{\n",
       "    x.observe(outputEl, {childList: true});\n",
       "}}\n",
       "\n",
       "                        })                };                });            </script>        </div>"
      ]
     },
     "metadata": {},
     "output_type": "display_data"
    },
    {
     "data": {
      "application/vnd.plotly.v1+json": {
       "config": {
        "doubleClick": "reset",
        "plotlyServerURL": "https://plot.ly"
       },
       "data": [
        {
         "marker": {
          "opacity": 0
         },
         "mode": "markers",
         "type": "scatter",
         "x": [
          0,
          355
         ],
         "y": [
          0,
          275
         ]
        }
       ],
       "layout": {
        "height": 275,
        "images": [
         {
          "layer": "below",
          "opacity": 1,
          "sizex": 355,
          "sizey": 275,
          "sizing": "stretch",
          "source": "data:image/png;base64,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",
          "x": 0,
          "xref": "x",
          "y": 275,
          "yref": "y"
         }
        ],
        "margin": {
         "b": 0,
         "l": 0,
         "r": 0,
         "t": 0
        },
        "template": {
         "data": {
          "bar": [
           {
            "error_x": {
             "color": "#2a3f5f"
            },
            "error_y": {
             "color": "#2a3f5f"
            },
            "marker": {
             "line": {
              "color": "#E5ECF6",
              "width": 0.5
             },
             "pattern": {
              "fillmode": "overlay",
              "size": 10,
              "solidity": 0.2
             }
            },
            "type": "bar"
           }
          ],
          "barpolar": [
           {
            "marker": {
             "line": {
              "color": "#E5ECF6",
              "width": 0.5
             },
             "pattern": {
              "fillmode": "overlay",
              "size": 10,
              "solidity": 0.2
             }
            },
            "type": "barpolar"
           }
          ],
          "carpet": [
           {
            "aaxis": {
             "endlinecolor": "#2a3f5f",
             "gridcolor": "white",
             "linecolor": "white",
             "minorgridcolor": "white",
             "startlinecolor": "#2a3f5f"
            },
            "baxis": {
             "endlinecolor": "#2a3f5f",
             "gridcolor": "white",
             "linecolor": "white",
             "minorgridcolor": "white",
             "startlinecolor": "#2a3f5f"
            },
            "type": "carpet"
           }
          ],
          "choropleth": [
           {
            "colorbar": {
             "outlinewidth": 0,
             "ticks": ""
            },
            "type": "choropleth"
           }
          ],
          "contour": [
           {
            "colorbar": {
             "outlinewidth": 0,
             "ticks": ""
            },
            "colorscale": [
             [
              0,
              "#0d0887"
             ],
             [
              0.1111111111111111,
              "#46039f"
             ],
             [
              0.2222222222222222,
              "#7201a8"
             ],
             [
              0.3333333333333333,
              "#9c179e"
             ],
             [
              0.4444444444444444,
              "#bd3786"
             ],
             [
              0.5555555555555556,
              "#d8576b"
             ],
             [
              0.6666666666666666,
              "#ed7953"
             ],
             [
              0.7777777777777778,
              "#fb9f3a"
             ],
             [
              0.8888888888888888,
              "#fdca26"
             ],
             [
              1,
              "#f0f921"
             ]
            ],
            "type": "contour"
           }
          ],
          "contourcarpet": [
           {
            "colorbar": {
             "outlinewidth": 0,
             "ticks": ""
            },
            "type": "contourcarpet"
           }
          ],
          "heatmap": [
           {
            "colorbar": {
             "outlinewidth": 0,
             "ticks": ""
            },
            "colorscale": [
             [
              0,
              "#0d0887"
             ],
             [
              0.1111111111111111,
              "#46039f"
             ],
             [
              0.2222222222222222,
              "#7201a8"
             ],
             [
              0.3333333333333333,
              "#9c179e"
             ],
             [
              0.4444444444444444,
              "#bd3786"
             ],
             [
              0.5555555555555556,
              "#d8576b"
             ],
             [
              0.6666666666666666,
              "#ed7953"
             ],
             [
              0.7777777777777778,
              "#fb9f3a"
             ],
             [
              0.8888888888888888,
              "#fdca26"
             ],
             [
              1,
              "#f0f921"
             ]
            ],
            "type": "heatmap"
           }
          ],
          "heatmapgl": [
           {
            "colorbar": {
             "outlinewidth": 0,
             "ticks": ""
            },
            "colorscale": [
             [
              0,
              "#0d0887"
             ],
             [
              0.1111111111111111,
              "#46039f"
             ],
             [
              0.2222222222222222,
              "#7201a8"
             ],
             [
              0.3333333333333333,
              "#9c179e"
             ],
             [
              0.4444444444444444,
              "#bd3786"
             ],
             [
              0.5555555555555556,
              "#d8576b"
             ],
             [
              0.6666666666666666,
              "#ed7953"
             ],
             [
              0.7777777777777778,
              "#fb9f3a"
             ],
             [
              0.8888888888888888,
              "#fdca26"
             ],
             [
              1,
              "#f0f921"
             ]
            ],
            "type": "heatmapgl"
           }
          ],
          "histogram": [
           {
            "marker": {
             "pattern": {
              "fillmode": "overlay",
              "size": 10,
              "solidity": 0.2
             }
            },
            "type": "histogram"
           }
          ],
          "histogram2d": [
           {
            "colorbar": {
             "outlinewidth": 0,
             "ticks": ""
            },
            "colorscale": [
             [
              0,
              "#0d0887"
             ],
             [
              0.1111111111111111,
              "#46039f"
             ],
             [
              0.2222222222222222,
              "#7201a8"
             ],
             [
              0.3333333333333333,
              "#9c179e"
             ],
             [
              0.4444444444444444,
              "#bd3786"
             ],
             [
              0.5555555555555556,
              "#d8576b"
             ],
             [
              0.6666666666666666,
              "#ed7953"
             ],
             [
              0.7777777777777778,
              "#fb9f3a"
             ],
             [
              0.8888888888888888,
              "#fdca26"
             ],
             [
              1,
              "#f0f921"
             ]
            ],
            "type": "histogram2d"
           }
          ],
          "histogram2dcontour": [
           {
            "colorbar": {
             "outlinewidth": 0,
             "ticks": ""
            },
            "colorscale": [
             [
              0,
              "#0d0887"
             ],
             [
              0.1111111111111111,
              "#46039f"
             ],
             [
              0.2222222222222222,
              "#7201a8"
             ],
             [
              0.3333333333333333,
              "#9c179e"
             ],
             [
              0.4444444444444444,
              "#bd3786"
             ],
             [
              0.5555555555555556,
              "#d8576b"
             ],
             [
              0.6666666666666666,
              "#ed7953"
             ],
             [
              0.7777777777777778,
              "#fb9f3a"
             ],
             [
              0.8888888888888888,
              "#fdca26"
             ],
             [
              1,
              "#f0f921"
             ]
            ],
            "type": "histogram2dcontour"
           }
          ],
          "mesh3d": [
           {
            "colorbar": {
             "outlinewidth": 0,
             "ticks": ""
            },
            "type": "mesh3d"
           }
          ],
          "parcoords": [
           {
            "line": {
             "colorbar": {
              "outlinewidth": 0,
              "ticks": ""
             }
            },
            "type": "parcoords"
           }
          ],
          "pie": [
           {
            "automargin": true,
            "type": "pie"
           }
          ],
          "scatter": [
           {
            "marker": {
             "colorbar": {
              "outlinewidth": 0,
              "ticks": ""
             }
            },
            "type": "scatter"
           }
          ],
          "scatter3d": [
           {
            "line": {
             "colorbar": {
              "outlinewidth": 0,
              "ticks": ""
             }
            },
            "marker": {
             "colorbar": {
              "outlinewidth": 0,
              "ticks": ""
             }
            },
            "type": "scatter3d"
           }
          ],
          "scattercarpet": [
           {
            "marker": {
             "colorbar": {
              "outlinewidth": 0,
              "ticks": ""
             }
            },
            "type": "scattercarpet"
           }
          ],
          "scattergeo": [
           {
            "marker": {
             "colorbar": {
              "outlinewidth": 0,
              "ticks": ""
             }
            },
            "type": "scattergeo"
           }
          ],
          "scattergl": [
           {
            "marker": {
             "colorbar": {
              "outlinewidth": 0,
              "ticks": ""
             }
            },
            "type": "scattergl"
           }
          ],
          "scattermapbox": [
           {
            "marker": {
             "colorbar": {
              "outlinewidth": 0,
              "ticks": ""
             }
            },
            "type": "scattermapbox"
           }
          ],
          "scatterpolar": [
           {
            "marker": {
             "colorbar": {
              "outlinewidth": 0,
              "ticks": ""
             }
            },
            "type": "scatterpolar"
           }
          ],
          "scatterpolargl": [
           {
            "marker": {
             "colorbar": {
              "outlinewidth": 0,
              "ticks": ""
             }
            },
            "type": "scatterpolargl"
           }
          ],
          "scatterternary": [
           {
            "marker": {
             "colorbar": {
              "outlinewidth": 0,
              "ticks": ""
             }
            },
            "type": "scatterternary"
           }
          ],
          "surface": [
           {
            "colorbar": {
             "outlinewidth": 0,
             "ticks": ""
            },
            "colorscale": [
             [
              0,
              "#0d0887"
             ],
             [
              0.1111111111111111,
              "#46039f"
             ],
             [
              0.2222222222222222,
              "#7201a8"
             ],
             [
              0.3333333333333333,
              "#9c179e"
             ],
             [
              0.4444444444444444,
              "#bd3786"
             ],
             [
              0.5555555555555556,
              "#d8576b"
             ],
             [
              0.6666666666666666,
              "#ed7953"
             ],
             [
              0.7777777777777778,
              "#fb9f3a"
             ],
             [
              0.8888888888888888,
              "#fdca26"
             ],
             [
              1,
              "#f0f921"
             ]
            ],
            "type": "surface"
           }
          ],
          "table": [
           {
            "cells": {
             "fill": {
              "color": "#EBF0F8"
             },
             "line": {
              "color": "white"
             }
            },
            "header": {
             "fill": {
              "color": "#C8D4E3"
             },
             "line": {
              "color": "white"
             }
            },
            "type": "table"
           }
          ]
         },
         "layout": {
          "annotationdefaults": {
           "arrowcolor": "#2a3f5f",
           "arrowhead": 0,
           "arrowwidth": 1
          },
          "autotypenumbers": "strict",
          "coloraxis": {
           "colorbar": {
            "outlinewidth": 0,
            "ticks": ""
           }
          },
          "colorscale": {
           "diverging": [
            [
             0,
             "#8e0152"
            ],
            [
             0.1,
             "#c51b7d"
            ],
            [
             0.2,
             "#de77ae"
            ],
            [
             0.3,
             "#f1b6da"
            ],
            [
             0.4,
             "#fde0ef"
            ],
            [
             0.5,
             "#f7f7f7"
            ],
            [
             0.6,
             "#e6f5d0"
            ],
            [
             0.7,
             "#b8e186"
            ],
            [
             0.8,
             "#7fbc41"
            ],
            [
             0.9,
             "#4d9221"
            ],
            [
             1,
             "#276419"
            ]
           ],
           "sequential": [
            [
             0,
             "#0d0887"
            ],
            [
             0.1111111111111111,
             "#46039f"
            ],
            [
             0.2222222222222222,
             "#7201a8"
            ],
            [
             0.3333333333333333,
             "#9c179e"
            ],
            [
             0.4444444444444444,
             "#bd3786"
            ],
            [
             0.5555555555555556,
             "#d8576b"
            ],
            [
             0.6666666666666666,
             "#ed7953"
            ],
            [
             0.7777777777777778,
             "#fb9f3a"
            ],
            [
             0.8888888888888888,
             "#fdca26"
            ],
            [
             1,
             "#f0f921"
            ]
           ],
           "sequentialminus": [
            [
             0,
             "#0d0887"
            ],
            [
             0.1111111111111111,
             "#46039f"
            ],
            [
             0.2222222222222222,
             "#7201a8"
            ],
            [
             0.3333333333333333,
             "#9c179e"
            ],
            [
             0.4444444444444444,
             "#bd3786"
            ],
            [
             0.5555555555555556,
             "#d8576b"
            ],
            [
             0.6666666666666666,
             "#ed7953"
            ],
            [
             0.7777777777777778,
             "#fb9f3a"
            ],
            [
             0.8888888888888888,
             "#fdca26"
            ],
            [
             1,
             "#f0f921"
            ]
           ]
          },
          "colorway": [
           "#636efa",
           "#EF553B",
           "#00cc96",
           "#ab63fa",
           "#FFA15A",
           "#19d3f3",
           "#FF6692",
           "#B6E880",
           "#FF97FF",
           "#FECB52"
          ],
          "font": {
           "color": "#2a3f5f"
          },
          "geo": {
           "bgcolor": "white",
           "lakecolor": "white",
           "landcolor": "#E5ECF6",
           "showlakes": true,
           "showland": true,
           "subunitcolor": "white"
          },
          "hoverlabel": {
           "align": "left"
          },
          "hovermode": "closest",
          "mapbox": {
           "style": "light"
          },
          "paper_bgcolor": "white",
          "plot_bgcolor": "#E5ECF6",
          "polar": {
           "angularaxis": {
            "gridcolor": "white",
            "linecolor": "white",
            "ticks": ""
           },
           "bgcolor": "#E5ECF6",
           "radialaxis": {
            "gridcolor": "white",
            "linecolor": "white",
            "ticks": ""
           }
          },
          "scene": {
           "xaxis": {
            "backgroundcolor": "#E5ECF6",
            "gridcolor": "white",
            "gridwidth": 2,
            "linecolor": "white",
            "showbackground": true,
            "ticks": "",
            "zerolinecolor": "white"
           },
           "yaxis": {
            "backgroundcolor": "#E5ECF6",
            "gridcolor": "white",
            "gridwidth": 2,
            "linecolor": "white",
            "showbackground": true,
            "ticks": "",
            "zerolinecolor": "white"
           },
           "zaxis": {
            "backgroundcolor": "#E5ECF6",
            "gridcolor": "white",
            "gridwidth": 2,
            "linecolor": "white",
            "showbackground": true,
            "ticks": "",
            "zerolinecolor": "white"
           }
          },
          "shapedefaults": {
           "line": {
            "color": "#2a3f5f"
           }
          },
          "ternary": {
           "aaxis": {
            "gridcolor": "white",
            "linecolor": "white",
            "ticks": ""
           },
           "baxis": {
            "gridcolor": "white",
            "linecolor": "white",
            "ticks": ""
           },
           "bgcolor": "#E5ECF6",
           "caxis": {
            "gridcolor": "white",
            "linecolor": "white",
            "ticks": ""
           }
          },
          "title": {
           "x": 0.05
          },
          "xaxis": {
           "automargin": true,
           "gridcolor": "white",
           "linecolor": "white",
           "ticks": "",
           "title": {
            "standoff": 15
           },
           "zerolinecolor": "white",
           "zerolinewidth": 2
          },
          "yaxis": {
           "automargin": true,
           "gridcolor": "white",
           "linecolor": "white",
           "ticks": "",
           "title": {
            "standoff": 15
           },
           "zerolinecolor": "white",
           "zerolinewidth": 2
          }
         }
        },
        "width": 355,
        "xaxis": {
         "range": [
          0,
          355
         ],
         "visible": false
        },
        "yaxis": {
         "range": [
          0,
          275
         ],
         "scaleanchor": "x",
         "visible": false
        }
       }
      },
      "text/html": [
       "<div>                            <div id=\"296af037-c7a5-4981-8251-cbfee3959a7a\" class=\"plotly-graph-div\" style=\"height:275.0px; width:355.0px;\"></div>            <script type=\"text/javascript\">                require([\"plotly\"], function(Plotly) {                    window.PLOTLYENV=window.PLOTLYENV || {};                                    if (document.getElementById(\"296af037-c7a5-4981-8251-cbfee3959a7a\")) {                    Plotly.newPlot(                        \"296af037-c7a5-4981-8251-cbfee3959a7a\",                        [{\"marker\":{\"opacity\":0},\"mode\":\"markers\",\"type\":\"scatter\",\"x\":[0,355.0],\"y\":[0,275.0]}],                        {\"height\":275.0,\"images\":[{\"layer\":\"below\",\"opacity\":1.0,\"sizex\":355.0,\"sizey\":275.0,\"sizing\":\"stretch\",\"source\":\"data:image/png;base64,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\",\"x\":0,\"xref\":\"x\",\"y\":275.0,\"yref\":\"y\"}],\"margin\":{\"b\":0,\"l\":0,\"r\":0,\"t\":0},\"template\":{\"data\":{\"bar\":[{\"error_x\":{\"color\":\"#2a3f5f\"},\"error_y\":{\"color\":\"#2a3f5f\"},\"marker\":{\"line\":{\"color\":\"#E5ECF6\",\"width\":0.5},\"pattern\":{\"fillmode\":\"overlay\",\"size\":10,\"solidity\":0.2}},\"type\":\"bar\"}],\"barpolar\":[{\"marker\":{\"line\":{\"color\":\"#E5ECF6\",\"width\":0.5},\"pattern\":{\"fillmode\":\"overlay\",\"size\":10,\"solidity\":0.2}},\"type\":\"barpolar\"}],\"carpet\":[{\"aaxis\":{\"endlinecolor\":\"#2a3f5f\",\"gridcolor\":\"white\",\"linecolor\":\"white\",\"minorgridcolor\":\"white\",\"startlinecolor\":\"#2a3f5f\"},\"baxis\":{\"endlinecolor\":\"#2a3f5f\",\"gridcolor\":\"white\",\"linecolor\":\"white\",\"minorgridcolor\":\"white\",\"startlinecolor\":\"#2a3f5f\"},\"type\":\"carpet\"}],\"choropleth\":[{\"colorbar\":{\"outlinewidth\":0,\"ticks\":\"\"},\"type\":\"choropleth\"}],\"contour\":[{\"colorbar\":{\"outlinewidth\":0,\"ticks\":\"\"},\"colorscale\":[[0.0,\"#0d0887\"],[0.1111111111111111,\"#46039f\"],[0.2222222222222222,\"#7201a8\"],[0.3333333333333333,\"#9c179e\"],[0.4444444444444444,\"#bd3786\"],[0.5555555555555556,\"#d8576b\"],[0.6666666666666666,\"#ed7953\"],[0.7777777777777778,\"#fb9f3a\"],[0.8888888888888888,\"#fdca26\"],[1.0,\"#f0f921\"]],\"type\":\"contour\"}],\"contourcarpet\":[{\"colorbar\":{\"outlinewidth\":0,\"ticks\":\"\"},\"type\":\"contourcarpet\"}],\"heatmap\":[{\"colorbar\":{\"outlinewidth\":0,\"ticks\":\"\"},\"colorscale\":[[0.0,\"#0d0887\"],[0.1111111111111111,\"#46039f\"],[0.2222222222222222,\"#7201a8\"],[0.3333333333333333,\"#9c179e\"],[0.4444444444444444,\"#bd3786\"],[0.5555555555555556,\"#d8576b\"],[0.6666666666666666,\"#ed7953\"],[0.7777777777777778,\"#fb9f3a\"],[0.8888888888888888,\"#fdca26\"],[1.0,\"#f0f921\"]],\"type\":\"heatmap\"}],\"heatmapgl\":[{\"colorbar\":{\"outlinewidth\":0,\"ticks\":\"\"},\"colorscale\":[[0.0,\"#0d0887\"],[0.1111111111111111,\"#46039f\"],[0.2222222222222222,\"#7201a8\"],[0.3333333333333333,\"#9c179e\"],[0.4444444444444444,\"#bd3786\"],[0.5555555555555556,\"#d8576b\"],[0.6666666666666666,\"#ed7953\"],[0.7777777777777778,\"#fb9f3a\"],[0.8888888888888888,\"#fdca26\"],[1.0,\"#f0f921\"]],\"type\":\"heatmapgl\"}],\"histogram\":[{\"marker\":{\"pattern\":{\"fillmode\":\"overlay\",\"size\":10,\"solidity\":0.2}},\"type\":\"histogram\"}],\"histogram2d\":[{\"colorbar\":{\"outlinewidth\":0,\"ticks\":\"\"},\"colorscale\":[[0.0,\"#0d0887\"],[0.1111111111111111,\"#46039f\"],[0.2222222222222222,\"#7201a8\"],[0.3333333333333333,\"#9c179e\"],[0.4444444444444444,\"#bd3786\"],[0.5555555555555556,\"#d8576b\"],[0.6666666666666666,\"#ed7953\"],[0.7777777777777778,\"#fb9f3a\"],[0.8888888888888888,\"#fdca26\"],[1.0,\"#f0f921\"]],\"type\":\"histogram2d\"}],\"histogram2dcontour\":[{\"colorbar\":{\"outlinewidth\":0,\"ticks\":\"\"},\"colorscale\":[[0.0,\"#0d0887\"],[0.1111111111111111,\"#46039f\"],[0.2222222222222222,\"#7201a8\"],[0.3333333333333333,\"#9c179e\"],[0.4444444444444444,\"#bd3786\"],[0.5555555555555556,\"#d8576b\"],[0.6666666666666666,\"#ed7953\"],[0.7777777777777778,\"#fb9f3a\"],[0.8888888888888888,\"#fdca26\"],[1.0,\"#f0f921\"]],\"type\":\"histogram2dcontour\"}],\"mesh3d\":[{\"colorbar\":{\"outlinewidth\":0,\"ticks\":\"\"},\"type\":\"mesh3d\"}],\"parcoords\":[{\"line\":{\"colorbar\":{\"outlinewidth\":0,\"ticks\":\"\"}},\"type\":\"parcoords\"}],\"pie\":[{\"automargin\":true,\"type\":\"pie\"}],\"scatter\":[{\"marker\":{\"colorbar\":{\"outlinewidth\":0,\"ticks\":\"\"}},\"type\":\"scatter\"}],\"scatter3d\":[{\"line\":{\"colorbar\":{\"outlinewidth\":0,\"ticks\":\"\"}},\"marker\":{\"colorbar\":{\"outlinewidth\":0,\"ticks\":\"\"}},\"type\":\"scatter3d\"}],\"scattercarpet\":[{\"marker\":{\"colorbar\":{\"outlinewidth\":0,\"ticks\":\"\"}},\"type\":\"scattercarpet\"}],\"scattergeo\":[{\"marker\":{\"colorbar\":{\"outlinewidth\":0,\"ticks\":\"\"}},\"type\":\"scattergeo\"}],\"scattergl\":[{\"marker\":{\"colorbar\":{\"outlinewidth\":0,\"ticks\":\"\"}},\"type\":\"scattergl\"}],\"scattermapbox\":[{\"marker\":{\"colorbar\":{\"outlinewidth\":0,\"ticks\":\"\"}},\"type\":\"scattermapbox\"}],\"scatterpolar\":[{\"marker\":{\"colorbar\":{\"outlinewidth\":0,\"ticks\":\"\"}},\"type\":\"scatterpolar\"}],\"scatterpolargl\":[{\"marker\":{\"colorbar\":{\"outlinewidth\":0,\"ticks\":\"\"}},\"type\":\"scatterpolargl\"}],\"scatterternary\":[{\"marker\":{\"colorbar\":{\"outlinewidth\":0,\"ticks\":\"\"}},\"type\":\"scatterternary\"}],\"surface\":[{\"colorbar\":{\"outlinewidth\":0,\"ticks\":\"\"},\"colorscale\":[[0.0,\"#0d0887\"],[0.1111111111111111,\"#46039f\"],[0.2222222222222222,\"#7201a8\"],[0.3333333333333333,\"#9c179e\"],[0.4444444444444444,\"#bd3786\"],[0.5555555555555556,\"#d8576b\"],[0.6666666666666666,\"#ed7953\"],[0.7777777777777778,\"#fb9f3a\"],[0.8888888888888888,\"#fdca26\"],[1.0,\"#f0f921\"]],\"type\":\"surface\"}],\"table\":[{\"cells\":{\"fill\":{\"color\":\"#EBF0F8\"},\"line\":{\"color\":\"white\"}},\"header\":{\"fill\":{\"color\":\"#C8D4E3\"},\"line\":{\"color\":\"white\"}},\"type\":\"table\"}]},\"layout\":{\"annotationdefaults\":{\"arrowcolor\":\"#2a3f5f\",\"arrowhead\":0,\"arrowwidth\":1},\"autotypenumbers\":\"strict\",\"coloraxis\":{\"colorbar\":{\"outlinewidth\":0,\"ticks\":\"\"}},\"colorscale\":{\"diverging\":[[0,\"#8e0152\"],[0.1,\"#c51b7d\"],[0.2,\"#de77ae\"],[0.3,\"#f1b6da\"],[0.4,\"#fde0ef\"],[0.5,\"#f7f7f7\"],[0.6,\"#e6f5d0\"],[0.7,\"#b8e186\"],[0.8,\"#7fbc41\"],[0.9,\"#4d9221\"],[1,\"#276419\"]],\"sequential\":[[0.0,\"#0d0887\"],[0.1111111111111111,\"#46039f\"],[0.2222222222222222,\"#7201a8\"],[0.3333333333333333,\"#9c179e\"],[0.4444444444444444,\"#bd3786\"],[0.5555555555555556,\"#d8576b\"],[0.6666666666666666,\"#ed7953\"],[0.7777777777777778,\"#fb9f3a\"],[0.8888888888888888,\"#fdca26\"],[1.0,\"#f0f921\"]],\"sequentialminus\":[[0.0,\"#0d0887\"],[0.1111111111111111,\"#46039f\"],[0.2222222222222222,\"#7201a8\"],[0.3333333333333333,\"#9c179e\"],[0.4444444444444444,\"#bd3786\"],[0.5555555555555556,\"#d8576b\"],[0.6666666666666666,\"#ed7953\"],[0.7777777777777778,\"#fb9f3a\"],[0.8888888888888888,\"#fdca26\"],[1.0,\"#f0f921\"]]},\"colorway\":[\"#636efa\",\"#EF553B\",\"#00cc96\",\"#ab63fa\",\"#FFA15A\",\"#19d3f3\",\"#FF6692\",\"#B6E880\",\"#FF97FF\",\"#FECB52\"],\"font\":{\"color\":\"#2a3f5f\"},\"geo\":{\"bgcolor\":\"white\",\"lakecolor\":\"white\",\"landcolor\":\"#E5ECF6\",\"showlakes\":true,\"showland\":true,\"subunitcolor\":\"white\"},\"hoverlabel\":{\"align\":\"left\"},\"hovermode\":\"closest\",\"mapbox\":{\"style\":\"light\"},\"paper_bgcolor\":\"white\",\"plot_bgcolor\":\"#E5ECF6\",\"polar\":{\"angularaxis\":{\"gridcolor\":\"white\",\"linecolor\":\"white\",\"ticks\":\"\"},\"bgcolor\":\"#E5ECF6\",\"radialaxis\":{\"gridcolor\":\"white\",\"linecolor\":\"white\",\"ticks\":\"\"}},\"scene\":{\"xaxis\":{\"backgroundcolor\":\"#E5ECF6\",\"gridcolor\":\"white\",\"gridwidth\":2,\"linecolor\":\"white\",\"showbackground\":true,\"ticks\":\"\",\"zerolinecolor\":\"white\"},\"yaxis\":{\"backgroundcolor\":\"#E5ECF6\",\"gridcolor\":\"white\",\"gridwidth\":2,\"linecolor\":\"white\",\"showbackground\":true,\"ticks\":\"\",\"zerolinecolor\":\"white\"},\"zaxis\":{\"backgroundcolor\":\"#E5ECF6\",\"gridcolor\":\"white\",\"gridwidth\":2,\"linecolor\":\"white\",\"showbackground\":true,\"ticks\":\"\",\"zerolinecolor\":\"white\"}},\"shapedefaults\":{\"line\":{\"color\":\"#2a3f5f\"}},\"ternary\":{\"aaxis\":{\"gridcolor\":\"white\",\"linecolor\":\"white\",\"ticks\":\"\"},\"baxis\":{\"gridcolor\":\"white\",\"linecolor\":\"white\",\"ticks\":\"\"},\"bgcolor\":\"#E5ECF6\",\"caxis\":{\"gridcolor\":\"white\",\"linecolor\":\"white\",\"ticks\":\"\"}},\"title\":{\"x\":0.05},\"xaxis\":{\"automargin\":true,\"gridcolor\":\"white\",\"linecolor\":\"white\",\"ticks\":\"\",\"title\":{\"standoff\":15},\"zerolinecolor\":\"white\",\"zerolinewidth\":2},\"yaxis\":{\"automargin\":true,\"gridcolor\":\"white\",\"linecolor\":\"white\",\"ticks\":\"\",\"title\":{\"standoff\":15},\"zerolinecolor\":\"white\",\"zerolinewidth\":2}}},\"width\":355.0,\"xaxis\":{\"range\":[0,355.0],\"visible\":false},\"yaxis\":{\"range\":[0,275.0],\"scaleanchor\":\"x\",\"visible\":false}},                        {\"doubleClick\": \"reset\", \"responsive\": true}                    ).then(function(){\n",
       "                            \n",
       "var gd = document.getElementById('296af037-c7a5-4981-8251-cbfee3959a7a');\n",
       "var x = new MutationObserver(function (mutations, observer) {{\n",
       "        var display = window.getComputedStyle(gd).display;\n",
       "        if (!display || display === 'none') {{\n",
       "            console.log([gd, 'removed!']);\n",
       "            Plotly.purge(gd);\n",
       "            observer.disconnect();\n",
       "        }}\n",
       "}});\n",
       "\n",
       "// Listen for the removal of the full notebook cells\n",
       "var notebookContainer = gd.closest('#notebook-container');\n",
       "if (notebookContainer) {{\n",
       "    x.observe(notebookContainer, {childList: true});\n",
       "}}\n",
       "\n",
       "// Listen for the clearing of the current output cell\n",
       "var outputEl = gd.closest('.output');\n",
       "if (outputEl) {{\n",
       "    x.observe(outputEl, {childList: true});\n",
       "}}\n",
       "\n",
       "                        })                };                });            </script>        </div>"
      ]
     },
     "metadata": {},
     "output_type": "display_data"
    },
    {
     "data": {
      "application/vnd.plotly.v1+json": {
       "config": {
        "doubleClick": "reset",
        "plotlyServerURL": "https://plot.ly"
       },
       "data": [
        {
         "marker": {
          "opacity": 0
         },
         "mode": "markers",
         "type": "scatter",
         "x": [
          0,
          355
         ],
         "y": [
          0,
          275
         ]
        }
       ],
       "layout": {
        "height": 275,
        "images": [
         {
          "layer": "below",
          "opacity": 1,
          "sizex": 355,
          "sizey": 275,
          "sizing": "stretch",
          "source": "data:image/png;base64,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",
          "x": 0,
          "xref": "x",
          "y": 275,
          "yref": "y"
         }
        ],
        "margin": {
         "b": 0,
         "l": 0,
         "r": 0,
         "t": 0
        },
        "template": {
         "data": {
          "bar": [
           {
            "error_x": {
             "color": "#2a3f5f"
            },
            "error_y": {
             "color": "#2a3f5f"
            },
            "marker": {
             "line": {
              "color": "#E5ECF6",
              "width": 0.5
             },
             "pattern": {
              "fillmode": "overlay",
              "size": 10,
              "solidity": 0.2
             }
            },
            "type": "bar"
           }
          ],
          "barpolar": [
           {
            "marker": {
             "line": {
              "color": "#E5ECF6",
              "width": 0.5
             },
             "pattern": {
              "fillmode": "overlay",
              "size": 10,
              "solidity": 0.2
             }
            },
            "type": "barpolar"
           }
          ],
          "carpet": [
           {
            "aaxis": {
             "endlinecolor": "#2a3f5f",
             "gridcolor": "white",
             "linecolor": "white",
             "minorgridcolor": "white",
             "startlinecolor": "#2a3f5f"
            },
            "baxis": {
             "endlinecolor": "#2a3f5f",
             "gridcolor": "white",
             "linecolor": "white",
             "minorgridcolor": "white",
             "startlinecolor": "#2a3f5f"
            },
            "type": "carpet"
           }
          ],
          "choropleth": [
           {
            "colorbar": {
             "outlinewidth": 0,
             "ticks": ""
            },
            "type": "choropleth"
           }
          ],
          "contour": [
           {
            "colorbar": {
             "outlinewidth": 0,
             "ticks": ""
            },
            "colorscale": [
             [
              0,
              "#0d0887"
             ],
             [
              0.1111111111111111,
              "#46039f"
             ],
             [
              0.2222222222222222,
              "#7201a8"
             ],
             [
              0.3333333333333333,
              "#9c179e"
             ],
             [
              0.4444444444444444,
              "#bd3786"
             ],
             [
              0.5555555555555556,
              "#d8576b"
             ],
             [
              0.6666666666666666,
              "#ed7953"
             ],
             [
              0.7777777777777778,
              "#fb9f3a"
             ],
             [
              0.8888888888888888,
              "#fdca26"
             ],
             [
              1,
              "#f0f921"
             ]
            ],
            "type": "contour"
           }
          ],
          "contourcarpet": [
           {
            "colorbar": {
             "outlinewidth": 0,
             "ticks": ""
            },
            "type": "contourcarpet"
           }
          ],
          "heatmap": [
           {
            "colorbar": {
             "outlinewidth": 0,
             "ticks": ""
            },
            "colorscale": [
             [
              0,
              "#0d0887"
             ],
             [
              0.1111111111111111,
              "#46039f"
             ],
             [
              0.2222222222222222,
              "#7201a8"
             ],
             [
              0.3333333333333333,
              "#9c179e"
             ],
             [
              0.4444444444444444,
              "#bd3786"
             ],
             [
              0.5555555555555556,
              "#d8576b"
             ],
             [
              0.6666666666666666,
              "#ed7953"
             ],
             [
              0.7777777777777778,
              "#fb9f3a"
             ],
             [
              0.8888888888888888,
              "#fdca26"
             ],
             [
              1,
              "#f0f921"
             ]
            ],
            "type": "heatmap"
           }
          ],
          "heatmapgl": [
           {
            "colorbar": {
             "outlinewidth": 0,
             "ticks": ""
            },
            "colorscale": [
             [
              0,
              "#0d0887"
             ],
             [
              0.1111111111111111,
              "#46039f"
             ],
             [
              0.2222222222222222,
              "#7201a8"
             ],
             [
              0.3333333333333333,
              "#9c179e"
             ],
             [
              0.4444444444444444,
              "#bd3786"
             ],
             [
              0.5555555555555556,
              "#d8576b"
             ],
             [
              0.6666666666666666,
              "#ed7953"
             ],
             [
              0.7777777777777778,
              "#fb9f3a"
             ],
             [
              0.8888888888888888,
              "#fdca26"
             ],
             [
              1,
              "#f0f921"
             ]
            ],
            "type": "heatmapgl"
           }
          ],
          "histogram": [
           {
            "marker": {
             "pattern": {
              "fillmode": "overlay",
              "size": 10,
              "solidity": 0.2
             }
            },
            "type": "histogram"
           }
          ],
          "histogram2d": [
           {
            "colorbar": {
             "outlinewidth": 0,
             "ticks": ""
            },
            "colorscale": [
             [
              0,
              "#0d0887"
             ],
             [
              0.1111111111111111,
              "#46039f"
             ],
             [
              0.2222222222222222,
              "#7201a8"
             ],
             [
              0.3333333333333333,
              "#9c179e"
             ],
             [
              0.4444444444444444,
              "#bd3786"
             ],
             [
              0.5555555555555556,
              "#d8576b"
             ],
             [
              0.6666666666666666,
              "#ed7953"
             ],
             [
              0.7777777777777778,
              "#fb9f3a"
             ],
             [
              0.8888888888888888,
              "#fdca26"
             ],
             [
              1,
              "#f0f921"
             ]
            ],
            "type": "histogram2d"
           }
          ],
          "histogram2dcontour": [
           {
            "colorbar": {
             "outlinewidth": 0,
             "ticks": ""
            },
            "colorscale": [
             [
              0,
              "#0d0887"
             ],
             [
              0.1111111111111111,
              "#46039f"
             ],
             [
              0.2222222222222222,
              "#7201a8"
             ],
             [
              0.3333333333333333,
              "#9c179e"
             ],
             [
              0.4444444444444444,
              "#bd3786"
             ],
             [
              0.5555555555555556,
              "#d8576b"
             ],
             [
              0.6666666666666666,
              "#ed7953"
             ],
             [
              0.7777777777777778,
              "#fb9f3a"
             ],
             [
              0.8888888888888888,
              "#fdca26"
             ],
             [
              1,
              "#f0f921"
             ]
            ],
            "type": "histogram2dcontour"
           }
          ],
          "mesh3d": [
           {
            "colorbar": {
             "outlinewidth": 0,
             "ticks": ""
            },
            "type": "mesh3d"
           }
          ],
          "parcoords": [
           {
            "line": {
             "colorbar": {
              "outlinewidth": 0,
              "ticks": ""
             }
            },
            "type": "parcoords"
           }
          ],
          "pie": [
           {
            "automargin": true,
            "type": "pie"
           }
          ],
          "scatter": [
           {
            "marker": {
             "colorbar": {
              "outlinewidth": 0,
              "ticks": ""
             }
            },
            "type": "scatter"
           }
          ],
          "scatter3d": [
           {
            "line": {
             "colorbar": {
              "outlinewidth": 0,
              "ticks": ""
             }
            },
            "marker": {
             "colorbar": {
              "outlinewidth": 0,
              "ticks": ""
             }
            },
            "type": "scatter3d"
           }
          ],
          "scattercarpet": [
           {
            "marker": {
             "colorbar": {
              "outlinewidth": 0,
              "ticks": ""
             }
            },
            "type": "scattercarpet"
           }
          ],
          "scattergeo": [
           {
            "marker": {
             "colorbar": {
              "outlinewidth": 0,
              "ticks": ""
             }
            },
            "type": "scattergeo"
           }
          ],
          "scattergl": [
           {
            "marker": {
             "colorbar": {
              "outlinewidth": 0,
              "ticks": ""
             }
            },
            "type": "scattergl"
           }
          ],
          "scattermapbox": [
           {
            "marker": {
             "colorbar": {
              "outlinewidth": 0,
              "ticks": ""
             }
            },
            "type": "scattermapbox"
           }
          ],
          "scatterpolar": [
           {
            "marker": {
             "colorbar": {
              "outlinewidth": 0,
              "ticks": ""
             }
            },
            "type": "scatterpolar"
           }
          ],
          "scatterpolargl": [
           {
            "marker": {
             "colorbar": {
              "outlinewidth": 0,
              "ticks": ""
             }
            },
            "type": "scatterpolargl"
           }
          ],
          "scatterternary": [
           {
            "marker": {
             "colorbar": {
              "outlinewidth": 0,
              "ticks": ""
             }
            },
            "type": "scatterternary"
           }
          ],
          "surface": [
           {
            "colorbar": {
             "outlinewidth": 0,
             "ticks": ""
            },
            "colorscale": [
             [
              0,
              "#0d0887"
             ],
             [
              0.1111111111111111,
              "#46039f"
             ],
             [
              0.2222222222222222,
              "#7201a8"
             ],
             [
              0.3333333333333333,
              "#9c179e"
             ],
             [
              0.4444444444444444,
              "#bd3786"
             ],
             [
              0.5555555555555556,
              "#d8576b"
             ],
             [
              0.6666666666666666,
              "#ed7953"
             ],
             [
              0.7777777777777778,
              "#fb9f3a"
             ],
             [
              0.8888888888888888,
              "#fdca26"
             ],
             [
              1,
              "#f0f921"
             ]
            ],
            "type": "surface"
           }
          ],
          "table": [
           {
            "cells": {
             "fill": {
              "color": "#EBF0F8"
             },
             "line": {
              "color": "white"
             }
            },
            "header": {
             "fill": {
              "color": "#C8D4E3"
             },
             "line": {
              "color": "white"
             }
            },
            "type": "table"
           }
          ]
         },
         "layout": {
          "annotationdefaults": {
           "arrowcolor": "#2a3f5f",
           "arrowhead": 0,
           "arrowwidth": 1
          },
          "autotypenumbers": "strict",
          "coloraxis": {
           "colorbar": {
            "outlinewidth": 0,
            "ticks": ""
           }
          },
          "colorscale": {
           "diverging": [
            [
             0,
             "#8e0152"
            ],
            [
             0.1,
             "#c51b7d"
            ],
            [
             0.2,
             "#de77ae"
            ],
            [
             0.3,
             "#f1b6da"
            ],
            [
             0.4,
             "#fde0ef"
            ],
            [
             0.5,
             "#f7f7f7"
            ],
            [
             0.6,
             "#e6f5d0"
            ],
            [
             0.7,
             "#b8e186"
            ],
            [
             0.8,
             "#7fbc41"
            ],
            [
             0.9,
             "#4d9221"
            ],
            [
             1,
             "#276419"
            ]
           ],
           "sequential": [
            [
             0,
             "#0d0887"
            ],
            [
             0.1111111111111111,
             "#46039f"
            ],
            [
             0.2222222222222222,
             "#7201a8"
            ],
            [
             0.3333333333333333,
             "#9c179e"
            ],
            [
             0.4444444444444444,
             "#bd3786"
            ],
            [
             0.5555555555555556,
             "#d8576b"
            ],
            [
             0.6666666666666666,
             "#ed7953"
            ],
            [
             0.7777777777777778,
             "#fb9f3a"
            ],
            [
             0.8888888888888888,
             "#fdca26"
            ],
            [
             1,
             "#f0f921"
            ]
           ],
           "sequentialminus": [
            [
             0,
             "#0d0887"
            ],
            [
             0.1111111111111111,
             "#46039f"
            ],
            [
             0.2222222222222222,
             "#7201a8"
            ],
            [
             0.3333333333333333,
             "#9c179e"
            ],
            [
             0.4444444444444444,
             "#bd3786"
            ],
            [
             0.5555555555555556,
             "#d8576b"
            ],
            [
             0.6666666666666666,
             "#ed7953"
            ],
            [
             0.7777777777777778,
             "#fb9f3a"
            ],
            [
             0.8888888888888888,
             "#fdca26"
            ],
            [
             1,
             "#f0f921"
            ]
           ]
          },
          "colorway": [
           "#636efa",
           "#EF553B",
           "#00cc96",
           "#ab63fa",
           "#FFA15A",
           "#19d3f3",
           "#FF6692",
           "#B6E880",
           "#FF97FF",
           "#FECB52"
          ],
          "font": {
           "color": "#2a3f5f"
          },
          "geo": {
           "bgcolor": "white",
           "lakecolor": "white",
           "landcolor": "#E5ECF6",
           "showlakes": true,
           "showland": true,
           "subunitcolor": "white"
          },
          "hoverlabel": {
           "align": "left"
          },
          "hovermode": "closest",
          "mapbox": {
           "style": "light"
          },
          "paper_bgcolor": "white",
          "plot_bgcolor": "#E5ECF6",
          "polar": {
           "angularaxis": {
            "gridcolor": "white",
            "linecolor": "white",
            "ticks": ""
           },
           "bgcolor": "#E5ECF6",
           "radialaxis": {
            "gridcolor": "white",
            "linecolor": "white",
            "ticks": ""
           }
          },
          "scene": {
           "xaxis": {
            "backgroundcolor": "#E5ECF6",
            "gridcolor": "white",
            "gridwidth": 2,
            "linecolor": "white",
            "showbackground": true,
            "ticks": "",
            "zerolinecolor": "white"
           },
           "yaxis": {
            "backgroundcolor": "#E5ECF6",
            "gridcolor": "white",
            "gridwidth": 2,
            "linecolor": "white",
            "showbackground": true,
            "ticks": "",
            "zerolinecolor": "white"
           },
           "zaxis": {
            "backgroundcolor": "#E5ECF6",
            "gridcolor": "white",
            "gridwidth": 2,
            "linecolor": "white",
            "showbackground": true,
            "ticks": "",
            "zerolinecolor": "white"
           }
          },
          "shapedefaults": {
           "line": {
            "color": "#2a3f5f"
           }
          },
          "ternary": {
           "aaxis": {
            "gridcolor": "white",
            "linecolor": "white",
            "ticks": ""
           },
           "baxis": {
            "gridcolor": "white",
            "linecolor": "white",
            "ticks": ""
           },
           "bgcolor": "#E5ECF6",
           "caxis": {
            "gridcolor": "white",
            "linecolor": "white",
            "ticks": ""
           }
          },
          "title": {
           "x": 0.05
          },
          "xaxis": {
           "automargin": true,
           "gridcolor": "white",
           "linecolor": "white",
           "ticks": "",
           "title": {
            "standoff": 15
           },
           "zerolinecolor": "white",
           "zerolinewidth": 2
          },
          "yaxis": {
           "automargin": true,
           "gridcolor": "white",
           "linecolor": "white",
           "ticks": "",
           "title": {
            "standoff": 15
           },
           "zerolinecolor": "white",
           "zerolinewidth": 2
          }
         }
        },
        "width": 355,
        "xaxis": {
         "range": [
          0,
          355
         ],
         "visible": false
        },
        "yaxis": {
         "range": [
          0,
          275
         ],
         "scaleanchor": "x",
         "visible": false
        }
       }
      },
      "text/html": [
       "<div>                            <div id=\"b7613a85-c7ba-4e23-9de6-c059e7e70e9a\" class=\"plotly-graph-div\" style=\"height:275.0px; width:355.0px;\"></div>            <script type=\"text/javascript\">                require([\"plotly\"], function(Plotly) {                    window.PLOTLYENV=window.PLOTLYENV || {};                                    if (document.getElementById(\"b7613a85-c7ba-4e23-9de6-c059e7e70e9a\")) {                    Plotly.newPlot(                        \"b7613a85-c7ba-4e23-9de6-c059e7e70e9a\",                        [{\"marker\":{\"opacity\":0},\"mode\":\"markers\",\"type\":\"scatter\",\"x\":[0,355.0],\"y\":[0,275.0]}],                        {\"height\":275.0,\"images\":[{\"layer\":\"below\",\"opacity\":1.0,\"sizex\":355.0,\"sizey\":275.0,\"sizing\":\"stretch\",\"source\":\"data:image/png;base64,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\",\"x\":0,\"xref\":\"x\",\"y\":275.0,\"yref\":\"y\"}],\"margin\":{\"b\":0,\"l\":0,\"r\":0,\"t\":0},\"template\":{\"data\":{\"bar\":[{\"error_x\":{\"color\":\"#2a3f5f\"},\"error_y\":{\"color\":\"#2a3f5f\"},\"marker\":{\"line\":{\"color\":\"#E5ECF6\",\"width\":0.5},\"pattern\":{\"fillmode\":\"overlay\",\"size\":10,\"solidity\":0.2}},\"type\":\"bar\"}],\"barpolar\":[{\"marker\":{\"line\":{\"color\":\"#E5ECF6\",\"width\":0.5},\"pattern\":{\"fillmode\":\"overlay\",\"size\":10,\"solidity\":0.2}},\"type\":\"barpolar\"}],\"carpet\":[{\"aaxis\":{\"endlinecolor\":\"#2a3f5f\",\"gridcolor\":\"white\",\"linecolor\":\"white\",\"minorgridcolor\":\"white\",\"startlinecolor\":\"#2a3f5f\"},\"baxis\":{\"endlinecolor\":\"#2a3f5f\",\"gridcolor\":\"white\",\"linecolor\":\"white\",\"minorgridcolor\":\"white\",\"startlinecolor\":\"#2a3f5f\"},\"type\":\"carpet\"}],\"choropleth\":[{\"colorbar\":{\"outlinewidth\":0,\"ticks\":\"\"},\"type\":\"choropleth\"}],\"contour\":[{\"colorbar\":{\"outlinewidth\":0,\"ticks\":\"\"},\"colorscale\":[[0.0,\"#0d0887\"],[0.1111111111111111,\"#46039f\"],[0.2222222222222222,\"#7201a8\"],[0.3333333333333333,\"#9c179e\"],[0.4444444444444444,\"#bd3786\"],[0.5555555555555556,\"#d8576b\"],[0.6666666666666666,\"#ed7953\"],[0.7777777777777778,\"#fb9f3a\"],[0.8888888888888888,\"#fdca26\"],[1.0,\"#f0f921\"]],\"type\":\"contour\"}],\"contourcarpet\":[{\"colorbar\":{\"outlinewidth\":0,\"ticks\":\"\"},\"type\":\"contourcarpet\"}],\"heatmap\":[{\"colorbar\":{\"outlinewidth\":0,\"ticks\":\"\"},\"colorscale\":[[0.0,\"#0d0887\"],[0.1111111111111111,\"#46039f\"],[0.2222222222222222,\"#7201a8\"],[0.3333333333333333,\"#9c179e\"],[0.4444444444444444,\"#bd3786\"],[0.5555555555555556,\"#d8576b\"],[0.6666666666666666,\"#ed7953\"],[0.7777777777777778,\"#fb9f3a\"],[0.8888888888888888,\"#fdca26\"],[1.0,\"#f0f921\"]],\"type\":\"heatmap\"}],\"heatmapgl\":[{\"colorbar\":{\"outlinewidth\":0,\"ticks\":\"\"},\"colorscale\":[[0.0,\"#0d0887\"],[0.1111111111111111,\"#46039f\"],[0.2222222222222222,\"#7201a8\"],[0.3333333333333333,\"#9c179e\"],[0.4444444444444444,\"#bd3786\"],[0.5555555555555556,\"#d8576b\"],[0.6666666666666666,\"#ed7953\"],[0.7777777777777778,\"#fb9f3a\"],[0.8888888888888888,\"#fdca26\"],[1.0,\"#f0f921\"]],\"type\":\"heatmapgl\"}],\"histogram\":[{\"marker\":{\"pattern\":{\"fillmode\":\"overlay\",\"size\":10,\"solidity\":0.2}},\"type\":\"histogram\"}],\"histogram2d\":[{\"colorbar\":{\"outlinewidth\":0,\"ticks\":\"\"},\"colorscale\":[[0.0,\"#0d0887\"],[0.1111111111111111,\"#46039f\"],[0.2222222222222222,\"#7201a8\"],[0.3333333333333333,\"#9c179e\"],[0.4444444444444444,\"#bd3786\"],[0.5555555555555556,\"#d8576b\"],[0.6666666666666666,\"#ed7953\"],[0.7777777777777778,\"#fb9f3a\"],[0.8888888888888888,\"#fdca26\"],[1.0,\"#f0f921\"]],\"type\":\"histogram2d\"}],\"histogram2dcontour\":[{\"colorbar\":{\"outlinewidth\":0,\"ticks\":\"\"},\"colorscale\":[[0.0,\"#0d0887\"],[0.1111111111111111,\"#46039f\"],[0.2222222222222222,\"#7201a8\"],[0.3333333333333333,\"#9c179e\"],[0.4444444444444444,\"#bd3786\"],[0.5555555555555556,\"#d8576b\"],[0.6666666666666666,\"#ed7953\"],[0.7777777777777778,\"#fb9f3a\"],[0.8888888888888888,\"#fdca26\"],[1.0,\"#f0f921\"]],\"type\":\"histogram2dcontour\"}],\"mesh3d\":[{\"colorbar\":{\"outlinewidth\":0,\"ticks\":\"\"},\"type\":\"mesh3d\"}],\"parcoords\":[{\"line\":{\"colorbar\":{\"outlinewidth\":0,\"ticks\":\"\"}},\"type\":\"parcoords\"}],\"pie\":[{\"automargin\":true,\"type\":\"pie\"}],\"scatter\":[{\"marker\":{\"colorbar\":{\"outlinewidth\":0,\"ticks\":\"\"}},\"type\":\"scatter\"}],\"scatter3d\":[{\"line\":{\"colorbar\":{\"outlinewidth\":0,\"ticks\":\"\"}},\"marker\":{\"colorbar\":{\"outlinewidth\":0,\"ticks\":\"\"}},\"type\":\"scatter3d\"}],\"scattercarpet\":[{\"marker\":{\"colorbar\":{\"outlinewidth\":0,\"ticks\":\"\"}},\"type\":\"scattercarpet\"}],\"scattergeo\":[{\"marker\":{\"colorbar\":{\"outlinewidth\":0,\"ticks\":\"\"}},\"type\":\"scattergeo\"}],\"scattergl\":[{\"marker\":{\"colorbar\":{\"outlinewidth\":0,\"ticks\":\"\"}},\"type\":\"scattergl\"}],\"scattermapbox\":[{\"marker\":{\"colorbar\":{\"outlinewidth\":0,\"ticks\":\"\"}},\"type\":\"scattermapbox\"}],\"scatterpolar\":[{\"marker\":{\"colorbar\":{\"outlinewidth\":0,\"ticks\":\"\"}},\"type\":\"scatterpolar\"}],\"scatterpolargl\":[{\"marker\":{\"colorbar\":{\"outlinewidth\":0,\"ticks\":\"\"}},\"type\":\"scatterpolargl\"}],\"scatterternary\":[{\"marker\":{\"colorbar\":{\"outlinewidth\":0,\"ticks\":\"\"}},\"type\":\"scatterternary\"}],\"surface\":[{\"colorbar\":{\"outlinewidth\":0,\"ticks\":\"\"},\"colorscale\":[[0.0,\"#0d0887\"],[0.1111111111111111,\"#46039f\"],[0.2222222222222222,\"#7201a8\"],[0.3333333333333333,\"#9c179e\"],[0.4444444444444444,\"#bd3786\"],[0.5555555555555556,\"#d8576b\"],[0.6666666666666666,\"#ed7953\"],[0.7777777777777778,\"#fb9f3a\"],[0.8888888888888888,\"#fdca26\"],[1.0,\"#f0f921\"]],\"type\":\"surface\"}],\"table\":[{\"cells\":{\"fill\":{\"color\":\"#EBF0F8\"},\"line\":{\"color\":\"white\"}},\"header\":{\"fill\":{\"color\":\"#C8D4E3\"},\"line\":{\"color\":\"white\"}},\"type\":\"table\"}]},\"layout\":{\"annotationdefaults\":{\"arrowcolor\":\"#2a3f5f\",\"arrowhead\":0,\"arrowwidth\":1},\"autotypenumbers\":\"strict\",\"coloraxis\":{\"colorbar\":{\"outlinewidth\":0,\"ticks\":\"\"}},\"colorscale\":{\"diverging\":[[0,\"#8e0152\"],[0.1,\"#c51b7d\"],[0.2,\"#de77ae\"],[0.3,\"#f1b6da\"],[0.4,\"#fde0ef\"],[0.5,\"#f7f7f7\"],[0.6,\"#e6f5d0\"],[0.7,\"#b8e186\"],[0.8,\"#7fbc41\"],[0.9,\"#4d9221\"],[1,\"#276419\"]],\"sequential\":[[0.0,\"#0d0887\"],[0.1111111111111111,\"#46039f\"],[0.2222222222222222,\"#7201a8\"],[0.3333333333333333,\"#9c179e\"],[0.4444444444444444,\"#bd3786\"],[0.5555555555555556,\"#d8576b\"],[0.6666666666666666,\"#ed7953\"],[0.7777777777777778,\"#fb9f3a\"],[0.8888888888888888,\"#fdca26\"],[1.0,\"#f0f921\"]],\"sequentialminus\":[[0.0,\"#0d0887\"],[0.1111111111111111,\"#46039f\"],[0.2222222222222222,\"#7201a8\"],[0.3333333333333333,\"#9c179e\"],[0.4444444444444444,\"#bd3786\"],[0.5555555555555556,\"#d8576b\"],[0.6666666666666666,\"#ed7953\"],[0.7777777777777778,\"#fb9f3a\"],[0.8888888888888888,\"#fdca26\"],[1.0,\"#f0f921\"]]},\"colorway\":[\"#636efa\",\"#EF553B\",\"#00cc96\",\"#ab63fa\",\"#FFA15A\",\"#19d3f3\",\"#FF6692\",\"#B6E880\",\"#FF97FF\",\"#FECB52\"],\"font\":{\"color\":\"#2a3f5f\"},\"geo\":{\"bgcolor\":\"white\",\"lakecolor\":\"white\",\"landcolor\":\"#E5ECF6\",\"showlakes\":true,\"showland\":true,\"subunitcolor\":\"white\"},\"hoverlabel\":{\"align\":\"left\"},\"hovermode\":\"closest\",\"mapbox\":{\"style\":\"light\"},\"paper_bgcolor\":\"white\",\"plot_bgcolor\":\"#E5ECF6\",\"polar\":{\"angularaxis\":{\"gridcolor\":\"white\",\"linecolor\":\"white\",\"ticks\":\"\"},\"bgcolor\":\"#E5ECF6\",\"radialaxis\":{\"gridcolor\":\"white\",\"linecolor\":\"white\",\"ticks\":\"\"}},\"scene\":{\"xaxis\":{\"backgroundcolor\":\"#E5ECF6\",\"gridcolor\":\"white\",\"gridwidth\":2,\"linecolor\":\"white\",\"showbackground\":true,\"ticks\":\"\",\"zerolinecolor\":\"white\"},\"yaxis\":{\"backgroundcolor\":\"#E5ECF6\",\"gridcolor\":\"white\",\"gridwidth\":2,\"linecolor\":\"white\",\"showbackground\":true,\"ticks\":\"\",\"zerolinecolor\":\"white\"},\"zaxis\":{\"backgroundcolor\":\"#E5ECF6\",\"gridcolor\":\"white\",\"gridwidth\":2,\"linecolor\":\"white\",\"showbackground\":true,\"ticks\":\"\",\"zerolinecolor\":\"white\"}},\"shapedefaults\":{\"line\":{\"color\":\"#2a3f5f\"}},\"ternary\":{\"aaxis\":{\"gridcolor\":\"white\",\"linecolor\":\"white\",\"ticks\":\"\"},\"baxis\":{\"gridcolor\":\"white\",\"linecolor\":\"white\",\"ticks\":\"\"},\"bgcolor\":\"#E5ECF6\",\"caxis\":{\"gridcolor\":\"white\",\"linecolor\":\"white\",\"ticks\":\"\"}},\"title\":{\"x\":0.05},\"xaxis\":{\"automargin\":true,\"gridcolor\":\"white\",\"linecolor\":\"white\",\"ticks\":\"\",\"title\":{\"standoff\":15},\"zerolinecolor\":\"white\",\"zerolinewidth\":2},\"yaxis\":{\"automargin\":true,\"gridcolor\":\"white\",\"linecolor\":\"white\",\"ticks\":\"\",\"title\":{\"standoff\":15},\"zerolinecolor\":\"white\",\"zerolinewidth\":2}}},\"width\":355.0,\"xaxis\":{\"range\":[0,355.0],\"visible\":false},\"yaxis\":{\"range\":[0,275.0],\"scaleanchor\":\"x\",\"visible\":false}},                        {\"doubleClick\": \"reset\", \"responsive\": true}                    ).then(function(){\n",
       "                            \n",
       "var gd = document.getElementById('b7613a85-c7ba-4e23-9de6-c059e7e70e9a');\n",
       "var x = new MutationObserver(function (mutations, observer) {{\n",
       "        var display = window.getComputedStyle(gd).display;\n",
       "        if (!display || display === 'none') {{\n",
       "            console.log([gd, 'removed!']);\n",
       "            Plotly.purge(gd);\n",
       "            observer.disconnect();\n",
       "        }}\n",
       "}});\n",
       "\n",
       "// Listen for the removal of the full notebook cells\n",
       "var notebookContainer = gd.closest('#notebook-container');\n",
       "if (notebookContainer) {{\n",
       "    x.observe(notebookContainer, {childList: true});\n",
       "}}\n",
       "\n",
       "// Listen for the clearing of the current output cell\n",
       "var outputEl = gd.closest('.output');\n",
       "if (outputEl) {{\n",
       "    x.observe(outputEl, {childList: true});\n",
       "}}\n",
       "\n",
       "                        })                };                });            </script>        </div>"
      ]
     },
     "metadata": {},
     "output_type": "display_data"
    },
    {
     "data": {
      "application/vnd.plotly.v1+json": {
       "config": {
        "doubleClick": "reset",
        "plotlyServerURL": "https://plot.ly"
       },
       "data": [
        {
         "marker": {
          "opacity": 0
         },
         "mode": "markers",
         "type": "scatter",
         "x": [
          0,
          355
         ],
         "y": [
          0,
          275
         ]
        }
       ],
       "layout": {
        "height": 275,
        "images": [
         {
          "layer": "below",
          "opacity": 1,
          "sizex": 355,
          "sizey": 275,
          "sizing": "stretch",
          "source": "data:image/png;base64,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",
          "x": 0,
          "xref": "x",
          "y": 275,
          "yref": "y"
         }
        ],
        "margin": {
         "b": 0,
         "l": 0,
         "r": 0,
         "t": 0
        },
        "template": {
         "data": {
          "bar": [
           {
            "error_x": {
             "color": "#2a3f5f"
            },
            "error_y": {
             "color": "#2a3f5f"
            },
            "marker": {
             "line": {
              "color": "#E5ECF6",
              "width": 0.5
             },
             "pattern": {
              "fillmode": "overlay",
              "size": 10,
              "solidity": 0.2
             }
            },
            "type": "bar"
           }
          ],
          "barpolar": [
           {
            "marker": {
             "line": {
              "color": "#E5ECF6",
              "width": 0.5
             },
             "pattern": {
              "fillmode": "overlay",
              "size": 10,
              "solidity": 0.2
             }
            },
            "type": "barpolar"
           }
          ],
          "carpet": [
           {
            "aaxis": {
             "endlinecolor": "#2a3f5f",
             "gridcolor": "white",
             "linecolor": "white",
             "minorgridcolor": "white",
             "startlinecolor": "#2a3f5f"
            },
            "baxis": {
             "endlinecolor": "#2a3f5f",
             "gridcolor": "white",
             "linecolor": "white",
             "minorgridcolor": "white",
             "startlinecolor": "#2a3f5f"
            },
            "type": "carpet"
           }
          ],
          "choropleth": [
           {
            "colorbar": {
             "outlinewidth": 0,
             "ticks": ""
            },
            "type": "choropleth"
           }
          ],
          "contour": [
           {
            "colorbar": {
             "outlinewidth": 0,
             "ticks": ""
            },
            "colorscale": [
             [
              0,
              "#0d0887"
             ],
             [
              0.1111111111111111,
              "#46039f"
             ],
             [
              0.2222222222222222,
              "#7201a8"
             ],
             [
              0.3333333333333333,
              "#9c179e"
             ],
             [
              0.4444444444444444,
              "#bd3786"
             ],
             [
              0.5555555555555556,
              "#d8576b"
             ],
             [
              0.6666666666666666,
              "#ed7953"
             ],
             [
              0.7777777777777778,
              "#fb9f3a"
             ],
             [
              0.8888888888888888,
              "#fdca26"
             ],
             [
              1,
              "#f0f921"
             ]
            ],
            "type": "contour"
           }
          ],
          "contourcarpet": [
           {
            "colorbar": {
             "outlinewidth": 0,
             "ticks": ""
            },
            "type": "contourcarpet"
           }
          ],
          "heatmap": [
           {
            "colorbar": {
             "outlinewidth": 0,
             "ticks": ""
            },
            "colorscale": [
             [
              0,
              "#0d0887"
             ],
             [
              0.1111111111111111,
              "#46039f"
             ],
             [
              0.2222222222222222,
              "#7201a8"
             ],
             [
              0.3333333333333333,
              "#9c179e"
             ],
             [
              0.4444444444444444,
              "#bd3786"
             ],
             [
              0.5555555555555556,
              "#d8576b"
             ],
             [
              0.6666666666666666,
              "#ed7953"
             ],
             [
              0.7777777777777778,
              "#fb9f3a"
             ],
             [
              0.8888888888888888,
              "#fdca26"
             ],
             [
              1,
              "#f0f921"
             ]
            ],
            "type": "heatmap"
           }
          ],
          "heatmapgl": [
           {
            "colorbar": {
             "outlinewidth": 0,
             "ticks": ""
            },
            "colorscale": [
             [
              0,
              "#0d0887"
             ],
             [
              0.1111111111111111,
              "#46039f"
             ],
             [
              0.2222222222222222,
              "#7201a8"
             ],
             [
              0.3333333333333333,
              "#9c179e"
             ],
             [
              0.4444444444444444,
              "#bd3786"
             ],
             [
              0.5555555555555556,
              "#d8576b"
             ],
             [
              0.6666666666666666,
              "#ed7953"
             ],
             [
              0.7777777777777778,
              "#fb9f3a"
             ],
             [
              0.8888888888888888,
              "#fdca26"
             ],
             [
              1,
              "#f0f921"
             ]
            ],
            "type": "heatmapgl"
           }
          ],
          "histogram": [
           {
            "marker": {
             "pattern": {
              "fillmode": "overlay",
              "size": 10,
              "solidity": 0.2
             }
            },
            "type": "histogram"
           }
          ],
          "histogram2d": [
           {
            "colorbar": {
             "outlinewidth": 0,
             "ticks": ""
            },
            "colorscale": [
             [
              0,
              "#0d0887"
             ],
             [
              0.1111111111111111,
              "#46039f"
             ],
             [
              0.2222222222222222,
              "#7201a8"
             ],
             [
              0.3333333333333333,
              "#9c179e"
             ],
             [
              0.4444444444444444,
              "#bd3786"
             ],
             [
              0.5555555555555556,
              "#d8576b"
             ],
             [
              0.6666666666666666,
              "#ed7953"
             ],
             [
              0.7777777777777778,
              "#fb9f3a"
             ],
             [
              0.8888888888888888,
              "#fdca26"
             ],
             [
              1,
              "#f0f921"
             ]
            ],
            "type": "histogram2d"
           }
          ],
          "histogram2dcontour": [
           {
            "colorbar": {
             "outlinewidth": 0,
             "ticks": ""
            },
            "colorscale": [
             [
              0,
              "#0d0887"
             ],
             [
              0.1111111111111111,
              "#46039f"
             ],
             [
              0.2222222222222222,
              "#7201a8"
             ],
             [
              0.3333333333333333,
              "#9c179e"
             ],
             [
              0.4444444444444444,
              "#bd3786"
             ],
             [
              0.5555555555555556,
              "#d8576b"
             ],
             [
              0.6666666666666666,
              "#ed7953"
             ],
             [
              0.7777777777777778,
              "#fb9f3a"
             ],
             [
              0.8888888888888888,
              "#fdca26"
             ],
             [
              1,
              "#f0f921"
             ]
            ],
            "type": "histogram2dcontour"
           }
          ],
          "mesh3d": [
           {
            "colorbar": {
             "outlinewidth": 0,
             "ticks": ""
            },
            "type": "mesh3d"
           }
          ],
          "parcoords": [
           {
            "line": {
             "colorbar": {
              "outlinewidth": 0,
              "ticks": ""
             }
            },
            "type": "parcoords"
           }
          ],
          "pie": [
           {
            "automargin": true,
            "type": "pie"
           }
          ],
          "scatter": [
           {
            "marker": {
             "colorbar": {
              "outlinewidth": 0,
              "ticks": ""
             }
            },
            "type": "scatter"
           }
          ],
          "scatter3d": [
           {
            "line": {
             "colorbar": {
              "outlinewidth": 0,
              "ticks": ""
             }
            },
            "marker": {
             "colorbar": {
              "outlinewidth": 0,
              "ticks": ""
             }
            },
            "type": "scatter3d"
           }
          ],
          "scattercarpet": [
           {
            "marker": {
             "colorbar": {
              "outlinewidth": 0,
              "ticks": ""
             }
            },
            "type": "scattercarpet"
           }
          ],
          "scattergeo": [
           {
            "marker": {
             "colorbar": {
              "outlinewidth": 0,
              "ticks": ""
             }
            },
            "type": "scattergeo"
           }
          ],
          "scattergl": [
           {
            "marker": {
             "colorbar": {
              "outlinewidth": 0,
              "ticks": ""
             }
            },
            "type": "scattergl"
           }
          ],
          "scattermapbox": [
           {
            "marker": {
             "colorbar": {
              "outlinewidth": 0,
              "ticks": ""
             }
            },
            "type": "scattermapbox"
           }
          ],
          "scatterpolar": [
           {
            "marker": {
             "colorbar": {
              "outlinewidth": 0,
              "ticks": ""
             }
            },
            "type": "scatterpolar"
           }
          ],
          "scatterpolargl": [
           {
            "marker": {
             "colorbar": {
              "outlinewidth": 0,
              "ticks": ""
             }
            },
            "type": "scatterpolargl"
           }
          ],
          "scatterternary": [
           {
            "marker": {
             "colorbar": {
              "outlinewidth": 0,
              "ticks": ""
             }
            },
            "type": "scatterternary"
           }
          ],
          "surface": [
           {
            "colorbar": {
             "outlinewidth": 0,
             "ticks": ""
            },
            "colorscale": [
             [
              0,
              "#0d0887"
             ],
             [
              0.1111111111111111,
              "#46039f"
             ],
             [
              0.2222222222222222,
              "#7201a8"
             ],
             [
              0.3333333333333333,
              "#9c179e"
             ],
             [
              0.4444444444444444,
              "#bd3786"
             ],
             [
              0.5555555555555556,
              "#d8576b"
             ],
             [
              0.6666666666666666,
              "#ed7953"
             ],
             [
              0.7777777777777778,
              "#fb9f3a"
             ],
             [
              0.8888888888888888,
              "#fdca26"
             ],
             [
              1,
              "#f0f921"
             ]
            ],
            "type": "surface"
           }
          ],
          "table": [
           {
            "cells": {
             "fill": {
              "color": "#EBF0F8"
             },
             "line": {
              "color": "white"
             }
            },
            "header": {
             "fill": {
              "color": "#C8D4E3"
             },
             "line": {
              "color": "white"
             }
            },
            "type": "table"
           }
          ]
         },
         "layout": {
          "annotationdefaults": {
           "arrowcolor": "#2a3f5f",
           "arrowhead": 0,
           "arrowwidth": 1
          },
          "autotypenumbers": "strict",
          "coloraxis": {
           "colorbar": {
            "outlinewidth": 0,
            "ticks": ""
           }
          },
          "colorscale": {
           "diverging": [
            [
             0,
             "#8e0152"
            ],
            [
             0.1,
             "#c51b7d"
            ],
            [
             0.2,
             "#de77ae"
            ],
            [
             0.3,
             "#f1b6da"
            ],
            [
             0.4,
             "#fde0ef"
            ],
            [
             0.5,
             "#f7f7f7"
            ],
            [
             0.6,
             "#e6f5d0"
            ],
            [
             0.7,
             "#b8e186"
            ],
            [
             0.8,
             "#7fbc41"
            ],
            [
             0.9,
             "#4d9221"
            ],
            [
             1,
             "#276419"
            ]
           ],
           "sequential": [
            [
             0,
             "#0d0887"
            ],
            [
             0.1111111111111111,
             "#46039f"
            ],
            [
             0.2222222222222222,
             "#7201a8"
            ],
            [
             0.3333333333333333,
             "#9c179e"
            ],
            [
             0.4444444444444444,
             "#bd3786"
            ],
            [
             0.5555555555555556,
             "#d8576b"
            ],
            [
             0.6666666666666666,
             "#ed7953"
            ],
            [
             0.7777777777777778,
             "#fb9f3a"
            ],
            [
             0.8888888888888888,
             "#fdca26"
            ],
            [
             1,
             "#f0f921"
            ]
           ],
           "sequentialminus": [
            [
             0,
             "#0d0887"
            ],
            [
             0.1111111111111111,
             "#46039f"
            ],
            [
             0.2222222222222222,
             "#7201a8"
            ],
            [
             0.3333333333333333,
             "#9c179e"
            ],
            [
             0.4444444444444444,
             "#bd3786"
            ],
            [
             0.5555555555555556,
             "#d8576b"
            ],
            [
             0.6666666666666666,
             "#ed7953"
            ],
            [
             0.7777777777777778,
             "#fb9f3a"
            ],
            [
             0.8888888888888888,
             "#fdca26"
            ],
            [
             1,
             "#f0f921"
            ]
           ]
          },
          "colorway": [
           "#636efa",
           "#EF553B",
           "#00cc96",
           "#ab63fa",
           "#FFA15A",
           "#19d3f3",
           "#FF6692",
           "#B6E880",
           "#FF97FF",
           "#FECB52"
          ],
          "font": {
           "color": "#2a3f5f"
          },
          "geo": {
           "bgcolor": "white",
           "lakecolor": "white",
           "landcolor": "#E5ECF6",
           "showlakes": true,
           "showland": true,
           "subunitcolor": "white"
          },
          "hoverlabel": {
           "align": "left"
          },
          "hovermode": "closest",
          "mapbox": {
           "style": "light"
          },
          "paper_bgcolor": "white",
          "plot_bgcolor": "#E5ECF6",
          "polar": {
           "angularaxis": {
            "gridcolor": "white",
            "linecolor": "white",
            "ticks": ""
           },
           "bgcolor": "#E5ECF6",
           "radialaxis": {
            "gridcolor": "white",
            "linecolor": "white",
            "ticks": ""
           }
          },
          "scene": {
           "xaxis": {
            "backgroundcolor": "#E5ECF6",
            "gridcolor": "white",
            "gridwidth": 2,
            "linecolor": "white",
            "showbackground": true,
            "ticks": "",
            "zerolinecolor": "white"
           },
           "yaxis": {
            "backgroundcolor": "#E5ECF6",
            "gridcolor": "white",
            "gridwidth": 2,
            "linecolor": "white",
            "showbackground": true,
            "ticks": "",
            "zerolinecolor": "white"
           },
           "zaxis": {
            "backgroundcolor": "#E5ECF6",
            "gridcolor": "white",
            "gridwidth": 2,
            "linecolor": "white",
            "showbackground": true,
            "ticks": "",
            "zerolinecolor": "white"
           }
          },
          "shapedefaults": {
           "line": {
            "color": "#2a3f5f"
           }
          },
          "ternary": {
           "aaxis": {
            "gridcolor": "white",
            "linecolor": "white",
            "ticks": ""
           },
           "baxis": {
            "gridcolor": "white",
            "linecolor": "white",
            "ticks": ""
           },
           "bgcolor": "#E5ECF6",
           "caxis": {
            "gridcolor": "white",
            "linecolor": "white",
            "ticks": ""
           }
          },
          "title": {
           "x": 0.05
          },
          "xaxis": {
           "automargin": true,
           "gridcolor": "white",
           "linecolor": "white",
           "ticks": "",
           "title": {
            "standoff": 15
           },
           "zerolinecolor": "white",
           "zerolinewidth": 2
          },
          "yaxis": {
           "automargin": true,
           "gridcolor": "white",
           "linecolor": "white",
           "ticks": "",
           "title": {
            "standoff": 15
           },
           "zerolinecolor": "white",
           "zerolinewidth": 2
          }
         }
        },
        "width": 355,
        "xaxis": {
         "range": [
          0,
          355
         ],
         "visible": false
        },
        "yaxis": {
         "range": [
          0,
          275
         ],
         "scaleanchor": "x",
         "visible": false
        }
       }
      },
      "text/html": [
       "<div>                            <div id=\"8cf92f3d-73db-44ed-ab1b-fe9615564a5a\" class=\"plotly-graph-div\" style=\"height:275.0px; width:355.0px;\"></div>            <script type=\"text/javascript\">                require([\"plotly\"], function(Plotly) {                    window.PLOTLYENV=window.PLOTLYENV || {};                                    if (document.getElementById(\"8cf92f3d-73db-44ed-ab1b-fe9615564a5a\")) {                    Plotly.newPlot(                        \"8cf92f3d-73db-44ed-ab1b-fe9615564a5a\",                        [{\"marker\":{\"opacity\":0},\"mode\":\"markers\",\"type\":\"scatter\",\"x\":[0,355.0],\"y\":[0,275.0]}],                        {\"height\":275.0,\"images\":[{\"layer\":\"below\",\"opacity\":1.0,\"sizex\":355.0,\"sizey\":275.0,\"sizing\":\"stretch\",\"source\":\"data:image/png;base64,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\",\"x\":0,\"xref\":\"x\",\"y\":275.0,\"yref\":\"y\"}],\"margin\":{\"b\":0,\"l\":0,\"r\":0,\"t\":0},\"template\":{\"data\":{\"bar\":[{\"error_x\":{\"color\":\"#2a3f5f\"},\"error_y\":{\"color\":\"#2a3f5f\"},\"marker\":{\"line\":{\"color\":\"#E5ECF6\",\"width\":0.5},\"pattern\":{\"fillmode\":\"overlay\",\"size\":10,\"solidity\":0.2}},\"type\":\"bar\"}],\"barpolar\":[{\"marker\":{\"line\":{\"color\":\"#E5ECF6\",\"width\":0.5},\"pattern\":{\"fillmode\":\"overlay\",\"size\":10,\"solidity\":0.2}},\"type\":\"barpolar\"}],\"carpet\":[{\"aaxis\":{\"endlinecolor\":\"#2a3f5f\",\"gridcolor\":\"white\",\"linecolor\":\"white\",\"minorgridcolor\":\"white\",\"startlinecolor\":\"#2a3f5f\"},\"baxis\":{\"endlinecolor\":\"#2a3f5f\",\"gridcolor\":\"white\",\"linecolor\":\"white\",\"minorgridcolor\":\"white\",\"startlinecolor\":\"#2a3f5f\"},\"type\":\"carpet\"}],\"choropleth\":[{\"colorbar\":{\"outlinewidth\":0,\"ticks\":\"\"},\"type\":\"choropleth\"}],\"contour\":[{\"colorbar\":{\"outlinewidth\":0,\"ticks\":\"\"},\"colorscale\":[[0.0,\"#0d0887\"],[0.1111111111111111,\"#46039f\"],[0.2222222222222222,\"#7201a8\"],[0.3333333333333333,\"#9c179e\"],[0.4444444444444444,\"#bd3786\"],[0.5555555555555556,\"#d8576b\"],[0.6666666666666666,\"#ed7953\"],[0.7777777777777778,\"#fb9f3a\"],[0.8888888888888888,\"#fdca26\"],[1.0,\"#f0f921\"]],\"type\":\"contour\"}],\"contourcarpet\":[{\"colorbar\":{\"outlinewidth\":0,\"ticks\":\"\"},\"type\":\"contourcarpet\"}],\"heatmap\":[{\"colorbar\":{\"outlinewidth\":0,\"ticks\":\"\"},\"colorscale\":[[0.0,\"#0d0887\"],[0.1111111111111111,\"#46039f\"],[0.2222222222222222,\"#7201a8\"],[0.3333333333333333,\"#9c179e\"],[0.4444444444444444,\"#bd3786\"],[0.5555555555555556,\"#d8576b\"],[0.6666666666666666,\"#ed7953\"],[0.7777777777777778,\"#fb9f3a\"],[0.8888888888888888,\"#fdca26\"],[1.0,\"#f0f921\"]],\"type\":\"heatmap\"}],\"heatmapgl\":[{\"colorbar\":{\"outlinewidth\":0,\"ticks\":\"\"},\"colorscale\":[[0.0,\"#0d0887\"],[0.1111111111111111,\"#46039f\"],[0.2222222222222222,\"#7201a8\"],[0.3333333333333333,\"#9c179e\"],[0.4444444444444444,\"#bd3786\"],[0.5555555555555556,\"#d8576b\"],[0.6666666666666666,\"#ed7953\"],[0.7777777777777778,\"#fb9f3a\"],[0.8888888888888888,\"#fdca26\"],[1.0,\"#f0f921\"]],\"type\":\"heatmapgl\"}],\"histogram\":[{\"marker\":{\"pattern\":{\"fillmode\":\"overlay\",\"size\":10,\"solidity\":0.2}},\"type\":\"histogram\"}],\"histogram2d\":[{\"colorbar\":{\"outlinewidth\":0,\"ticks\":\"\"},\"colorscale\":[[0.0,\"#0d0887\"],[0.1111111111111111,\"#46039f\"],[0.2222222222222222,\"#7201a8\"],[0.3333333333333333,\"#9c179e\"],[0.4444444444444444,\"#bd3786\"],[0.5555555555555556,\"#d8576b\"],[0.6666666666666666,\"#ed7953\"],[0.7777777777777778,\"#fb9f3a\"],[0.8888888888888888,\"#fdca26\"],[1.0,\"#f0f921\"]],\"type\":\"histogram2d\"}],\"histogram2dcontour\":[{\"colorbar\":{\"outlinewidth\":0,\"ticks\":\"\"},\"colorscale\":[[0.0,\"#0d0887\"],[0.1111111111111111,\"#46039f\"],[0.2222222222222222,\"#7201a8\"],[0.3333333333333333,\"#9c179e\"],[0.4444444444444444,\"#bd3786\"],[0.5555555555555556,\"#d8576b\"],[0.6666666666666666,\"#ed7953\"],[0.7777777777777778,\"#fb9f3a\"],[0.8888888888888888,\"#fdca26\"],[1.0,\"#f0f921\"]],\"type\":\"histogram2dcontour\"}],\"mesh3d\":[{\"colorbar\":{\"outlinewidth\":0,\"ticks\":\"\"},\"type\":\"mesh3d\"}],\"parcoords\":[{\"line\":{\"colorbar\":{\"outlinewidth\":0,\"ticks\":\"\"}},\"type\":\"parcoords\"}],\"pie\":[{\"automargin\":true,\"type\":\"pie\"}],\"scatter\":[{\"marker\":{\"colorbar\":{\"outlinewidth\":0,\"ticks\":\"\"}},\"type\":\"scatter\"}],\"scatter3d\":[{\"line\":{\"colorbar\":{\"outlinewidth\":0,\"ticks\":\"\"}},\"marker\":{\"colorbar\":{\"outlinewidth\":0,\"ticks\":\"\"}},\"type\":\"scatter3d\"}],\"scattercarpet\":[{\"marker\":{\"colorbar\":{\"outlinewidth\":0,\"ticks\":\"\"}},\"type\":\"scattercarpet\"}],\"scattergeo\":[{\"marker\":{\"colorbar\":{\"outlinewidth\":0,\"ticks\":\"\"}},\"type\":\"scattergeo\"}],\"scattergl\":[{\"marker\":{\"colorbar\":{\"outlinewidth\":0,\"ticks\":\"\"}},\"type\":\"scattergl\"}],\"scattermapbox\":[{\"marker\":{\"colorbar\":{\"outlinewidth\":0,\"ticks\":\"\"}},\"type\":\"scattermapbox\"}],\"scatterpolar\":[{\"marker\":{\"colorbar\":{\"outlinewidth\":0,\"ticks\":\"\"}},\"type\":\"scatterpolar\"}],\"scatterpolargl\":[{\"marker\":{\"colorbar\":{\"outlinewidth\":0,\"ticks\":\"\"}},\"type\":\"scatterpolargl\"}],\"scatterternary\":[{\"marker\":{\"colorbar\":{\"outlinewidth\":0,\"ticks\":\"\"}},\"type\":\"scatterternary\"}],\"surface\":[{\"colorbar\":{\"outlinewidth\":0,\"ticks\":\"\"},\"colorscale\":[[0.0,\"#0d0887\"],[0.1111111111111111,\"#46039f\"],[0.2222222222222222,\"#7201a8\"],[0.3333333333333333,\"#9c179e\"],[0.4444444444444444,\"#bd3786\"],[0.5555555555555556,\"#d8576b\"],[0.6666666666666666,\"#ed7953\"],[0.7777777777777778,\"#fb9f3a\"],[0.8888888888888888,\"#fdca26\"],[1.0,\"#f0f921\"]],\"type\":\"surface\"}],\"table\":[{\"cells\":{\"fill\":{\"color\":\"#EBF0F8\"},\"line\":{\"color\":\"white\"}},\"header\":{\"fill\":{\"color\":\"#C8D4E3\"},\"line\":{\"color\":\"white\"}},\"type\":\"table\"}]},\"layout\":{\"annotationdefaults\":{\"arrowcolor\":\"#2a3f5f\",\"arrowhead\":0,\"arrowwidth\":1},\"autotypenumbers\":\"strict\",\"coloraxis\":{\"colorbar\":{\"outlinewidth\":0,\"ticks\":\"\"}},\"colorscale\":{\"diverging\":[[0,\"#8e0152\"],[0.1,\"#c51b7d\"],[0.2,\"#de77ae\"],[0.3,\"#f1b6da\"],[0.4,\"#fde0ef\"],[0.5,\"#f7f7f7\"],[0.6,\"#e6f5d0\"],[0.7,\"#b8e186\"],[0.8,\"#7fbc41\"],[0.9,\"#4d9221\"],[1,\"#276419\"]],\"sequential\":[[0.0,\"#0d0887\"],[0.1111111111111111,\"#46039f\"],[0.2222222222222222,\"#7201a8\"],[0.3333333333333333,\"#9c179e\"],[0.4444444444444444,\"#bd3786\"],[0.5555555555555556,\"#d8576b\"],[0.6666666666666666,\"#ed7953\"],[0.7777777777777778,\"#fb9f3a\"],[0.8888888888888888,\"#fdca26\"],[1.0,\"#f0f921\"]],\"sequentialminus\":[[0.0,\"#0d0887\"],[0.1111111111111111,\"#46039f\"],[0.2222222222222222,\"#7201a8\"],[0.3333333333333333,\"#9c179e\"],[0.4444444444444444,\"#bd3786\"],[0.5555555555555556,\"#d8576b\"],[0.6666666666666666,\"#ed7953\"],[0.7777777777777778,\"#fb9f3a\"],[0.8888888888888888,\"#fdca26\"],[1.0,\"#f0f921\"]]},\"colorway\":[\"#636efa\",\"#EF553B\",\"#00cc96\",\"#ab63fa\",\"#FFA15A\",\"#19d3f3\",\"#FF6692\",\"#B6E880\",\"#FF97FF\",\"#FECB52\"],\"font\":{\"color\":\"#2a3f5f\"},\"geo\":{\"bgcolor\":\"white\",\"lakecolor\":\"white\",\"landcolor\":\"#E5ECF6\",\"showlakes\":true,\"showland\":true,\"subunitcolor\":\"white\"},\"hoverlabel\":{\"align\":\"left\"},\"hovermode\":\"closest\",\"mapbox\":{\"style\":\"light\"},\"paper_bgcolor\":\"white\",\"plot_bgcolor\":\"#E5ECF6\",\"polar\":{\"angularaxis\":{\"gridcolor\":\"white\",\"linecolor\":\"white\",\"ticks\":\"\"},\"bgcolor\":\"#E5ECF6\",\"radialaxis\":{\"gridcolor\":\"white\",\"linecolor\":\"white\",\"ticks\":\"\"}},\"scene\":{\"xaxis\":{\"backgroundcolor\":\"#E5ECF6\",\"gridcolor\":\"white\",\"gridwidth\":2,\"linecolor\":\"white\",\"showbackground\":true,\"ticks\":\"\",\"zerolinecolor\":\"white\"},\"yaxis\":{\"backgroundcolor\":\"#E5ECF6\",\"gridcolor\":\"white\",\"gridwidth\":2,\"linecolor\":\"white\",\"showbackground\":true,\"ticks\":\"\",\"zerolinecolor\":\"white\"},\"zaxis\":{\"backgroundcolor\":\"#E5ECF6\",\"gridcolor\":\"white\",\"gridwidth\":2,\"linecolor\":\"white\",\"showbackground\":true,\"ticks\":\"\",\"zerolinecolor\":\"white\"}},\"shapedefaults\":{\"line\":{\"color\":\"#2a3f5f\"}},\"ternary\":{\"aaxis\":{\"gridcolor\":\"white\",\"linecolor\":\"white\",\"ticks\":\"\"},\"baxis\":{\"gridcolor\":\"white\",\"linecolor\":\"white\",\"ticks\":\"\"},\"bgcolor\":\"#E5ECF6\",\"caxis\":{\"gridcolor\":\"white\",\"linecolor\":\"white\",\"ticks\":\"\"}},\"title\":{\"x\":0.05},\"xaxis\":{\"automargin\":true,\"gridcolor\":\"white\",\"linecolor\":\"white\",\"ticks\":\"\",\"title\":{\"standoff\":15},\"zerolinecolor\":\"white\",\"zerolinewidth\":2},\"yaxis\":{\"automargin\":true,\"gridcolor\":\"white\",\"linecolor\":\"white\",\"ticks\":\"\",\"title\":{\"standoff\":15},\"zerolinecolor\":\"white\",\"zerolinewidth\":2}}},\"width\":355.0,\"xaxis\":{\"range\":[0,355.0],\"visible\":false},\"yaxis\":{\"range\":[0,275.0],\"scaleanchor\":\"x\",\"visible\":false}},                        {\"doubleClick\": \"reset\", \"responsive\": true}                    ).then(function(){\n",
       "                            \n",
       "var gd = document.getElementById('8cf92f3d-73db-44ed-ab1b-fe9615564a5a');\n",
       "var x = new MutationObserver(function (mutations, observer) {{\n",
       "        var display = window.getComputedStyle(gd).display;\n",
       "        if (!display || display === 'none') {{\n",
       "            console.log([gd, 'removed!']);\n",
       "            Plotly.purge(gd);\n",
       "            observer.disconnect();\n",
       "        }}\n",
       "}});\n",
       "\n",
       "// Listen for the removal of the full notebook cells\n",
       "var notebookContainer = gd.closest('#notebook-container');\n",
       "if (notebookContainer) {{\n",
       "    x.observe(notebookContainer, {childList: true});\n",
       "}}\n",
       "\n",
       "// Listen for the clearing of the current output cell\n",
       "var outputEl = gd.closest('.output');\n",
       "if (outputEl) {{\n",
       "    x.observe(outputEl, {childList: true});\n",
       "}}\n",
       "\n",
       "                        })                };                });            </script>        </div>"
      ]
     },
     "metadata": {},
     "output_type": "display_data"
    },
    {
     "data": {
      "application/vnd.plotly.v1+json": {
       "config": {
        "doubleClick": "reset",
        "plotlyServerURL": "https://plot.ly"
       },
       "data": [
        {
         "marker": {
          "opacity": 0
         },
         "mode": "markers",
         "type": "scatter",
         "x": [
          0,
          355
         ],
         "y": [
          0,
          275
         ]
        }
       ],
       "layout": {
        "height": 275,
        "images": [
         {
          "layer": "below",
          "opacity": 1,
          "sizex": 355,
          "sizey": 275,
          "sizing": "stretch",
          "source": "data:image/png;base64,iVBORw0KGgoAAAANSUhEUgAAAXkAAAD0CAAAAABbMQlTAAASrElEQVR4nO2d25Ybt65F5wJLnfP/X7vjLhLnAWDdWpK9ncQZ3oX5kMRqSe1QFIjLAghFURRFURRFURRFURRFURRFURRFURRFURRFURRFURRFURRFURRFURRFURRFURRFURRFURRFURRFURRFURRF8T+M9n/K/tW/yf1o0PI/l/wgil+AoD3w7j5oorb9r8MEny5wg+Xf/tvcChkOGF47/pdiMBwhG6pN/wsxwDEETh2wv5IFdUPEype9+dsQyIeP7qu7xwPt8hw//Wt/IcIMq6/Cz9HoLhSL5+7Qrkv5dOURJohX1nfhv0fCY5ObmoHcP9uPrPyCMVik2vI/zWhxglqcp3K/LOXzPY/35p+AsC8Gqvgu8jWt+4JA4sG4mPpnK68FB9wlKEf/Z5B8LLl24a1bu+zu53veN4cHqfb8f43A6O4IZDTx0Lfl+3ZeeBwLZeZ/FhPCcHcfXQj8upovVh4W0cMTqtV/TRPo9QrF6rn7cE5mvs0lt2FHex4ekTxO5lr5lxjfOQcN/iDcc52fag7I1E9v4YJHfiq17u8wMOz14issfYSme2JMBmuGWcf8fPs297xhLLX2r2k9LclzNLMAJuxkbgycZtCPe1sOUmPEl6lW/iUaDuYvl15gNDMwZEc7b2FuGn5MEq+5+x2TaOXQv0QrD4P+8ud5/NrFUzGj4UN50G4/cYvXOG3L+hTPUKzbO3PT4JEn7WELG8Sid+eQ0BnxEcXhC49/6u/9++OYvV35WNYvrmf4Oe6ewdb+fi2ybaos8XPCELRpKvaVV5qLBhJCepv2spnQBBAaDZB266XwifR9//UuKBbVWcJLObIQZ6nhPvqIcOsFRsPm/n7gCAtrM38OkX1jqciKXCjTQGqobXvUaDSw4T7cO7DYeOd1KiKCRpzCjhrsubUFsboxxqOsD7CtsIsG9m03A6KBr4fnYNZfL71Bi2irIbQKPmzdfy5FMdFXpKpREZbZMstiBzMfB6diFwtaAxhv3weah0svF6DPbXcv+DAegD9KHAKA0ZbMorf19HAsn3LNBY1rZv6A0Ae+0t2QYIjjV0TzDDf/WkK/Jw3ATVHG2C2wxIB0xcPasLyOtGiAu6lFdlLu3o/v5xlThR6tLP00K4QruK+IQK7M+2YAK15nFxBNYYt89xoPC+wZCfTGe//0NizMvIv8tCLzA5mR0wK+m/kvEZRtS36ukMx4waOk5YOrdOGmCJmG0tjstFguBx/Du7uvPpbDR5NZA9E905gaUW69KJ5mvNDADG/bi2+PwWggjXU5eHttiaC2x0Oawo/5qsyUyXCJdgjDLlVBwDTW6GrwDrSy8xBBqkel7+LrzTC/zdzLaelndnhhk287X746W7wAjQX6g9IhbDTcMV91XBSTyXTS5bVzxWqriNAVNiUP6LO1mfGCBB/DoWGVNgZ4RA6r+yJO3TZhJ6BlssY4fg57FdCmpz6m+PL0/jNeyG+HRPnzk9AGLOd0itFEC/sijNbAzls1XSIyL69uEcieV37GC2AaWQ9/o3G4D8qwRin72AhdmfavQRa/J5vaI/ORYsotr2pu25oafJZz7+zbtJdbzzIbP62NIXuyVMoyitTTbPs088cnx/v0jMNqqydPVtRgt8WPDKSe2GUDfEE0emN+BUzGaEej1ITRHEQbVRSEdPKeYTOt0mb97/mXozlIYWRC3R3P9XiT7e0aje6gzzelxvvx1Yo8iIps7HuLP33d9Jo5fXpkwNp0XMap3v3I8Ha4Dx6VlwdQe16UE/DIVYcsMn2lqUeoNfWt5gJr23fg8HZqGGv5ksAMSb9GNMssW3T34T4ctfbkPIgDtgGuWWRKxbwdV34Lfa2jUn8AGr4+DWkW4IGnh9Kar74+PRL2MpYWAC0Oai0LiBsfqVO2UpoB4AP3J451JmuyHTBMjfn48t3YFJO+h0bdZ0P4Yc/rYLCeeac34OCnt+6ONA45Q4tmy4bs4KrPSMq6ixAQRKkc2oAHaj2slpDhPrKtoRz3jaOfPuujdtzKBuIRz9syAvGHBeQ2FZXx2U173n2hLaThWgX8Ufn3M+GnS+beIxXj66HsGmvXupDUPAWR1khBao+NLRFeZvjtymN2meJAm59NMZl+OmOEs9G+9WPatymrUPGFcPfc7fljnwLJiFgVaQIfirrq6TOsyseJ8NPbyMEQ7VzNjjV1F4/P9SEg+hgsHHv5EDbtfuNBo/vwEerLzLoJM2uzx6EAdj99DfEFy7feLn53ow0QH11EatLdR5j98W3Jjb2NLbNMcLYt2uWkVCiS9NPHAli20F/WRx4JgNnktwjMV3d3PcLaLxF+tXAW8wzOyokhLMLfWvid3U/HwEcPL3GvMQmlds/SdufePaiuTWDufVN/CCTDRPvm3cnWwcoTHJgrD4D7k3z7tvLv2hfABpEnSNMjWJD7EBch1Enu5LMBzo7VllswrU0OqblyrF2/XfnhEbk+IqISfwCjA4v43J42053Dg3A3Pc73W2mJ5wnr7s6zJKWMqWh9t/JLPCfboGQYJvfNK92eaAj5zP9EAB2yytvVwDP7y/TrLzy22sb7Pe+imcZm/Y3V+yzYHhfe1CJ3v2AWn7vRnAc3S1lmJKWt5HRl0XYMvHkbCxnlABStrsPBDJrR1kNz+OmdGoqWhlQf3MjabFU+PU+Tx/79/srr0xZalLnTfGXPvqFDN4/0EPKMghtigYb35WY7fsuYvezMkzA2GfZrHBa0RgAl+Wdjqi59XCstw4gPaIqgOiw32/HbIfeS3a38zsqLreQnH/OsFMOP7y+QdfdZVTHcB+KltbstuyJJ71beRdZDYpsb04h5jrLJb0BEavgk5+Io0jzFTqrwwKC/9vpGgwVG1Eh8ZGiE++x72Jq+xaH+N+fiZM651n5nV55iVz33gWintzQsqScw+RCYFLXwB5Kdo4aQ7SzMqlaxkWprQWN9bYg9jugxrZMwi/ZNRTlLs43zkjnLuTiqARQX9g4DpqzgKXFiNt9XXnMsjmzu6jnv7LS7cy7Og8renwixkobbVZN6xlFjYWzWxrDu0VoS5nshpKtuxyTBcS7OcrPswXeYnWTe3d+cgNHb7TZPWEM+Ijw2UlmTOUk/Kaks5uLEd6Z6wHdm9ySzXeEFDo9owg+vsrunJ5RbPCQjUmSBTmes2JT0d/ZtpgSJXJPQFWz+4EsczF+3ggtGVBAvYUEYI986aG9L1DTM86aKqbOZu/T10vzpvr7vQPAp6uZjfzDLW45Y1nuHUobwjrtC6huHo77n82n5jqjjEQl84QvnT1DpNNWsYjSyMhtZdAn8M3qFv/vS1z8ahsmwywioLX/f3nqtN2DWMRx2j9Bd6t+7F+o7A1e3m3bsmqCbWvu3iaFb4Ip/LABtGznp18n+R6Iz800ncUypkJzzbXaGsEwjjzvPMRNLjCDINmIBLAPZVUJwpW3tJE/xyBOslvrk/WXYGmodv7Ot2TK9Y25gY3aStfdjbA7B6BPm1Eq/REuH4qDd/ISNgCdn0phmpSNGpozMiM1E+5yHeCqzKhLE3rvt6puRIu9ZOpnPN8AGT8aw3BDfTlnBVt2Lpkr3aFMwJGQ+ev9ykZQE6h6l2PhBY0iYiItdzj2FmyZk3PquHcsOs20+fFa05fEZHAJNY8TyooPse1HWryzS+i3UgG60eG+WU5Kg5bwJbRmE++ItOnZmaBQqjp6NOr7aHG2Tivoc4rfTYrA/uLdIyi89svKO9CXesp4zn3TvISumtDYxH35qEgz/U8KwuUMx31untvC2xTQER9DUmQe1g4XDdJE5tLwMAHuXCr0BxsBYmPPhD2q99Gy6E8Mmek/jdJYWGDn9NmrmjziBHRljlUknRZNEeJPiPx/3nkvcHJxsh+KxK1SN4QZaPskLjeABS3joG0t8bWDWpsKXGW4031tLJmLxfG6VAqP8tM0oS7+wgYYfB5KtoZB3jps+NATxPchBleF+jjG8Z2PJOX3gMUl9YLc2Nymr+eJax2b1vulncoqleir0ju+w3SD4Q4NrUj0/uPv1F/Jnl+nIWEixd7gyLoTND2B/4lQD2mLffugXDgPmHY43Zplm/ism2PQzDPhAcVfpMQHGngf4oS2/DBZEb7Rbu5V5S8uXWPKBLSBt+pmRQrFLILWrvo12uknqFVod8Hvn5iHM9Iv10ibTy0N0eujHF2Sng35wzy9h3mLh710NbJnwurAnIrNakmMpXLCc5Hqzu6f9oLUJ3ymVOTe2NsCr/38pRgfHIjlEhBT1k9NLHXjQ3tzEcPhVKd9eeKsquQGv8oXb7a+hn9EatXKDs/x6yu1ljLcl8e33CaElksh33PPtIh2Yq2wCqTveT8uyXSp9wRR+otGOU+k39cjhF85MvW3TRu/p25hO7iExSSIeaCOLGvvKdCDaj8/vApnhz+thDPgjcgpfkpQAkcmZyssb8rjG9LIcktjAuhbk6CAvaK4XVaRGjCzzIZapT2uXHR/Xds0H3McaBYG/+X/rdyAqIJv6q81UF3GOkkHrZMH962j6fB+3CMgiUenDLUfdnJszI9Xco/d88TFuaebhsuP2TgPLwXFDx9P39Y4nDL175pYleizuqRRlAu/hGwlA8x6HexFXhRzFSo9tclPe+XQ+YV+MxxLiQR8jy4athy8aG/v49Ia8a5OKCFt+wAv9H0SgHFrj7p79BRZbf2ianMlcrisxsmNhdgP2CH1DIXh84sd+07Ipf8+4YwJB0ca3f93dBf8XPwtXvp/czncdrCn/tpheqXmIyE+bunuEZTaV43ZLGbdzGfspH+xXtEB0XH5B2xT6qcE8zyub0yoQmNbjNb17ScXyqtl7jijW6dLovZQHU44xPp6EtwaYRXPDpn86ihF6jHyNz2cZTkxcpCkS8kv+KI7hGx6xFmKP/YHlEPw7UVx9ZgtsG+A0XcWTpynxmRnglme1EVu8A9ZA/OljjHuuO7it63nkgw9mfj21Ty/jnNChRU/9uUKVI0S9z4gV12xb82GK2U6P8GFvWw1092++M2xbagfo1t5cQIJYPUocT55l3j3i2HXm94F08zNouOtNXtErfPq6a8uX+5YWfvrKD4iBHaLJhk4lLcmgYX048zKXrGFF9NDyUDa45epHbuX450PDsAMaTysXcTm1e0TABho6+TbMGbmtR/vf5ggtRDyWzZvCbmnnpZMzyNRqA7HnP+f8oSvRTWkZQ0nnRmPmwh7E2/MSGc3kxBaW3XDLvyaES84cQwMcb7nwPqDFPO68KzbNfhX3/hptpiojnRBrejDHXR+ZXEPt0tFjtYX/AtuEJleeuGeH3acI0AzovvJQSuQjTip+FhMavvpI79HIm1uCIZslJR/ewsQY0PrdVRx/FYExHjE5aDPdmwH3LhGfTezzB2C4+5oa4eLniAI1sE05FKfxwSHDzK9DxkT4sGiVKv4SLdrmaQ8M3PvXKF+ZB1M2okGDtdcR+1fYhpPHMFVfL3l2Zd3qqOpIzd/71uXiBxEsjGhd9fPjM8sOZCogl371mbMvfh5DzHbYP0/B7kLWxnfdxpg1FQ8Pp7zLnyaS6zEI1MyPj2eyS9vNMAvzfsFMkd00+fv3kfXCxslr0S5Fi4jXYsWRJPhPSVX/GlIbn0BcA3islI/ufUz1e6SElwbuTWA27U3xk0irL+Gx6zhvzD8B2WfcGbs9boYPHgL1Vc8rKsUPEqJ4LmNufAoABdbd1fI4nV8NcdcC69/F8MyD5bVeiZ8y74wx0ubEkseDtef/Cj77o3y7kw5CQampZjLmMLhwMz2qJMdbqrITKIWU7qqx899j3q+TXTrbw7OGHbvatjx+XjYSX5Ljnm951ebwb6Aom9fav8YRUsx2+jj+oO/Oy5yVkhnNDwwf7sMuKyuaD5/TFLzftEvnB4lLe32FSz3WkPunu8VgkC2P37YAyji8QCDFFN35Pv515E1xwB31GKV42sEN4AHd3XtokLMMuJmd8932Y8z41rAWOZ6yNq8R7duIUeenBL2yz+TgviwQ3U/bt+NobtLXTCEmGL2yOm+ZuoPr9J8FFBVBqYX6I/L4IKOJ5fwap4XidQnNAh41xOIFLUfD5R+ORanYufsjS0wNnaPUz27jvKd6k1nefPb5r8Ozp0HAvNW9+BUMU/RGea+T9dfiCLx7O+j6il+BD5+pNGrlfyUpVBNYu6No+18k1lt1X9ovZpoX1VV1v5rZJ2JTgFkURVEURVEURfGT/IbFARtHHf2wbnE3XfHPIsR5TL1dZzYV/wxtXokRLPlI8U8jjNP4LeP6yO/Bb5860lAb9voe8OJv42JtENjX60mKv53rCduipv37WZvfTmXlyHVoYhiGvk7mLoqiKIqiKIqiKIqiKIqiKIqiKIqiKIqiKIqiKIqiKH4b/h+xX+UlTnRmoQAAAABJRU5ErkJggg==",
          "x": 0,
          "xref": "x",
          "y": 275,
          "yref": "y"
         }
        ],
        "margin": {
         "b": 0,
         "l": 0,
         "r": 0,
         "t": 0
        },
        "template": {
         "data": {
          "bar": [
           {
            "error_x": {
             "color": "#2a3f5f"
            },
            "error_y": {
             "color": "#2a3f5f"
            },
            "marker": {
             "line": {
              "color": "#E5ECF6",
              "width": 0.5
             },
             "pattern": {
              "fillmode": "overlay",
              "size": 10,
              "solidity": 0.2
             }
            },
            "type": "bar"
           }
          ],
          "barpolar": [
           {
            "marker": {
             "line": {
              "color": "#E5ECF6",
              "width": 0.5
             },
             "pattern": {
              "fillmode": "overlay",
              "size": 10,
              "solidity": 0.2
             }
            },
            "type": "barpolar"
           }
          ],
          "carpet": [
           {
            "aaxis": {
             "endlinecolor": "#2a3f5f",
             "gridcolor": "white",
             "linecolor": "white",
             "minorgridcolor": "white",
             "startlinecolor": "#2a3f5f"
            },
            "baxis": {
             "endlinecolor": "#2a3f5f",
             "gridcolor": "white",
             "linecolor": "white",
             "minorgridcolor": "white",
             "startlinecolor": "#2a3f5f"
            },
            "type": "carpet"
           }
          ],
          "choropleth": [
           {
            "colorbar": {
             "outlinewidth": 0,
             "ticks": ""
            },
            "type": "choropleth"
           }
          ],
          "contour": [
           {
            "colorbar": {
             "outlinewidth": 0,
             "ticks": ""
            },
            "colorscale": [
             [
              0,
              "#0d0887"
             ],
             [
              0.1111111111111111,
              "#46039f"
             ],
             [
              0.2222222222222222,
              "#7201a8"
             ],
             [
              0.3333333333333333,
              "#9c179e"
             ],
             [
              0.4444444444444444,
              "#bd3786"
             ],
             [
              0.5555555555555556,
              "#d8576b"
             ],
             [
              0.6666666666666666,
              "#ed7953"
             ],
             [
              0.7777777777777778,
              "#fb9f3a"
             ],
             [
              0.8888888888888888,
              "#fdca26"
             ],
             [
              1,
              "#f0f921"
             ]
            ],
            "type": "contour"
           }
          ],
          "contourcarpet": [
           {
            "colorbar": {
             "outlinewidth": 0,
             "ticks": ""
            },
            "type": "contourcarpet"
           }
          ],
          "heatmap": [
           {
            "colorbar": {
             "outlinewidth": 0,
             "ticks": ""
            },
            "colorscale": [
             [
              0,
              "#0d0887"
             ],
             [
              0.1111111111111111,
              "#46039f"
             ],
             [
              0.2222222222222222,
              "#7201a8"
             ],
             [
              0.3333333333333333,
              "#9c179e"
             ],
             [
              0.4444444444444444,
              "#bd3786"
             ],
             [
              0.5555555555555556,
              "#d8576b"
             ],
             [
              0.6666666666666666,
              "#ed7953"
             ],
             [
              0.7777777777777778,
              "#fb9f3a"
             ],
             [
              0.8888888888888888,
              "#fdca26"
             ],
             [
              1,
              "#f0f921"
             ]
            ],
            "type": "heatmap"
           }
          ],
          "heatmapgl": [
           {
            "colorbar": {
             "outlinewidth": 0,
             "ticks": ""
            },
            "colorscale": [
             [
              0,
              "#0d0887"
             ],
             [
              0.1111111111111111,
              "#46039f"
             ],
             [
              0.2222222222222222,
              "#7201a8"
             ],
             [
              0.3333333333333333,
              "#9c179e"
             ],
             [
              0.4444444444444444,
              "#bd3786"
             ],
             [
              0.5555555555555556,
              "#d8576b"
             ],
             [
              0.6666666666666666,
              "#ed7953"
             ],
             [
              0.7777777777777778,
              "#fb9f3a"
             ],
             [
              0.8888888888888888,
              "#fdca26"
             ],
             [
              1,
              "#f0f921"
             ]
            ],
            "type": "heatmapgl"
           }
          ],
          "histogram": [
           {
            "marker": {
             "pattern": {
              "fillmode": "overlay",
              "size": 10,
              "solidity": 0.2
             }
            },
            "type": "histogram"
           }
          ],
          "histogram2d": [
           {
            "colorbar": {
             "outlinewidth": 0,
             "ticks": ""
            },
            "colorscale": [
             [
              0,
              "#0d0887"
             ],
             [
              0.1111111111111111,
              "#46039f"
             ],
             [
              0.2222222222222222,
              "#7201a8"
             ],
             [
              0.3333333333333333,
              "#9c179e"
             ],
             [
              0.4444444444444444,
              "#bd3786"
             ],
             [
              0.5555555555555556,
              "#d8576b"
             ],
             [
              0.6666666666666666,
              "#ed7953"
             ],
             [
              0.7777777777777778,
              "#fb9f3a"
             ],
             [
              0.8888888888888888,
              "#fdca26"
             ],
             [
              1,
              "#f0f921"
             ]
            ],
            "type": "histogram2d"
           }
          ],
          "histogram2dcontour": [
           {
            "colorbar": {
             "outlinewidth": 0,
             "ticks": ""
            },
            "colorscale": [
             [
              0,
              "#0d0887"
             ],
             [
              0.1111111111111111,
              "#46039f"
             ],
             [
              0.2222222222222222,
              "#7201a8"
             ],
             [
              0.3333333333333333,
              "#9c179e"
             ],
             [
              0.4444444444444444,
              "#bd3786"
             ],
             [
              0.5555555555555556,
              "#d8576b"
             ],
             [
              0.6666666666666666,
              "#ed7953"
             ],
             [
              0.7777777777777778,
              "#fb9f3a"
             ],
             [
              0.8888888888888888,
              "#fdca26"
             ],
             [
              1,
              "#f0f921"
             ]
            ],
            "type": "histogram2dcontour"
           }
          ],
          "mesh3d": [
           {
            "colorbar": {
             "outlinewidth": 0,
             "ticks": ""
            },
            "type": "mesh3d"
           }
          ],
          "parcoords": [
           {
            "line": {
             "colorbar": {
              "outlinewidth": 0,
              "ticks": ""
             }
            },
            "type": "parcoords"
           }
          ],
          "pie": [
           {
            "automargin": true,
            "type": "pie"
           }
          ],
          "scatter": [
           {
            "marker": {
             "colorbar": {
              "outlinewidth": 0,
              "ticks": ""
             }
            },
            "type": "scatter"
           }
          ],
          "scatter3d": [
           {
            "line": {
             "colorbar": {
              "outlinewidth": 0,
              "ticks": ""
             }
            },
            "marker": {
             "colorbar": {
              "outlinewidth": 0,
              "ticks": ""
             }
            },
            "type": "scatter3d"
           }
          ],
          "scattercarpet": [
           {
            "marker": {
             "colorbar": {
              "outlinewidth": 0,
              "ticks": ""
             }
            },
            "type": "scattercarpet"
           }
          ],
          "scattergeo": [
           {
            "marker": {
             "colorbar": {
              "outlinewidth": 0,
              "ticks": ""
             }
            },
            "type": "scattergeo"
           }
          ],
          "scattergl": [
           {
            "marker": {
             "colorbar": {
              "outlinewidth": 0,
              "ticks": ""
             }
            },
            "type": "scattergl"
           }
          ],
          "scattermapbox": [
           {
            "marker": {
             "colorbar": {
              "outlinewidth": 0,
              "ticks": ""
             }
            },
            "type": "scattermapbox"
           }
          ],
          "scatterpolar": [
           {
            "marker": {
             "colorbar": {
              "outlinewidth": 0,
              "ticks": ""
             }
            },
            "type": "scatterpolar"
           }
          ],
          "scatterpolargl": [
           {
            "marker": {
             "colorbar": {
              "outlinewidth": 0,
              "ticks": ""
             }
            },
            "type": "scatterpolargl"
           }
          ],
          "scatterternary": [
           {
            "marker": {
             "colorbar": {
              "outlinewidth": 0,
              "ticks": ""
             }
            },
            "type": "scatterternary"
           }
          ],
          "surface": [
           {
            "colorbar": {
             "outlinewidth": 0,
             "ticks": ""
            },
            "colorscale": [
             [
              0,
              "#0d0887"
             ],
             [
              0.1111111111111111,
              "#46039f"
             ],
             [
              0.2222222222222222,
              "#7201a8"
             ],
             [
              0.3333333333333333,
              "#9c179e"
             ],
             [
              0.4444444444444444,
              "#bd3786"
             ],
             [
              0.5555555555555556,
              "#d8576b"
             ],
             [
              0.6666666666666666,
              "#ed7953"
             ],
             [
              0.7777777777777778,
              "#fb9f3a"
             ],
             [
              0.8888888888888888,
              "#fdca26"
             ],
             [
              1,
              "#f0f921"
             ]
            ],
            "type": "surface"
           }
          ],
          "table": [
           {
            "cells": {
             "fill": {
              "color": "#EBF0F8"
             },
             "line": {
              "color": "white"
             }
            },
            "header": {
             "fill": {
              "color": "#C8D4E3"
             },
             "line": {
              "color": "white"
             }
            },
            "type": "table"
           }
          ]
         },
         "layout": {
          "annotationdefaults": {
           "arrowcolor": "#2a3f5f",
           "arrowhead": 0,
           "arrowwidth": 1
          },
          "autotypenumbers": "strict",
          "coloraxis": {
           "colorbar": {
            "outlinewidth": 0,
            "ticks": ""
           }
          },
          "colorscale": {
           "diverging": [
            [
             0,
             "#8e0152"
            ],
            [
             0.1,
             "#c51b7d"
            ],
            [
             0.2,
             "#de77ae"
            ],
            [
             0.3,
             "#f1b6da"
            ],
            [
             0.4,
             "#fde0ef"
            ],
            [
             0.5,
             "#f7f7f7"
            ],
            [
             0.6,
             "#e6f5d0"
            ],
            [
             0.7,
             "#b8e186"
            ],
            [
             0.8,
             "#7fbc41"
            ],
            [
             0.9,
             "#4d9221"
            ],
            [
             1,
             "#276419"
            ]
           ],
           "sequential": [
            [
             0,
             "#0d0887"
            ],
            [
             0.1111111111111111,
             "#46039f"
            ],
            [
             0.2222222222222222,
             "#7201a8"
            ],
            [
             0.3333333333333333,
             "#9c179e"
            ],
            [
             0.4444444444444444,
             "#bd3786"
            ],
            [
             0.5555555555555556,
             "#d8576b"
            ],
            [
             0.6666666666666666,
             "#ed7953"
            ],
            [
             0.7777777777777778,
             "#fb9f3a"
            ],
            [
             0.8888888888888888,
             "#fdca26"
            ],
            [
             1,
             "#f0f921"
            ]
           ],
           "sequentialminus": [
            [
             0,
             "#0d0887"
            ],
            [
             0.1111111111111111,
             "#46039f"
            ],
            [
             0.2222222222222222,
             "#7201a8"
            ],
            [
             0.3333333333333333,
             "#9c179e"
            ],
            [
             0.4444444444444444,
             "#bd3786"
            ],
            [
             0.5555555555555556,
             "#d8576b"
            ],
            [
             0.6666666666666666,
             "#ed7953"
            ],
            [
             0.7777777777777778,
             "#fb9f3a"
            ],
            [
             0.8888888888888888,
             "#fdca26"
            ],
            [
             1,
             "#f0f921"
            ]
           ]
          },
          "colorway": [
           "#636efa",
           "#EF553B",
           "#00cc96",
           "#ab63fa",
           "#FFA15A",
           "#19d3f3",
           "#FF6692",
           "#B6E880",
           "#FF97FF",
           "#FECB52"
          ],
          "font": {
           "color": "#2a3f5f"
          },
          "geo": {
           "bgcolor": "white",
           "lakecolor": "white",
           "landcolor": "#E5ECF6",
           "showlakes": true,
           "showland": true,
           "subunitcolor": "white"
          },
          "hoverlabel": {
           "align": "left"
          },
          "hovermode": "closest",
          "mapbox": {
           "style": "light"
          },
          "paper_bgcolor": "white",
          "plot_bgcolor": "#E5ECF6",
          "polar": {
           "angularaxis": {
            "gridcolor": "white",
            "linecolor": "white",
            "ticks": ""
           },
           "bgcolor": "#E5ECF6",
           "radialaxis": {
            "gridcolor": "white",
            "linecolor": "white",
            "ticks": ""
           }
          },
          "scene": {
           "xaxis": {
            "backgroundcolor": "#E5ECF6",
            "gridcolor": "white",
            "gridwidth": 2,
            "linecolor": "white",
            "showbackground": true,
            "ticks": "",
            "zerolinecolor": "white"
           },
           "yaxis": {
            "backgroundcolor": "#E5ECF6",
            "gridcolor": "white",
            "gridwidth": 2,
            "linecolor": "white",
            "showbackground": true,
            "ticks": "",
            "zerolinecolor": "white"
           },
           "zaxis": {
            "backgroundcolor": "#E5ECF6",
            "gridcolor": "white",
            "gridwidth": 2,
            "linecolor": "white",
            "showbackground": true,
            "ticks": "",
            "zerolinecolor": "white"
           }
          },
          "shapedefaults": {
           "line": {
            "color": "#2a3f5f"
           }
          },
          "ternary": {
           "aaxis": {
            "gridcolor": "white",
            "linecolor": "white",
            "ticks": ""
           },
           "baxis": {
            "gridcolor": "white",
            "linecolor": "white",
            "ticks": ""
           },
           "bgcolor": "#E5ECF6",
           "caxis": {
            "gridcolor": "white",
            "linecolor": "white",
            "ticks": ""
           }
          },
          "title": {
           "x": 0.05
          },
          "xaxis": {
           "automargin": true,
           "gridcolor": "white",
           "linecolor": "white",
           "ticks": "",
           "title": {
            "standoff": 15
           },
           "zerolinecolor": "white",
           "zerolinewidth": 2
          },
          "yaxis": {
           "automargin": true,
           "gridcolor": "white",
           "linecolor": "white",
           "ticks": "",
           "title": {
            "standoff": 15
           },
           "zerolinecolor": "white",
           "zerolinewidth": 2
          }
         }
        },
        "width": 355,
        "xaxis": {
         "range": [
          0,
          355
         ],
         "visible": false
        },
        "yaxis": {
         "range": [
          0,
          275
         ],
         "scaleanchor": "x",
         "visible": false
        }
       }
      },
      "text/html": [
       "<div>                            <div id=\"27b12206-aeeb-4be9-9f9e-fd151ab66ff0\" class=\"plotly-graph-div\" style=\"height:275.0px; width:355.0px;\"></div>            <script type=\"text/javascript\">                require([\"plotly\"], function(Plotly) {                    window.PLOTLYENV=window.PLOTLYENV || {};                                    if (document.getElementById(\"27b12206-aeeb-4be9-9f9e-fd151ab66ff0\")) {                    Plotly.newPlot(                        \"27b12206-aeeb-4be9-9f9e-fd151ab66ff0\",                        [{\"marker\":{\"opacity\":0},\"mode\":\"markers\",\"type\":\"scatter\",\"x\":[0,355.0],\"y\":[0,275.0]}],                        {\"height\":275.0,\"images\":[{\"layer\":\"below\",\"opacity\":1.0,\"sizex\":355.0,\"sizey\":275.0,\"sizing\":\"stretch\",\"source\":\"data:image/png;base64,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\",\"x\":0,\"xref\":\"x\",\"y\":275.0,\"yref\":\"y\"}],\"margin\":{\"b\":0,\"l\":0,\"r\":0,\"t\":0},\"template\":{\"data\":{\"bar\":[{\"error_x\":{\"color\":\"#2a3f5f\"},\"error_y\":{\"color\":\"#2a3f5f\"},\"marker\":{\"line\":{\"color\":\"#E5ECF6\",\"width\":0.5},\"pattern\":{\"fillmode\":\"overlay\",\"size\":10,\"solidity\":0.2}},\"type\":\"bar\"}],\"barpolar\":[{\"marker\":{\"line\":{\"color\":\"#E5ECF6\",\"width\":0.5},\"pattern\":{\"fillmode\":\"overlay\",\"size\":10,\"solidity\":0.2}},\"type\":\"barpolar\"}],\"carpet\":[{\"aaxis\":{\"endlinecolor\":\"#2a3f5f\",\"gridcolor\":\"white\",\"linecolor\":\"white\",\"minorgridcolor\":\"white\",\"startlinecolor\":\"#2a3f5f\"},\"baxis\":{\"endlinecolor\":\"#2a3f5f\",\"gridcolor\":\"white\",\"linecolor\":\"white\",\"minorgridcolor\":\"white\",\"startlinecolor\":\"#2a3f5f\"},\"type\":\"carpet\"}],\"choropleth\":[{\"colorbar\":{\"outlinewidth\":0,\"ticks\":\"\"},\"type\":\"choropleth\"}],\"contour\":[{\"colorbar\":{\"outlinewidth\":0,\"ticks\":\"\"},\"colorscale\":[[0.0,\"#0d0887\"],[0.1111111111111111,\"#46039f\"],[0.2222222222222222,\"#7201a8\"],[0.3333333333333333,\"#9c179e\"],[0.4444444444444444,\"#bd3786\"],[0.5555555555555556,\"#d8576b\"],[0.6666666666666666,\"#ed7953\"],[0.7777777777777778,\"#fb9f3a\"],[0.8888888888888888,\"#fdca26\"],[1.0,\"#f0f921\"]],\"type\":\"contour\"}],\"contourcarpet\":[{\"colorbar\":{\"outlinewidth\":0,\"ticks\":\"\"},\"type\":\"contourcarpet\"}],\"heatmap\":[{\"colorbar\":{\"outlinewidth\":0,\"ticks\":\"\"},\"colorscale\":[[0.0,\"#0d0887\"],[0.1111111111111111,\"#46039f\"],[0.2222222222222222,\"#7201a8\"],[0.3333333333333333,\"#9c179e\"],[0.4444444444444444,\"#bd3786\"],[0.5555555555555556,\"#d8576b\"],[0.6666666666666666,\"#ed7953\"],[0.7777777777777778,\"#fb9f3a\"],[0.8888888888888888,\"#fdca26\"],[1.0,\"#f0f921\"]],\"type\":\"heatmap\"}],\"heatmapgl\":[{\"colorbar\":{\"outlinewidth\":0,\"ticks\":\"\"},\"colorscale\":[[0.0,\"#0d0887\"],[0.1111111111111111,\"#46039f\"],[0.2222222222222222,\"#7201a8\"],[0.3333333333333333,\"#9c179e\"],[0.4444444444444444,\"#bd3786\"],[0.5555555555555556,\"#d8576b\"],[0.6666666666666666,\"#ed7953\"],[0.7777777777777778,\"#fb9f3a\"],[0.8888888888888888,\"#fdca26\"],[1.0,\"#f0f921\"]],\"type\":\"heatmapgl\"}],\"histogram\":[{\"marker\":{\"pattern\":{\"fillmode\":\"overlay\",\"size\":10,\"solidity\":0.2}},\"type\":\"histogram\"}],\"histogram2d\":[{\"colorbar\":{\"outlinewidth\":0,\"ticks\":\"\"},\"colorscale\":[[0.0,\"#0d0887\"],[0.1111111111111111,\"#46039f\"],[0.2222222222222222,\"#7201a8\"],[0.3333333333333333,\"#9c179e\"],[0.4444444444444444,\"#bd3786\"],[0.5555555555555556,\"#d8576b\"],[0.6666666666666666,\"#ed7953\"],[0.7777777777777778,\"#fb9f3a\"],[0.8888888888888888,\"#fdca26\"],[1.0,\"#f0f921\"]],\"type\":\"histogram2d\"}],\"histogram2dcontour\":[{\"colorbar\":{\"outlinewidth\":0,\"ticks\":\"\"},\"colorscale\":[[0.0,\"#0d0887\"],[0.1111111111111111,\"#46039f\"],[0.2222222222222222,\"#7201a8\"],[0.3333333333333333,\"#9c179e\"],[0.4444444444444444,\"#bd3786\"],[0.5555555555555556,\"#d8576b\"],[0.6666666666666666,\"#ed7953\"],[0.7777777777777778,\"#fb9f3a\"],[0.8888888888888888,\"#fdca26\"],[1.0,\"#f0f921\"]],\"type\":\"histogram2dcontour\"}],\"mesh3d\":[{\"colorbar\":{\"outlinewidth\":0,\"ticks\":\"\"},\"type\":\"mesh3d\"}],\"parcoords\":[{\"line\":{\"colorbar\":{\"outlinewidth\":0,\"ticks\":\"\"}},\"type\":\"parcoords\"}],\"pie\":[{\"automargin\":true,\"type\":\"pie\"}],\"scatter\":[{\"marker\":{\"colorbar\":{\"outlinewidth\":0,\"ticks\":\"\"}},\"type\":\"scatter\"}],\"scatter3d\":[{\"line\":{\"colorbar\":{\"outlinewidth\":0,\"ticks\":\"\"}},\"marker\":{\"colorbar\":{\"outlinewidth\":0,\"ticks\":\"\"}},\"type\":\"scatter3d\"}],\"scattercarpet\":[{\"marker\":{\"colorbar\":{\"outlinewidth\":0,\"ticks\":\"\"}},\"type\":\"scattercarpet\"}],\"scattergeo\":[{\"marker\":{\"colorbar\":{\"outlinewidth\":0,\"ticks\":\"\"}},\"type\":\"scattergeo\"}],\"scattergl\":[{\"marker\":{\"colorbar\":{\"outlinewidth\":0,\"ticks\":\"\"}},\"type\":\"scattergl\"}],\"scattermapbox\":[{\"marker\":{\"colorbar\":{\"outlinewidth\":0,\"ticks\":\"\"}},\"type\":\"scattermapbox\"}],\"scatterpolar\":[{\"marker\":{\"colorbar\":{\"outlinewidth\":0,\"ticks\":\"\"}},\"type\":\"scatterpolar\"}],\"scatterpolargl\":[{\"marker\":{\"colorbar\":{\"outlinewidth\":0,\"ticks\":\"\"}},\"type\":\"scatterpolargl\"}],\"scatterternary\":[{\"marker\":{\"colorbar\":{\"outlinewidth\":0,\"ticks\":\"\"}},\"type\":\"scatterternary\"}],\"surface\":[{\"colorbar\":{\"outlinewidth\":0,\"ticks\":\"\"},\"colorscale\":[[0.0,\"#0d0887\"],[0.1111111111111111,\"#46039f\"],[0.2222222222222222,\"#7201a8\"],[0.3333333333333333,\"#9c179e\"],[0.4444444444444444,\"#bd3786\"],[0.5555555555555556,\"#d8576b\"],[0.6666666666666666,\"#ed7953\"],[0.7777777777777778,\"#fb9f3a\"],[0.8888888888888888,\"#fdca26\"],[1.0,\"#f0f921\"]],\"type\":\"surface\"}],\"table\":[{\"cells\":{\"fill\":{\"color\":\"#EBF0F8\"},\"line\":{\"color\":\"white\"}},\"header\":{\"fill\":{\"color\":\"#C8D4E3\"},\"line\":{\"color\":\"white\"}},\"type\":\"table\"}]},\"layout\":{\"annotationdefaults\":{\"arrowcolor\":\"#2a3f5f\",\"arrowhead\":0,\"arrowwidth\":1},\"autotypenumbers\":\"strict\",\"coloraxis\":{\"colorbar\":{\"outlinewidth\":0,\"ticks\":\"\"}},\"colorscale\":{\"diverging\":[[0,\"#8e0152\"],[0.1,\"#c51b7d\"],[0.2,\"#de77ae\"],[0.3,\"#f1b6da\"],[0.4,\"#fde0ef\"],[0.5,\"#f7f7f7\"],[0.6,\"#e6f5d0\"],[0.7,\"#b8e186\"],[0.8,\"#7fbc41\"],[0.9,\"#4d9221\"],[1,\"#276419\"]],\"sequential\":[[0.0,\"#0d0887\"],[0.1111111111111111,\"#46039f\"],[0.2222222222222222,\"#7201a8\"],[0.3333333333333333,\"#9c179e\"],[0.4444444444444444,\"#bd3786\"],[0.5555555555555556,\"#d8576b\"],[0.6666666666666666,\"#ed7953\"],[0.7777777777777778,\"#fb9f3a\"],[0.8888888888888888,\"#fdca26\"],[1.0,\"#f0f921\"]],\"sequentialminus\":[[0.0,\"#0d0887\"],[0.1111111111111111,\"#46039f\"],[0.2222222222222222,\"#7201a8\"],[0.3333333333333333,\"#9c179e\"],[0.4444444444444444,\"#bd3786\"],[0.5555555555555556,\"#d8576b\"],[0.6666666666666666,\"#ed7953\"],[0.7777777777777778,\"#fb9f3a\"],[0.8888888888888888,\"#fdca26\"],[1.0,\"#f0f921\"]]},\"colorway\":[\"#636efa\",\"#EF553B\",\"#00cc96\",\"#ab63fa\",\"#FFA15A\",\"#19d3f3\",\"#FF6692\",\"#B6E880\",\"#FF97FF\",\"#FECB52\"],\"font\":{\"color\":\"#2a3f5f\"},\"geo\":{\"bgcolor\":\"white\",\"lakecolor\":\"white\",\"landcolor\":\"#E5ECF6\",\"showlakes\":true,\"showland\":true,\"subunitcolor\":\"white\"},\"hoverlabel\":{\"align\":\"left\"},\"hovermode\":\"closest\",\"mapbox\":{\"style\":\"light\"},\"paper_bgcolor\":\"white\",\"plot_bgcolor\":\"#E5ECF6\",\"polar\":{\"angularaxis\":{\"gridcolor\":\"white\",\"linecolor\":\"white\",\"ticks\":\"\"},\"bgcolor\":\"#E5ECF6\",\"radialaxis\":{\"gridcolor\":\"white\",\"linecolor\":\"white\",\"ticks\":\"\"}},\"scene\":{\"xaxis\":{\"backgroundcolor\":\"#E5ECF6\",\"gridcolor\":\"white\",\"gridwidth\":2,\"linecolor\":\"white\",\"showbackground\":true,\"ticks\":\"\",\"zerolinecolor\":\"white\"},\"yaxis\":{\"backgroundcolor\":\"#E5ECF6\",\"gridcolor\":\"white\",\"gridwidth\":2,\"linecolor\":\"white\",\"showbackground\":true,\"ticks\":\"\",\"zerolinecolor\":\"white\"},\"zaxis\":{\"backgroundcolor\":\"#E5ECF6\",\"gridcolor\":\"white\",\"gridwidth\":2,\"linecolor\":\"white\",\"showbackground\":true,\"ticks\":\"\",\"zerolinecolor\":\"white\"}},\"shapedefaults\":{\"line\":{\"color\":\"#2a3f5f\"}},\"ternary\":{\"aaxis\":{\"gridcolor\":\"white\",\"linecolor\":\"white\",\"ticks\":\"\"},\"baxis\":{\"gridcolor\":\"white\",\"linecolor\":\"white\",\"ticks\":\"\"},\"bgcolor\":\"#E5ECF6\",\"caxis\":{\"gridcolor\":\"white\",\"linecolor\":\"white\",\"ticks\":\"\"}},\"title\":{\"x\":0.05},\"xaxis\":{\"automargin\":true,\"gridcolor\":\"white\",\"linecolor\":\"white\",\"ticks\":\"\",\"title\":{\"standoff\":15},\"zerolinecolor\":\"white\",\"zerolinewidth\":2},\"yaxis\":{\"automargin\":true,\"gridcolor\":\"white\",\"linecolor\":\"white\",\"ticks\":\"\",\"title\":{\"standoff\":15},\"zerolinecolor\":\"white\",\"zerolinewidth\":2}}},\"width\":355.0,\"xaxis\":{\"range\":[0,355.0],\"visible\":false},\"yaxis\":{\"range\":[0,275.0],\"scaleanchor\":\"x\",\"visible\":false}},                        {\"doubleClick\": \"reset\", \"responsive\": true}                    ).then(function(){\n",
       "                            \n",
       "var gd = document.getElementById('27b12206-aeeb-4be9-9f9e-fd151ab66ff0');\n",
       "var x = new MutationObserver(function (mutations, observer) {{\n",
       "        var display = window.getComputedStyle(gd).display;\n",
       "        if (!display || display === 'none') {{\n",
       "            console.log([gd, 'removed!']);\n",
       "            Plotly.purge(gd);\n",
       "            observer.disconnect();\n",
       "        }}\n",
       "}});\n",
       "\n",
       "// Listen for the removal of the full notebook cells\n",
       "var notebookContainer = gd.closest('#notebook-container');\n",
       "if (notebookContainer) {{\n",
       "    x.observe(notebookContainer, {childList: true});\n",
       "}}\n",
       "\n",
       "// Listen for the clearing of the current output cell\n",
       "var outputEl = gd.closest('.output');\n",
       "if (outputEl) {{\n",
       "    x.observe(outputEl, {childList: true});\n",
       "}}\n",
       "\n",
       "                        })                };                });            </script>        </div>"
      ]
     },
     "metadata": {},
     "output_type": "display_data"
    }
   ],
   "source": [
    "#\n",
    "app.layout = html.Div([\n",
    "\thtml.Div([\n",
    "\t\thtml.Div([\n",
    "\t\t\thtml.Img(\n",
    "\t\t\t\tsrc=\"logo.jpg\",\n",
    "\t\t\t\tstyle={\"height\" : \"40px\", \"width\" : \"40px\", \"border-radius\":\"20px\"}\n",
    "\t\t\t)\n",
    "\t\t],style={\"float\":\"left\",\"padding\" : \"5px 0 5px 50px\"}),\n",
    "\t\thtml.Div(\n",
    "\t\t\tchildren=\"Classification and Quality Analysis of Rice\",\n",
    "\t\t\tstyle={\"float\":\"left\",\"padding\" : \"10px 0 10px 10px\",\"font-size\": \"17px\", \"font-weight\" :\"600\"}\n",
    "\t\t),\n",
    "\t\thtml.Div([\n",
    "\t\t\thtml.Div([html.A(\"Home\",href=\"#home\")], style={\"float\":\"left\",\"padding\":\"0 10px 0 10px\",\"align-items\": \"center\",\"font-size\": \"15px\", \"font-weight\" :\"600\"}),\n",
    "\t\t\thtml.Div([html.A(\"About Project\",href=\"#about-project\")], style={\"float\":\"left\",\"padding\":\"0 10px 0 10px\",\"align-items\": \"center\",\"font-size\": \"15px\", \"font-weight\" :\"600\"}),\n",
    "\t\t\thtml.Div([html.A(\"About Us\",href=\"#about-us\")], style={\"float\":\"left\",\"padding\":\"0 10px 0 10px\",\"align-items\": \"center\",\"font-size\": \"15px\", \"font-weight\" :\"600\"}),\n",
    "\t\t\thtml.Div([html.A(\"Source Code\",href=\"#bottom\")], style={\"float\":\"left\",\"padding\":\"0 10px 0 10px\",\"align-items\": \"center\",\"font-size\": \"15px\", \"font-weight\" :\"600\"}),\n",
    "\t\t],style={\"float\":\"right\", \"padding\": \"10px 50px 10px 0px\"})\n",
    "\t],className=\"nav\"),\n",
    "\thtml.Div([],style={\"height\":\"50px\"},id=\"home\"),\n",
    "\thtml.Div([\n",
    "\t\thtml.H1(children=\"Visualisation of Results\", style={\"text-align\":\"center\", \"margin\":\"0\", \"padding-bottom\" : \"20px\", \"color\" : \"whitesmoke\"}),\n",
    "\t\thtml.Div([\n",
    "\t\t\thtml.Div([\n",
    "\t\t\t\tdcc.Graph(figure=get_plot1(),id=\"graph1\"),\n",
    "\t\t\t\thtml.P(\"Original Image\", style={\"margin\":\"0\",\"padding-bottom\":\"10px\"})\n",
    "\t\t\t], style = {\"display\": \"block\", \"justify-content\": \"center\", \"align-items\": \"center\", \"padding\":\"0 20px 0 20px\"}),\n",
    "\t\t\thtml.Div([\n",
    "\t\t\t\tdcc.Graph(figure=get_plot2(),id=\"graph2\"),\n",
    "\t\t\t\thtml.P(\"Binary Image\", style={\"margin\":\"0\",\"padding-bottom\":\"10px\"})\n",
    "\t\t\t], style = {\"display\": \"block\", \"justify-content\": \"center\", \"align-items\": \"center\", \"padding\":\"0 20px 0 20px\"}),\n",
    "\t\t], style = {\"display\": \"flex\", \"justify-content\": \"center\", \"align-items\": \"center\", \"text-align\":\"center\"}),\n",
    "\t\thtml.Div([]),\n",
    "\t\thtml.Div([\n",
    "\t\t\thtml.Div([\n",
    "\t\t\t\tdcc.Upload([\n",
    "\t\t\t\t\t'Drag and Drop or ',\n",
    "\t\t\t\t\thtml.A('Select a File')\n",
    "\t\t\t\t],\n",
    "\t\t\t\tstyle={\n",
    "\t\t\t\t\t'width': '100%',\n",
    "\t\t\t\t\t'height': '60px',\n",
    "\t\t\t\t\t'lineHeight': '60px',\n",
    "\t\t\t\t\t'borderWidth': '1px',\n",
    "\t\t\t\t\t'borderStyle': 'dashed',\n",
    "\t\t\t\t\t'borderRadius': '5px',\n",
    "\t\t\t\t\t'textAlign': 'center'\n",
    "\t\t\t\t}, id=\"upload-image\"),\n",
    "\t\t\t], style = {\"display\": \"block\", \"justify-content\": \"center\", \"align-items\": \"center\", \"padding\":\"0 20px 0 20px\"}),\n",
    "\t\t], style = {\"display\": \"flex\", \"justify-content\": \"center\", \"align-items\": \"center\", \"text-align\":\"center\", \"width\" : \"100%\"})\n",
    "\t],style = {\"color\":\"black\", \"padding\" : \"20px 0 20px 0\", \"color\" : \"whitesmoke\"},id='plots'),\n",
    "\thtml.Div([\n",
    "\t\thtml.H1(children=\"Images\", style={\"text-align\":\"center\", \"margin\":\"0\", \"padding-bottom\" : \"20px\"}),\n",
    "\t\thtml.Div([\n",
    "\t\t\thtml.Div([\n",
    "\t\t\t\tdcc.Graph(figure=get_image(\"C:/Users/Garima/OneDrive/Research Methodology/Quality-Analysis-and-Classification-of-Rice-Grains-master/exp/img.jpg\"),id=\"img\"),\n",
    "\t\t\t\thtml.P(\"Original Image\", style={\"margin\":\"0\",\"padding-bottom\":\"10px\"})\n",
    "\t\t\t], style = {\"display\": \"block\", \"justify-content\": \"center\", \"align-items\": \"center\", \"padding\":\"0 20px 0 20px\"}),\n",
    "\t\t\thtml.Div([\n",
    "\t\t\t\tdcc.Graph(figure=get_image(\"C:/Users/Garima/OneDrive/Research Methodology/Quality-Analysis-and-Classification-of-Rice-Grains-master/exp/binary.jpg\"),id=\"binary\"),\n",
    "\t\t\t\thtml.P(\"Binary Image\", style={\"margin\":\"0\",\"padding-bottom\":\"10px\"})\n",
    "\t\t\t], style = {\"display\": \"block\", \"justify-content\": \"center\", \"align-items\": \"center\", \"padding\":\"0 20px 0 20px\"}),\n",
    "\t\t\thtml.Div([\n",
    "\t\t\t\tdcc.Graph(figure=get_image(\"C:/Users/Garima/OneDrive/Research Methodology/Quality-Analysis-and-Classification-of-Rice-Grains-master/exp/dst.jpg\"),id=\"dst\"),\n",
    "\t\t\t\thtml.P(\"Dust Image\", style={\"margin\":\"0\",\"padding-bottom\":\"10px\"})\n",
    "\t\t\t], style = {\"display\": \"block\", \"justify-content\": \"center\", \"align-items\": \"center\", \"padding\":\"0 20px 0 20px\"})\n",
    "\t\t], style = {\"display\": \"flex\", \"justify-content\": \"center\", \"align-items\": \"center\", \"text-align\":\"center\"}),\n",
    "\t\thtml.Div([]),\n",
    "\t\thtml.Div([\n",
    "\t\t\thtml.Div([\n",
    "\t\t\t\tdcc.Graph(figure=get_image(\"C:/Users/Garima/OneDrive/Research Methodology/Quality-Analysis-and-Classification-of-Rice-Grains-master/exp/erosion.jpg\"),id=\"erosion\"),\n",
    "\t\t\t\thtml.P(\"Erosion\", style={\"margin\":\"0\",\"padding-bottom\":\"10px\"})\n",
    "\t\t\t], style = {\"display\": \"block\", \"justify-content\": \"center\", \"align-items\": \"center\", \"padding\":\"0 20px 0 20px\"}),\n",
    "\t\t\thtml.Div([\n",
    "\t\t\t\tdcc.Graph(figure=get_image(\"C:/Users/Garima/OneDrive/Research Methodology/Quality-Analysis-and-Classification-of-Rice-Grains-master/exp/dilation.jpg\"),id=\"dilation\"),\n",
    "\t\t\t\thtml.P(\"Dilation\", style={\"margin\":\"0\",\"padding-bottom\":\"10px\"})\n",
    "\t\t\t], style = {\"display\": \"block\", \"justify-content\": \"center\", \"align-items\": \"center\", \"padding\":\"0 20px 0 20px\"}),\n",
    "\t\t\thtml.Div([\n",
    "\t\t\t\tdcc.Graph(figure=get_image(\"C:/Users/Garima/OneDrive/Research Methodology/Quality-Analysis-and-Classification-of-Rice-Grains-master/exp/edges.jpg\"),id=\"edges\"),\n",
    "\t\t\t\thtml.P(\"Edge Detection\", style={\"margin\":\"0\",\"padding-bottom\":\"10px\"})\n",
    "\t\t\t], style = {\"display\": \"block\", \"justify-content\": \"center\", \"align-items\": \"center\", \"padding\":\"0 20px 0 20px\"})\n",
    "\t\t], style = {\"display\": \"flex\", \"justify-content\": \"center\", \"align-items\": \"center\", \"text-align\":\"center\"})\n",
    "\t],style = {\"color\":\"black\", \"background-color\" : \"lightsteelblue\", \"border-radius\":\"40px 40px 40px 40px\", \"padding\" : \"20px 0 20px 0\"},id='images'),\n",
    "\thtml.Div([\n",
    "\t\thtml.H1(children=\"About Project\", style={\"text-align\":\"center\"}),\n",
    "\t\t#html.P(children=text1),\n",
    "\t\t#html.P(children=text2),\n",
    "\t\t#html.P(children=text3),\n",
    "\t\t#html.P(children=text4),\n",
    "\t\t#html.P(children=text5),\n",
    "\t\t#html.P(children=text6),\n",
    "\t],style = {\"color\":\"white\", \"padding\":\"10px 50px 10px 50px\"},id=\"about-project\")\n",
    "])\n",
    "\n"
   ]
  },
  {
   "cell_type": "code",
   "execution_count": 216,
   "id": "286af0fe",
   "metadata": {},
   "outputs": [],
   "source": [
    "#updating the outputs\n",
    "def update_output(list_of_contents):\n",
    "\tif list_of_contents is not None:\n",
    "\t\tind = str(list_of_contents).find(\",\")\n",
    "\t\tcla,av,av_ar = update_image(list_of_contents[ind:])\n",
    "\t\treturn get_image(\"img1.jpg\"), get_image(\"binary1.jpg\"), get_image(\"dst1.jpg\"), get_image(\"erosion1.jpg\"), get_image(\"dilation1.jpg\"), get_image(\"edges1.jpg\"), get_plot1(cla, av, av_ar), get_plot2(cla)\n",
    "\telse:\n",
    "\t\treturn get_image(\"img.jpg\"), get_image(\"binary.jpg\"), get_image(\"dst.jpg\"), get_image(\"erosion.jpg\"), get_image(\"dilation.jpg\"), get_image(\"edges.jpg\"), get_plot1(), get_plot2()\n"
   ]
  },
  {
   "cell_type": "code",
   "execution_count": 217,
   "id": "ab6aad9c",
   "metadata": {},
   "outputs": [
    {
     "name": "stdout",
     "output_type": "stream",
     "text": [
      "Dash is running on http://127.0.0.1:8050/\n",
      "\n",
      "Dash is running on http://127.0.0.1:8050/\n",
      "\n",
      "Dash is running on http://127.0.0.1:8050/\n",
      "\n",
      "Dash is running on http://127.0.0.1:8050/\n",
      "\n",
      "Dash is running on http://127.0.0.1:8050/\n",
      "\n",
      "Dash is running on http://127.0.0.1:8050/\n",
      "\n",
      "Dash is running on http://127.0.0.1:8050/\n",
      "\n",
      "Dash is running on http://127.0.0.1:8050/\n",
      "\n",
      "Dash is running on http://127.0.0.1:8050/\n",
      "\n",
      "Dash is running on http://127.0.0.1:8050/\n",
      "\n",
      "Dash is running on http://127.0.0.1:8050/\n",
      "\n",
      "Dash is running on http://127.0.0.1:8050/\n",
      "\n",
      " * Serving Flask app '__main__' (lazy loading)\n",
      " * Environment: production\n",
      "   WARNING: This is a development server. Do not use it in a production deployment.\n",
      "   Use a production WSGI server instead.\n",
      " * Debug mode: off\n"
     ]
    },
    {
     "name": "stderr",
     "output_type": "stream",
     "text": [
      " * Running on http://127.0.0.1:8050/ (Press CTRL+C to quit)\n",
      "127.0.0.1 - - [12/Aug/2021 11:53:30] \"GET / HTTP/1.1\" 200 -\n",
      "127.0.0.1 - - [12/Aug/2021 11:53:30] \"GET /_dash-dependencies HTTP/1.1\" 200 -\n",
      "127.0.0.1 - - [12/Aug/2021 11:53:30] \"GET /_dash-layout HTTP/1.1\" 200 -\n",
      "127.0.0.1 - - [12/Aug/2021 11:53:30] \"GET /_dash-component-suites/dash_core_components/async-graph.js HTTP/1.1\" 200 -\n",
      "127.0.0.1 - - [12/Aug/2021 11:53:30] \"GET /_dash-component-suites/dash_core_components/async-upload.js HTTP/1.1\" 200 -\n",
      "127.0.0.1 - - [12/Aug/2021 11:53:30] \"GET /logo.jpg HTTP/1.1\" 200 -\n",
      "127.0.0.1 - - [12/Aug/2021 11:53:31] \"GET /_dash-component-suites/dash_core_components/async-plotlyjs.js HTTP/1.1\" 200 -\n",
      "127.0.0.1 - - [12/Aug/2021 12:19:01] \"GET / HTTP/1.1\" 200 -\n",
      "127.0.0.1 - - [12/Aug/2021 12:19:02] \"GET /_dash-dependencies HTTP/1.1\" 200 -\n",
      "127.0.0.1 - - [12/Aug/2021 12:19:02] \"GET /_dash-layout HTTP/1.1\" 200 -\n",
      "127.0.0.1 - - [12/Aug/2021 12:19:02] \"GET /_dash-component-suites/dash_core_components/async-graph.js HTTP/1.1\" 200 -\n",
      "127.0.0.1 - - [12/Aug/2021 12:19:02] \"GET /_dash-component-suites/dash_core_components/async-upload.js HTTP/1.1\" 200 -\n",
      "127.0.0.1 - - [12/Aug/2021 12:19:02] \"GET /logo.jpg HTTP/1.1\" 200 -\n",
      "127.0.0.1 - - [12/Aug/2021 12:19:03] \"GET /_dash-component-suites/dash_core_components/async-plotlyjs.js HTTP/1.1\" 200 -\n",
      "127.0.0.1 - - [12/Aug/2021 12:20:02] \"GET / HTTP/1.1\" 200 -\n",
      "127.0.0.1 - - [12/Aug/2021 12:20:03] \"GET /_dash-dependencies HTTP/1.1\" 200 -\n",
      "127.0.0.1 - - [12/Aug/2021 12:20:03] \"GET /_dash-layout HTTP/1.1\" 200 -\n",
      "127.0.0.1 - - [12/Aug/2021 12:20:03] \"GET /_dash-component-suites/dash_core_components/async-graph.js HTTP/1.1\" 200 -\n",
      "127.0.0.1 - - [12/Aug/2021 12:20:03] \"GET /_dash-component-suites/dash_core_components/async-upload.js HTTP/1.1\" 200 -\n",
      "127.0.0.1 - - [12/Aug/2021 12:20:03] \"GET /logo.jpg HTTP/1.1\" 200 -\n",
      "127.0.0.1 - - [12/Aug/2021 12:20:03] \"GET /_dash-component-suites/dash_core_components/async-plotlyjs.js HTTP/1.1\" 200 -\n",
      "127.0.0.1 - - [12/Aug/2021 12:21:44] \"GET / HTTP/1.1\" 200 -\n",
      "127.0.0.1 - - [12/Aug/2021 12:21:45] \"GET /_dash-dependencies HTTP/1.1\" 200 -\n",
      "127.0.0.1 - - [12/Aug/2021 12:21:45] \"GET /_dash-layout HTTP/1.1\" 200 -\n",
      "127.0.0.1 - - [12/Aug/2021 12:21:45] \"GET /_dash-component-suites/dash_core_components/async-graph.js HTTP/1.1\" 200 -\n",
      "127.0.0.1 - - [12/Aug/2021 12:21:45] \"GET /_dash-component-suites/dash_core_components/async-upload.js HTTP/1.1\" 200 -\n",
      "127.0.0.1 - - [12/Aug/2021 12:21:45] \"GET /logo.jpg HTTP/1.1\" 200 -\n",
      "127.0.0.1 - - [12/Aug/2021 12:21:46] \"GET /_dash-component-suites/dash_core_components/async-plotlyjs.js HTTP/1.1\" 200 -\n",
      "127.0.0.1 - - [12/Aug/2021 12:21:59] \"GET / HTTP/1.1\" 200 -\n",
      "127.0.0.1 - - [12/Aug/2021 12:22:00] \"GET /_dash-dependencies HTTP/1.1\" 200 -\n",
      "127.0.0.1 - - [12/Aug/2021 12:22:00] \"GET /_dash-layout HTTP/1.1\" 200 -\n",
      "127.0.0.1 - - [12/Aug/2021 12:22:00] \"GET /_dash-component-suites/dash_core_components/async-graph.js HTTP/1.1\" 200 -\n",
      "127.0.0.1 - - [12/Aug/2021 12:22:00] \"GET /_dash-component-suites/dash_core_components/async-upload.js HTTP/1.1\" 200 -\n",
      "127.0.0.1 - - [12/Aug/2021 12:22:00] \"GET /logo.jpg HTTP/1.1\" 200 -\n",
      "127.0.0.1 - - [12/Aug/2021 12:22:01] \"GET /_dash-component-suites/dash_core_components/async-plotlyjs.js HTTP/1.1\" 200 -\n"
     ]
    }
   ],
   "source": [
    "#hosting the website\n",
    "if __name__ == '__main__':\n",
    "\tapp.run_server(debug=False)"
   ]
  },
  {
   "cell_type": "code",
   "execution_count": null,
   "id": "713db49e",
   "metadata": {},
   "outputs": [],
   "source": []
  }
 ],
 "metadata": {
  "kernelspec": {
   "display_name": "Python 3",
   "language": "python",
   "name": "python3"
  },
  "language_info": {
   "codemirror_mode": {
    "name": "ipython",
    "version": 3
   },
   "file_extension": ".py",
   "mimetype": "text/x-python",
   "name": "python",
   "nbconvert_exporter": "python",
   "pygments_lexer": "ipython3",
   "version": "3.9.0"
  }
 },
 "nbformat": 4,
 "nbformat_minor": 5
}
